{
  "cells": [
    {
      "cell_type": "markdown",
      "metadata": {
        "id": "qT4lcRBz3JKd"
      },
      "source": [
        "## Машинное обучение 1, ПМИ ФКН ВШЭ\n",
        "\n",
        "## Практическое домашнее задание 1\n",
        "\n",
        "### Общая информация\n",
        "\n",
        "Дата выдачи: 25.09.2024\n",
        "\n",
        "Мягкий дедлайн: 23:59MSK 06.10.2024\n",
        "\n",
        "Жесткий дедлайн: 23:59MSK 10.10.2024"
      ]
    },
    {
      "cell_type": "markdown",
      "metadata": {
        "id": "UzmZAvdT3JKf"
      },
      "source": [
        "### О задании\n",
        "\n",
        "Задание состоит из двух разделов, посвященных работе с табличными данными с помощью библиотеки `polars` и визуализации с помощью `matplotlib`. В первом разделе вам предстоит выполнить базовые задания с помощью вышеуказанных библиотек, а во втором распределить студентов по курсам. Баллы даются за выполнение отдельных пунктов. Задачи в рамках одного раздела рекомендуется решать в том порядке, в котором они даны в задании.\n",
        "\n",
        "Задание направлено на освоение jupyter notebook (будет использоваться в дальнейших заданиях), библиотек polars и matplotlib.\n",
        "\n",
        "### Оценивание и штрафы\n",
        "Каждая из задач имеет определенную «стоимость» (указана в скобках около задачи). Максимально допустимая оценка за работу — 10 баллов без учёта бонусов. Сдавать задание после жёсткого дедлайна нельзя.\n",
        "\n",
        "Задание выполняется самостоятельно. «Похожие» решения считаются плагиатом и все задействованные студенты (в том числе те, у кого списали) не могут получить за него больше 0 баллов (подробнее о плагиате см. на странице курса). Если вы нашли решение какого-то из заданий (или его часть) в открытом источнике, необходимо указать ссылку на этот источник (скорее всего вы будете не единственным, кто это нашел, поэтому чтобы исключить подозрение в плагиате, необходима ссылка на источник).\n",
        "\n",
        "### Формат сдачи\n",
        "Задания сдаются через систему Anytask. Инвайт можно получить у семинариста или ассистента. Присылать необходимо ноутбук с выполненным заданием. Сам ноутбук называйте в формате `homework-practice-01-polars-Username.ipynb`, где Username — ваша фамилия.\n",
        "\n",
        "Для удобства проверки самостоятельно посчитайте свою максимальную оценку (исходя из набора решенных задач) и укажите ниже.\n",
        "\n",
        "Оценка: xx."
      ]
    },
    {
      "cell_type": "markdown",
      "metadata": {
        "id": "bQMq9hxz3JKg"
      },
      "source": [
        "## 0. Введение"
      ]
    },
    {
      "cell_type": "markdown",
      "metadata": {
        "id": "rDm3xw-Y3JKg"
      },
      "source": [
        "Сейчас мы находимся в jupyter-ноутбуке (или ipython-ноутбуке). Это удобная среда для написания кода, проведения экспериментов, изучения данных, построения визуализаций и других нужд, не связанных с написанием production-кода.\n",
        "\n",
        "Ноутбук состоит из ячеек, каждая из которых может быть либо ячейкой с кодом, либо ячейкой с текстом размеченным и неразмеченным. Текст поддерживает markdown-разметку и формулы в Latex.\n",
        "\n",
        "Для работы с содержимым ячейки используется *режим редактирования* (*Edit mode*, включается нажатием клавиши **Enter** после выбора ячейки), а для навигации между ячейками искользуется *командный режим* (*Command mode*, включается нажатием клавиши **Esc**). Тип ячейки можно задать в командном режиме либо с помощью горячих клавиш (**y** to code, **m** to markdown, **r** to edit raw text), либо в меню *Cell -> Cell type*.\n",
        "\n",
        "После заполнения ячейки нужно нажать *Shift + Enter*, эта команда обработает содержимое ячейки: проинтерпретирует код или сверстает размеченный текст."
      ]
    },
    {
      "cell_type": "code",
      "execution_count": 1,
      "metadata": {
        "colab": {
          "base_uri": "https://localhost:8080/"
        },
        "id": "OEmmbrlv3JKh",
        "outputId": "82c7089d-c16e-440e-9b2a-67437f54efa5"
      },
      "outputs": [
        {
          "data": {
            "text/plain": [
              "4"
            ]
          },
          "execution_count": 1,
          "metadata": {},
          "output_type": "execute_result"
        }
      ],
      "source": [
        "# ячейка с кодом, при выполнении которой появится output\n",
        "2 + 2"
      ]
    },
    {
      "cell_type": "markdown",
      "metadata": {
        "id": "pHuI1gxN3JKi"
      },
      "source": [
        "Ячейка с неразмеченыным текстом."
      ]
    },
    {
      "cell_type": "markdown",
      "metadata": {
        "id": "7Od1jM9q3JKi"
      },
      "source": [
        "Попробуйте создать свои ячейки, написать какой-нибудь код и текст какой-нибудь формулой."
      ]
    },
    {
      "cell_type": "code",
      "execution_count": 2,
      "metadata": {
        "colab": {
          "base_uri": "https://localhost:8080/"
        },
        "id": "bmR2-3Ut3JKi",
        "outputId": "4cc4a8a0-1bcc-4e50-e9a5-daf43b189740"
      },
      "outputs": [
        {
          "name": "stdout",
          "output_type": "stream",
          "text": [
            "\\esokolov\n"
          ]
        },
        {
          "name": "stderr",
          "output_type": "stream",
          "text": [
            "<>:2: SyntaxWarning: invalid escape sequence '\\e'\n",
            "<>:2: SyntaxWarning: invalid escape sequence '\\e'\n",
            "/var/folders/c1/2f76vwg555g_fgmfcx7m_j2w0000gn/T/ipykernel_19467/3899863378.py:2: SyntaxWarning: invalid escape sequence '\\e'\n",
            "  print('\\esokolov')\n"
          ]
        }
      ],
      "source": [
        "# your code\n",
        "print('\\esokolov')"
      ]
    },
    {
      "cell_type": "markdown",
      "metadata": {
        "id": "eNSsZ84J3JKj"
      },
      "source": [
        "[Здесь](https://athena.brynmawr.edu/jupyter/hub/dblank/public/Jupyter%20Notebook%20Users%20Manual.ipynb) находится <s>не</s>большая заметка о используемом языке разметки Markdown. Он позволяет:\n",
        "\n",
        "0. Составлять упорядоченные списки\n",
        "1. Выделять *текст* <s>при</s> **необходимости**\n",
        "2. Добавлять [ссылки](http://imgs.xkcd.com/comics/the_universal_label.png)\n",
        "\n",
        "\n",
        "* Составлять неупорядоченные списки\n",
        "\n",
        "Делать вставки с помощью LaTex:\n",
        "    \n",
        "$\n",
        "\\left\\{\n",
        "\\begin{array}{ll}\n",
        "x = 16 \\sin^3 (t) \\\\\n",
        "y = 13 \\cos (t) - 5 \\cos (2t) - 2 \\cos (3t) - \\cos (4t) \\\\\n",
        "t \\in [0, 2 \\pi]\n",
        "\\end{array}\n",
        "\\right.$"
      ]
    },
    {
      "cell_type": "markdown",
      "metadata": {
        "id": "lmR9WkMh3JKj"
      },
      "source": [
        "А ещё можно вставлять картинки, или гифки, или что захотите:\n",
        "\n",
        "<img src=\"https://i.imgur.com/k5df8lX.gif\" width=\"400px\">\n",
        "\n"
      ]
    },
    {
      "cell_type": "markdown",
      "metadata": {
        "id": "dPLYl66y3JKj"
      },
      "source": [
        "### Google Colab"
      ]
    },
    {
      "cell_type": "markdown",
      "metadata": {
        "id": "A4lqG21G3JKj"
      },
      "source": [
        "Что за колаб?\n",
        "\n",
        "**Google Colab (Colaboratory)** это **Jupyter Notebook + Cloud + Google Drive.**\n",
        "\n",
        "Компания Google предоставляет возможность бесплатно запускать ноутбуки (предварительно загрузив их на свой гугл-диск) прямо в облаке. При этом вам не требуется установка никаких пакетов на свою машину, а работать можно прямиком из браузера. Вот ссылка:"
      ]
    },
    {
      "cell_type": "markdown",
      "metadata": {
        "id": "79bVOFY_3JKj"
      },
      "source": [
        "https://colab.research.google.com"
      ]
    },
    {
      "cell_type": "markdown",
      "metadata": {
        "id": "LnMoUH2P3JKj"
      },
      "source": [
        "При использовании вы увидите много сходств с jupyter ноутбуком. Одним из преимуществ является доступность GPU, соответствующую опцию можно активировать в настройках сервиса. При желании вы сможете найти в интернете много туториалов по использованию или разобраться самостоятельно =)"
      ]
    },
    {
      "cell_type": "markdown",
      "metadata": {
        "id": "iAb44N3VjD11"
      },
      "source": [
        "### Kaggle\n",
        "\n",
        "Альтернативой является **Kaggle**, он же площадка для самых разных соревнований по машинному обучению\n",
        "\n",
        "Он, как и колаб, предоставляет бесплатный GPU, и даже не один, с чётким лимитом в 30 часов в неделю (colab может его внезапно отобрать, kaggle - нет) более мощные CPU с большим числом ядер, и больше Гб ОЗУ (раз так в 2.5)\n",
        "\n",
        "https://www.kaggle.com\n",
        "\n",
        "К сожалению мир не идеален, недостатки следующие:\n",
        "- необходимость загружать датасеты через специальную кнопочку\n",
        "- невозможность использовать свои скрипты и модули :(\n",
        "- нужно тыкать техподдержку, чтобы создать аккаунт из России"
      ]
    },
    {
      "cell_type": "markdown",
      "metadata": {
        "id": "91bWX9jd3JKk"
      },
      "source": [
        "## 1. Табличные данные и Polars"
      ]
    },
    {
      "cell_type": "markdown",
      "metadata": {
        "id": "Z9L3rKBm3JKk"
      },
      "source": [
        "Эта версия домашки предполагает, что вы уже являетесь уверенным пользователем `pandas` и знакомы с датафреймами, как они устроены и как ими манипулировать. Библиотека `polars` основана на тех же концептах.\n",
        "\n",
        "Главные достоинства, которые чуть позже продемонстрируем:\n",
        "- он написан на Rust, поэтому почти все операции в нём выполняются значительно быстрее, есть распараллеливание из коробки, автоматическая оптимизация запросов и пр\n",
        "- он позволяет работать с данными, которые не помещаются в оперативку, с этим поможет `pl.LazyFrame` и streaming\n",
        "- конечно же имеются дополнительные функции, которых в `pandas` нет, но очень хочется, например агрегации с расширяющимся окном, произвольные оконные функции и прочее, для этого есть крайне гибкая штука `pl.Expr`\n",
        "\n",
        "Подробнее можете прочитать на [любом](https://habr.com/ru/articles/710240/) [ресурсе](https://realpython.com/polars-python/), [посвящённом](https://blog.jetbrains.com/pycharm/2024/07/polars-vs-pandas/) [`polars`](https://habr.com/ru/companies/spectr/articles/738766/)\n",
        "\n",
        "В этой части потребуется выполнить несколько небольших заданий. Можно пойти двумя путями: сначала изучить материалы, а потом приступить к заданиям, или же разбираться \"по ходу\". Выбирайте сами\n",
        "\n",
        "Если не понятно, как вызывать конкретный метод, обратитесь к материалам ниже. Имейте в виду, что синтаксис `polars` отличается от привычного нампаевского.\n",
        "Скорее всего все ваши самые извращённые фантазии уже как-то реализованы в `polars`, поэтому читайте внимательно. Ну и конечно гуглить не запрещено, но желательно прикладывать источник\n",
        "\n",
        "Материалы:\n",
        "1. [Getting started](https://docs.pola.rs/user-guide/getting-started/#reading-writing) из официального руководства\n",
        "2. [Документация](https://docs.pola.rs/api/python/stable/reference/index.html) со всем необходимым\n",
        "3. [Модификация для Data Science](https://polars-ds-extension.readthedocs.io/en/latest/index.html), вам скорее всего не понадобится в данном задании, но имейте в виду\n",
        "\n",
        "Многие из заданий можно выполнить несколькими способами. Не существуют единственно верного, но попробуйте максимально задействовать арсенал polars и ориентируйтесь на простоту и понятность вашего кода. Мы не будем подсказывать, что нужно использовать для решения конкретной задачи, попробуйте находить необходимый функционал сами (название метода чаще всего очевидно)"
      ]
    },
    {
      "cell_type": "code",
      "execution_count": 3,
      "metadata": {
        "colab": {
          "base_uri": "https://localhost:8080/"
        },
        "id": "TwYQ-X_Q-m2A",
        "outputId": "5ae185f7-7f7b-4e0b-f41f-f1c826f614f4"
      },
      "outputs": [],
      "source": [
        "# поларс относительно молодой, имейте в виду, что что-то может сломаться, если будете менять версию\n",
        "!pip3 install -qU hvplot xlsx2csv polars==1.5.0"
      ]
    },
    {
      "cell_type": "code",
      "execution_count": 4,
      "metadata": {
        "id": "72smvZpD3JKk"
      },
      "outputs": [],
      "source": [
        "import polars as pl"
      ]
    },
    {
      "cell_type": "markdown",
      "metadata": {
        "id": "hX2zRkMI3JKk"
      },
      "source": [
        "Скачаем данные:"
      ]
    },
    {
      "cell_type": "code",
      "execution_count": 5,
      "metadata": {
        "id": "a4wqrhEA3JKk"
      },
      "outputs": [],
      "source": [
        "!wget  -O 'end_seminar.xlsx' -q 'https://www.dropbox.com/s/f4rm8sjc3v99p0m/_end_seminar.xlsx?dl=0'"
      ]
    },
    {
      "cell_type": "markdown",
      "metadata": {
        "id": "joackhzP3JKl"
      },
      "source": [
        "Для пользователей Windows: скачайте файл самостоятельно и поместите его в папку с тетрадкой. Или попробуйте один из следующих вариантов:"
      ]
    },
    {
      "cell_type": "code",
      "execution_count": 6,
      "metadata": {
        "id": "yhc9NUeE3JKl"
      },
      "outputs": [],
      "source": [
        "# !powershell iwr -outf somefile https://somesite/somefile"
      ]
    },
    {
      "cell_type": "code",
      "execution_count": 7,
      "metadata": {
        "id": "FxbRPi183JKl"
      },
      "outputs": [],
      "source": [
        "# !pip install wget\n",
        "# import wget\n",
        "# wget.download('https://dropbox.com/s/f4rm8sjc3v99p0m/_end_seminar.xlsx?dl=1', 'end_seminar.xlsx')"
      ]
    },
    {
      "cell_type": "markdown",
      "metadata": {
        "id": "5hIwLXz43JKl"
      },
      "source": [
        "### 📌 **Обязательно прочитайте блок ниже**\n",
        "\n",
        "> Пандасом и нампаем пользоваться неельзяя... Совсем\n",
        "\n",
        "> В первой части задания (до раздела \"Распределение студентов по курсам\") использование циклов запрещается и повлечет за собой снижение оценки. Во второй уже можно, но с оговорками, о чём ниже\n",
        "\n",
        "> Циклами в данном случае считается `for`, `while` и map-методы `polars`, где можно использовать лямбда-функцию. Главным образом `map_elements` и его производные.\n",
        "И как правило, всё то, что не умеет делать `pl.LazyFrame` - список [здесь](https://docs.pola.rs/api/python/stable/reference/lazyframe/index.html). Мотивация следующая - используя встроенные функции и методы, `polars` может оптимизировать ваш запрос и провести все нужные манипуляции, прежде чем сериализовать и вывести ответ (за некоторыми исключениями), поэтому важно научиться с этим управляться\n",
        "\n",
        "> Чтобы сделать выбор `polars` осмысленным, мы немножко модифицируем исходный датасет. Он будет больше в несколько раз и может не влезть в память, если у вас меньше 8 Гб, а с учётом преобразований может потребоваться до 64 Гб! Не пренебрегайте возможностями `pl.LazyFrame`. Его использование не обязательно, но может сильно облегчить вам жизнь\n",
        "\n",
        "> Трансформировать датасет `df` можно, как только это потребуется по условию (таких пунктов всего 2), на всякий случай поставим значок 🔄\n",
        "\n",
        "> Если небрежно обращаться с методами `polars`, вы рискуете крашнуть ядро, взорвать компутер, потерять рассудок... Если вдруг у вас есть тачка или хотите подебажить на исходном датасете, то пожалуйста, но помните про условия выше\n",
        "\n",
        "> Гарантируется, что задание можно выполнить, имея лишь ресурсы Google Colab (бесплатные), удачи ( ͡° ͜ʖ ͡°)"
      ]
    },
    {
      "cell_type": "markdown",
      "metadata": {
        "id": "das_ZBWy3JKl"
      },
      "source": [
        "Для каждой задачи из этого раздела вы должны написать код для получения ответа, а также дать текстовый ответ, если он предполагается.\n",
        "\n",
        "На некоторые вопросы вы можете получить путём пристального взгляда на таблицу, но это не будет засчитываться. Вы в любом случае должны получить ответ с помощью кода."
      ]
    },
    {
      "cell_type": "markdown",
      "metadata": {
        "id": "7L9UmKvHSBhk"
      },
      "source": [
        "### 🐻 Бонус polars. [3 балла]\n",
        "Бонус за использование `polars` равен вашей оценке за дз, умноженной на коэффициент 1.3, поэтому даже если сделали не всё, не отчаивайтесь)"
      ]
    },
    {
      "cell_type": "markdown",
      "metadata": {
        "id": "KH2B5XPBDlgp"
      },
      "source": [
        "#### 0. Ещё пара красивых слов"
      ]
    },
    {
      "cell_type": "markdown",
      "metadata": {
        "id": "-pO9LsL5Dsds"
      },
      "source": [
        "Первые несколько манипуляций мы сделаем за вас, а заодно поясним, в чём тут нюанс"
      ]
    },
    {
      "cell_type": "code",
      "execution_count": 780,
      "metadata": {
        "colab": {
          "base_uri": "https://localhost:8080/"
        },
        "id": "Ee0QXmptDrX7",
        "outputId": "8056b94a-8f79-4ede-aaba-61a9e50d10f4"
      },
      "outputs": [
        {
          "name": "stdout",
          "output_type": "stream",
          "text": [
            "361 rows\n",
            "0.14590072631835938 mb\n"
          ]
        }
      ],
      "source": [
        "# читаем датафрейм\n",
        "initial_df = pl.read_excel(\"end_seminar.xlsx\", engine=\"xlsx2csv\")\n",
        "print(initial_df.shape[0], \"rows\")\n",
        "print(initial_df.estimated_size(\"mb\"), \"mb\")"
      ]
    },
    {
      "cell_type": "markdown",
      "metadata": {
        "id": "P0nMQNXCD1IO"
      },
      "source": [
        "Как видим, он достаточно маленький. С такими объёмами выбор библиотеки это чисто вкусовщина. Давайте немного поднимем ставки"
      ]
    },
    {
      "cell_type": "code",
      "execution_count": 781,
      "metadata": {
        "id": "PzBRfWY1ECOV"
      },
      "outputs": [],
      "source": [
        "def repeat_df(df: pl.DataFrame | pl.LazyFrame, n: int = 2) -> pl.LazyFrame:\n",
        "    return (\n",
        "        df.lazy()\n",
        "        .select(pl.col(\"timestamp\").unique().sort().repeat_by(n).flatten())\n",
        "        .join(df.lazy(), on=\"timestamp\", how=\"left\")\n",
        "    )"
      ]
    },
    {
      "cell_type": "markdown",
      "metadata": {
        "id": "loouiViPEHGJ"
      },
      "source": [
        "Для работы с датафреймами, которые в память не влезают, нам понадобится объект `pl.LazyFrame`. Он представляет из себя схему выполнения вашего запроса, который оптимизируется, бьётся на батчи и параллелится под капотом через StreamingAPI, что для нас просто идеально. Перевести объект туда можно через метод `lazy`, обратно через `collect`. Учтите, что `streaming=True` работает не со всеми операциями, применяйте с умом, это можно проверить через `pl.LazyFrame.explain(streaming=True)`"
      ]
    },
    {
      "cell_type": "code",
      "execution_count": 782,
      "metadata": {
        "colab": {
          "base_uri": "https://localhost:8080/"
        },
        "id": "OvTbmiSjEEfA",
        "outputId": "efc44dc9-30da-42d0-f2ac-b73cae9c9b6b"
      },
      "outputs": [
        {
          "name": "stdout",
          "output_type": "stream",
          "text": [
            "Schema\n",
            "LEFT JOIN:\n",
            "LEFT PLAN ON: [col(\"timestamp\")]\n",
            "   SELECT [col(\"timestamp\").unique().sort(asc).repeat_by([dyn int: 2]).explode()] FROM\n",
            "    STREAMING:\n",
            "      DF [\"timestamp\", \"id\", \"rating\", \"18_group\"]; PROJECT 1/16 COLUMNS; SELECTION: None\n",
            "RIGHT PLAN ON: [col(\"timestamp\")]\n",
            "  DF [\"timestamp\", \"id\", \"rating\", \"18_group\"]; PROJECT */16 COLUMNS; SELECTION: None\n",
            "END LEFT JOIN\n"
          ]
        }
      ],
      "source": [
        "repeat_n = 2\n",
        "\n",
        "repeated_df = repeat_df(initial_df, repeat_n)\n",
        "print(\"Schema\")\n",
        "print(repeated_df.explain(streaming=True, optimized=True))"
      ]
    },
    {
      "cell_type": "code",
      "execution_count": 783,
      "metadata": {
        "colab": {
          "base_uri": "https://localhost:8080/"
        },
        "id": "7geBTZI6F691",
        "outputId": "c32fa98f-c571-4b68-d172-ee46c6b9b11d"
      },
      "outputs": [
        {
          "name": "stdout",
          "output_type": "stream",
          "text": [
            "722 rows\n",
            "0.2917900085449219 mb\n"
          ]
        }
      ],
      "source": [
        "# как видим, повторы работают\n",
        "repeated_df = repeated_df.collect()\n",
        "assert repeated_df.shape[0] == initial_df.shape[0] * repeat_n\n",
        "print(repeated_df.shape[0], \"rows\")\n",
        "print(repeated_df.estimated_size(\"mb\"), \"mb\")"
      ]
    },
    {
      "cell_type": "markdown",
      "metadata": {
        "id": "00wHctZJGe8s"
      },
      "source": [
        "Теперь ещё интереснее. Если бы наш датасет был не в 2 раза больше, а в 100000 раз, что бы мы делали? К счастью для нас, поларс может уместить 300кк строк всего лишь в 512Мб, и это даже не прикол, но работать с этим придётся немного иначе"
      ]
    },
    {
      "cell_type": "code",
      "execution_count": 784,
      "metadata": {
        "colab": {
          "base_uri": "https://localhost:8080/"
        },
        "id": "jm93pikEGqJi",
        "outputId": "ef9c93d0-c870-4974-e371-296a5b2c23cb"
      },
      "outputs": [
        {
          "name": "stdout",
          "output_type": "stream",
          "text": [
            "14.248117804527283 gb\n"
          ]
        }
      ],
      "source": [
        "N = 100000\n",
        "\n",
        "df = repeat_df(initial_df, N)\n",
        "print(initial_df.estimated_size(\"gb\") * N, \"gb\")"
      ]
    },
    {
      "cell_type": "markdown",
      "metadata": {
        "id": "MGMtuNEiG-xH"
      },
      "source": [
        "Поэтому даже такая тривиальная задача, как подсчёт строк становится уже не такой простой. Про это и будет дз"
      ]
    },
    {
      "cell_type": "code",
      "execution_count": 785,
      "metadata": {
        "colab": {
          "base_uri": "https://localhost:8080/"
        },
        "id": "pKo9lSvnHlgW",
        "outputId": "f2ce01a8-1316-4d0f-f6e6-1f82091abbdf"
      },
      "outputs": [
        {
          "name": "stdout",
          "output_type": "stream",
          "text": [
            "ой, не получилось...\n"
          ]
        }
      ],
      "source": [
        "try:\n",
        "    print(df.shape[0], \"rows\")\n",
        "except AttributeError:\n",
        "    print(\"ой, не получилось...\")\n",
        "\n",
        "# df.collect().shape[0] # тоже можно, если влезет\n",
        "# len(df.collect().to_pandas()) # а такое может крашнуть ядро, попробуйте, хехе..."
      ]
    },
    {
      "cell_type": "code",
      "execution_count": 786,
      "metadata": {
        "colab": {
          "base_uri": "https://localhost:8080/"
        },
        "id": "mt-cWy3LHhvR",
        "outputId": "cc6283c4-0aac-4ec7-db3d-de68fe138ca2"
      },
      "outputs": [
        {
          "name": "stdout",
          "output_type": "stream",
          "text": [
            "36100000 rows\n"
          ]
        }
      ],
      "source": [
        "def lazy_len(df: pl.LazyFrame) -> int:\n",
        "    return df.select(pl.len()).collect().item()\n",
        "\n",
        "\n",
        "rows = lazy_len(df)  # намного экономнее, потому что оптимизировано под капотом\n",
        "assert rows == initial_df.shape[0] * N\n",
        "print(rows, \"rows\")"
      ]
    },
    {
      "cell_type": "markdown",
      "metadata": {
        "id": "JZd3QSTo3JKl"
      },
      "source": [
        "#### 1. [0.5 баллов] Откройте файл с таблицей (не забудьте про её формат). Выведите 3 последних строки\n",
        "\n",
        "Посмотрите на данные и скажите, что они из себя представляют, сколько в таблице строк, какие столбцы? (на это не надо отвечать, просто подумайте об этом)"
      ]
    },
    {
      "cell_type": "code",
      "execution_count": 787,
      "metadata": {
        "colab": {
          "base_uri": "https://localhost:8080/"
        },
        "id": "vGgsPqi44gcn",
        "outputId": "16afbdb6-1065-49b0-a803-09a1ff4fc34e"
      },
      "outputs": [
        {
          "name": "stderr",
          "output_type": "stream",
          "text": [
            "/var/folders/c1/2f76vwg555g_fgmfcx7m_j2w0000gn/T/ipykernel_19467/3289350417.py:1: PerformanceWarning: Determining the column names of a LazyFrame requires resolving its schema, which is a potentially expensive operation. Use `LazyFrame.collect_schema().names()` to get the column names without this warning.\n",
            "  df.columns\n"
          ]
        },
        {
          "data": {
            "text/plain": [
              "['timestamp',\n",
              " 'id',\n",
              " 'rating',\n",
              " '18_group',\n",
              " 'is_mi',\n",
              " 'fall_1',\n",
              " 'fall_2',\n",
              " 'fall_3',\n",
              " 'spring_1',\n",
              " 'spring_2',\n",
              " 'spring_3',\n",
              " 'is_first_time',\n",
              " 'percentile',\n",
              " '17_group',\n",
              " 'blended',\n",
              " 'is_ml_student']"
            ]
          },
          "execution_count": 787,
          "metadata": {},
          "output_type": "execute_result"
        }
      ],
      "source": [
        "df.columns"
      ]
    },
    {
      "cell_type": "code",
      "execution_count": 788,
      "metadata": {
        "colab": {
          "base_uri": "https://localhost:8080/",
          "height": 305
        },
        "id": "FArd5QGESdyO",
        "outputId": "8552ba69-8c33-4d65-beac-2508026d0467"
      },
      "outputs": [
        {
          "data": {
            "text/html": [
              "<div><style>\n",
              ".dataframe > thead > tr,\n",
              ".dataframe > tbody > tr {\n",
              "  text-align: right;\n",
              "  white-space: pre-wrap;\n",
              "}\n",
              "</style>\n",
              "<small>shape: (3, 16)</small><table border=\"1\" class=\"dataframe\"><thead><tr><th>timestamp</th><th>id</th><th>rating</th><th>18_group</th><th>is_mi</th><th>fall_1</th><th>fall_2</th><th>fall_3</th><th>spring_1</th><th>spring_2</th><th>spring_3</th><th>is_first_time</th><th>percentile</th><th>17_group</th><th>blended</th><th>is_ml_student</th></tr><tr><td>str</td><td>str</td><td>i64</td><td>i64</td><td>i64</td><td>str</td><td>str</td><td>str</td><td>str</td><td>str</td><td>str</td><td>str</td><td>f64</td><td>str</td><td>str</td><td>bool</td></tr></thead><tbody><tr><td>&quot;2020-05-24 01:23:31&quot;</td><td>&quot;9d19b0d5f4fc8d7edc2258406f872c…</td><td>695</td><td>188</td><td>null</td><td>&quot;Безопасность компьютерных сист…</td><td>&quot;Язык SQL&quot;</td><td>&quot;Высокопроизводительные вычисле…</td><td>&quot;Компьютерные сети&quot;</td><td>&quot;Дискретная оптимизация&quot;</td><td>&quot;Численные методы&quot;</td><td>null</td><td>0.197309</td><td>null</td><td>null</td><td>null</td></tr><tr><td>&quot;2020-05-24 01:23:31&quot;</td><td>&quot;9d19b0d5f4fc8d7edc2258406f872c…</td><td>695</td><td>188</td><td>null</td><td>&quot;Безопасность компьютерных сист…</td><td>&quot;Язык SQL&quot;</td><td>&quot;Высокопроизводительные вычисле…</td><td>&quot;Компьютерные сети&quot;</td><td>&quot;Дискретная оптимизация&quot;</td><td>&quot;Численные методы&quot;</td><td>null</td><td>0.197309</td><td>null</td><td>null</td><td>null</td></tr><tr><td>&quot;2020-05-24 01:23:31&quot;</td><td>&quot;9d19b0d5f4fc8d7edc2258406f872c…</td><td>695</td><td>188</td><td>null</td><td>&quot;Безопасность компьютерных сист…</td><td>&quot;Язык SQL&quot;</td><td>&quot;Высокопроизводительные вычисле…</td><td>&quot;Компьютерные сети&quot;</td><td>&quot;Дискретная оптимизация&quot;</td><td>&quot;Численные методы&quot;</td><td>null</td><td>0.197309</td><td>null</td><td>null</td><td>null</td></tr></tbody></table></div>"
            ],
            "text/plain": [
              "shape: (3, 16)\n",
              "┌─────────────┬─────────────┬────────┬──────────┬───┬────────────┬──────────┬─────────┬────────────┐\n",
              "│ timestamp   ┆ id          ┆ rating ┆ 18_group ┆ … ┆ percentile ┆ 17_group ┆ blended ┆ is_ml_stud │\n",
              "│ ---         ┆ ---         ┆ ---    ┆ ---      ┆   ┆ ---        ┆ ---      ┆ ---     ┆ ent        │\n",
              "│ str         ┆ str         ┆ i64    ┆ i64      ┆   ┆ f64        ┆ str      ┆ str     ┆ ---        │\n",
              "│             ┆             ┆        ┆          ┆   ┆            ┆          ┆         ┆ bool       │\n",
              "╞═════════════╪═════════════╪════════╪══════════╪═══╪════════════╪══════════╪═════════╪════════════╡\n",
              "│ 2020-05-24  ┆ 9d19b0d5f4f ┆ 695    ┆ 188      ┆ … ┆ 0.197309   ┆ null     ┆ null    ┆ null       │\n",
              "│ 01:23:31    ┆ c8d7edc2258 ┆        ┆          ┆   ┆            ┆          ┆         ┆            │\n",
              "│             ┆ 406f872c…   ┆        ┆          ┆   ┆            ┆          ┆         ┆            │\n",
              "│ 2020-05-24  ┆ 9d19b0d5f4f ┆ 695    ┆ 188      ┆ … ┆ 0.197309   ┆ null     ┆ null    ┆ null       │\n",
              "│ 01:23:31    ┆ c8d7edc2258 ┆        ┆          ┆   ┆            ┆          ┆         ┆            │\n",
              "│             ┆ 406f872c…   ┆        ┆          ┆   ┆            ┆          ┆         ┆            │\n",
              "│ 2020-05-24  ┆ 9d19b0d5f4f ┆ 695    ┆ 188      ┆ … ┆ 0.197309   ┆ null     ┆ null    ┆ null       │\n",
              "│ 01:23:31    ┆ c8d7edc2258 ┆        ┆          ┆   ┆            ┆          ┆         ┆            │\n",
              "│             ┆ 406f872c…   ┆        ┆          ┆   ┆            ┆          ┆         ┆            │\n",
              "└─────────────┴─────────────┴────────┴──────────┴───┴────────────┴──────────┴─────────┴────────────┘"
            ]
          },
          "execution_count": 788,
          "metadata": {},
          "output_type": "execute_result"
        }
      ],
      "source": [
        "# your code here\n",
        "df.tail(3).collect()"
      ]
    },
    {
      "cell_type": "markdown",
      "metadata": {
        "id": "o74LHRbU3JKl"
      },
      "source": [
        "### Ответьте на вопросы:\n",
        "1. Сколько было уникальных пользователей из групп 18-го года набора, а сколько из групп 17-го года?"
      ]
    },
    {
      "cell_type": "code",
      "execution_count": 789,
      "metadata": {
        "colab": {
          "base_uri": "https://localhost:8080/"
        },
        "id": "DHtozTKOopMi",
        "outputId": "f2870bbf-c294-4e38-c5f5-c51d977330d2"
      },
      "outputs": [
        {
          "data": {
            "text/plain": [
              "213"
            ]
          },
          "execution_count": 789,
          "metadata": {},
          "output_type": "execute_result"
        }
      ],
      "source": [
        "df.filter(pl.col(\"18_group\").is_not_null()).select(pl.col(\"id\").unique()).count().collect()['id'][0]"
      ]
    },
    {
      "cell_type": "code",
      "execution_count": 790,
      "metadata": {
        "colab": {
          "base_uri": "https://localhost:8080/"
        },
        "id": "Am7FLW12qQ28",
        "outputId": "8b47f6cd-756c-4cc3-fa71-97f028808834"
      },
      "outputs": [
        {
          "data": {
            "text/plain": [
              "134"
            ]
          },
          "execution_count": 790,
          "metadata": {},
          "output_type": "execute_result"
        }
      ],
      "source": [
        "df.filter(pl.col(\"17_group\").is_not_null()).select(pl.col(\"id\").unique()).count().collect()['id'][0]"
      ]
    },
    {
      "cell_type": "markdown",
      "metadata": {
        "id": "nKYih84LTNfe"
      },
      "source": [
        "2. Есть ли уникальные студенты с равными перцентилями?"
      ]
    },
    {
      "cell_type": "code",
      "execution_count": 791,
      "metadata": {
        "colab": {
          "base_uri": "https://localhost:8080/",
          "height": 125
        },
        "id": "VlZxsjoO9964",
        "outputId": "9996daa0-dcb1-44b9-f06f-d42c76d66df0"
      },
      "outputs": [
        {
          "data": {
            "text/html": [
              "<div><style>\n",
              ".dataframe > thead > tr,\n",
              ".dataframe > tbody > tr {\n",
              "  text-align: right;\n",
              "  white-space: pre-wrap;\n",
              "}\n",
              "</style>\n",
              "<small>shape: (1, 2)</small><table border=\"1\" class=\"dataframe\"><thead><tr><th>percentile</th><th>unique_ids</th></tr><tr><td>f64</td><td>list[str]</td></tr></thead><tbody><tr><td>0.0</td><td>[&quot;3e106aaef8b24dbb01319c73e14c2936&quot;, &quot;3a7326c9e355a67d3805824ca34c4bc5&quot;]</td></tr></tbody></table></div>"
            ],
            "text/plain": [
              "shape: (1, 2)\n",
              "┌────────────┬─────────────────────────────────┐\n",
              "│ percentile ┆ unique_ids                      │\n",
              "│ ---        ┆ ---                             │\n",
              "│ f64        ┆ list[str]                       │\n",
              "╞════════════╪═════════════════════════════════╡\n",
              "│ 0.0        ┆ [\"3e106aaef8b24dbb01319c73e14c… │\n",
              "└────────────┴─────────────────────────────────┘"
            ]
          },
          "execution_count": 791,
          "metadata": {},
          "output_type": "execute_result"
        }
      ],
      "source": [
        "# your code here\n",
        "df.group_by(\"percentile\").agg(pl.col(\"id\").unique().alias(\"unique_ids\")).filter(pl.col(\"unique_ids\").list.len() > 1).collect()\n"
      ]
    },
    {
      "cell_type": "markdown",
      "metadata": {
        "id": "PObB1agk3JKm"
      },
      "source": [
        "#### 2. [0.5 балла] Есть ли в данных пропуски? В каких колонках? Сколько их в каждой из этих колонок?\n",
        "\n",
        "Уникальных или нет - не столь важно"
      ]
    },
    {
      "cell_type": "code",
      "execution_count": 792,
      "metadata": {
        "colab": {
          "base_uri": "https://localhost:8080/",
          "height": 125
        },
        "id": "zmMJ5oSi3JKm",
        "outputId": "425069b2-e1a6-4bd6-db63-3d13c8023789"
      },
      "outputs": [
        {
          "data": {
            "text/html": [
              "<div><style>\n",
              ".dataframe > thead > tr,\n",
              ".dataframe > tbody > tr {\n",
              "  text-align: right;\n",
              "  white-space: pre-wrap;\n",
              "}\n",
              "</style>\n",
              "<small>shape: (1, 16)</small><table border=\"1\" class=\"dataframe\"><thead><tr><th>timestamp</th><th>id</th><th>rating</th><th>18_group</th><th>is_mi</th><th>fall_1</th><th>fall_2</th><th>fall_3</th><th>spring_1</th><th>spring_2</th><th>spring_3</th><th>is_first_time</th><th>percentile</th><th>17_group</th><th>blended</th><th>is_ml_student</th></tr><tr><td>u32</td><td>u32</td><td>u32</td><td>u32</td><td>u32</td><td>u32</td><td>u32</td><td>u32</td><td>u32</td><td>u32</td><td>u32</td><td>u32</td><td>u32</td><td>u32</td><td>u32</td><td>u32</td></tr></thead><tbody><tr><td>0</td><td>0</td><td>0</td><td>13800000</td><td>34300000</td><td>0</td><td>0</td><td>0</td><td>0</td><td>0</td><td>0</td><td>200000</td><td>0</td><td>22300000</td><td>22300000</td><td>30400000</td></tr></tbody></table></div>"
            ],
            "text/plain": [
              "shape: (1, 16)\n",
              "┌───────────┬─────┬────────┬──────────┬───┬────────────┬──────────┬──────────┬───────────────┐\n",
              "│ timestamp ┆ id  ┆ rating ┆ 18_group ┆ … ┆ percentile ┆ 17_group ┆ blended  ┆ is_ml_student │\n",
              "│ ---       ┆ --- ┆ ---    ┆ ---      ┆   ┆ ---        ┆ ---      ┆ ---      ┆ ---           │\n",
              "│ u32       ┆ u32 ┆ u32    ┆ u32      ┆   ┆ u32        ┆ u32      ┆ u32      ┆ u32           │\n",
              "╞═══════════╪═════╪════════╪══════════╪═══╪════════════╪══════════╪══════════╪═══════════════╡\n",
              "│ 0         ┆ 0   ┆ 0      ┆ 13800000 ┆ … ┆ 0          ┆ 22300000 ┆ 22300000 ┆ 30400000      │\n",
              "└───────────┴─────┴────────┴──────────┴───┴────────────┴──────────┴──────────┴───────────────┘"
            ]
          },
          "execution_count": 792,
          "metadata": {},
          "output_type": "execute_result"
        }
      ],
      "source": [
        "# your code here\n",
        "df.null_count().collect()"
      ]
    },
    {
      "cell_type": "markdown",
      "metadata": {
        "id": "H0gva-uD3JKm"
      },
      "source": [
        "🔄 Преобразуйте датасет - заполните пропуски пустой строкой для строковых колонок, нулём для числовых и False для булевых (постарайтесь избежать перечисления названий всех столбцов)."
      ]
    },
    {
      "cell_type": "code",
      "execution_count": 793,
      "metadata": {
        "id": "1WOBP3Yx3JKm"
      },
      "outputs": [],
      "source": [
        "# your code here\n",
        "df = df.fill_null(strategy=\"zero\")"
      ]
    },
    {
      "cell_type": "code",
      "execution_count": 794,
      "metadata": {
        "colab": {
          "base_uri": "https://localhost:8080/",
          "height": 125
        },
        "id": "FgZK6gSd7Qay",
        "outputId": "eca571fc-c655-4b2c-b878-fec47ad1801d"
      },
      "outputs": [
        {
          "data": {
            "text/html": [
              "<div><style>\n",
              ".dataframe > thead > tr,\n",
              ".dataframe > tbody > tr {\n",
              "  text-align: right;\n",
              "  white-space: pre-wrap;\n",
              "}\n",
              "</style>\n",
              "<small>shape: (1, 16)</small><table border=\"1\" class=\"dataframe\"><thead><tr><th>timestamp</th><th>id</th><th>rating</th><th>18_group</th><th>is_mi</th><th>fall_1</th><th>fall_2</th><th>fall_3</th><th>spring_1</th><th>spring_2</th><th>spring_3</th><th>is_first_time</th><th>percentile</th><th>17_group</th><th>blended</th><th>is_ml_student</th></tr><tr><td>u32</td><td>u32</td><td>u32</td><td>u32</td><td>u32</td><td>u32</td><td>u32</td><td>u32</td><td>u32</td><td>u32</td><td>u32</td><td>u32</td><td>u32</td><td>u32</td><td>u32</td><td>u32</td></tr></thead><tbody><tr><td>0</td><td>0</td><td>0</td><td>0</td><td>0</td><td>0</td><td>0</td><td>0</td><td>0</td><td>0</td><td>0</td><td>0</td><td>0</td><td>0</td><td>0</td><td>0</td></tr></tbody></table></div>"
            ],
            "text/plain": [
              "shape: (1, 16)\n",
              "┌───────────┬─────┬────────┬──────────┬───┬────────────┬──────────┬─────────┬───────────────┐\n",
              "│ timestamp ┆ id  ┆ rating ┆ 18_group ┆ … ┆ percentile ┆ 17_group ┆ blended ┆ is_ml_student │\n",
              "│ ---       ┆ --- ┆ ---    ┆ ---      ┆   ┆ ---        ┆ ---      ┆ ---     ┆ ---           │\n",
              "│ u32       ┆ u32 ┆ u32    ┆ u32      ┆   ┆ u32        ┆ u32      ┆ u32     ┆ u32           │\n",
              "╞═══════════╪═════╪════════╪══════════╪═══╪════════════╪══════════╪═════════╪═══════════════╡\n",
              "│ 0         ┆ 0   ┆ 0      ┆ 0        ┆ … ┆ 0          ┆ 0        ┆ 0       ┆ 0             │\n",
              "└───────────┴─────┴────────┴──────────┴───┴────────────┴──────────┴─────────┴───────────────┘"
            ]
          },
          "execution_count": 794,
          "metadata": {},
          "output_type": "execute_result"
        }
      ],
      "source": [
        "df.null_count().collect()"
      ]
    },
    {
      "cell_type": "markdown",
      "metadata": {
        "id": "a0TfG6CY3JKn"
      },
      "source": [
        "#### 3. [0.5 балла] Посмотрите повнимательнее на колонку 'is_first_time'.\n",
        "\n",
        "Каково процентное соотношение ответов? Сколько из них \"Нет\"?"
      ]
    },
    {
      "cell_type": "code",
      "execution_count": 795,
      "metadata": {
        "colab": {
          "base_uri": "https://localhost:8080/"
        },
        "id": "wGolS2eY3JKn",
        "outputId": "777f6dac-4e21-4e6e-c6fd-4d56ca9bf0db"
      },
      "outputs": [
        {
          "data": {
            "text/plain": [
              "(14.127423822714682, 85.3185595567867, 0.5540166204986221)"
            ]
          },
          "execution_count": 795,
          "metadata": {},
          "output_type": "execute_result"
        }
      ],
      "source": [
        "result = (\n",
        "    df\n",
        "    .select([\n",
        "        pl.col('is_first_time').count().alias('total_responses'),\n",
        "        pl.col('is_first_time').filter(pl.col('is_first_time') == 'Нет').count().alias('no_count'),\n",
        "        pl.col('is_first_time').filter(pl.col('is_first_time') == 'Да').count().alias('yes_count')\n",
        "    ])\n",
        "    .collect()\n",
        ")\n",
        "\n",
        "total_responses = result['total_responses'][0]\n",
        "no_count = result['no_count'][0]\n",
        "yes_count = result['yes_count'][0]\n",
        "no_percentage = (no_count / total_responses) * 100\n",
        "yes_percentage = (yes_count/total_responses)*100\n",
        "\n",
        "no_percentage, yes_percentage, 100 - yes_percentage - no_percentage"
      ]
    },
    {
      "cell_type": "markdown",
      "metadata": {
        "id": "ffyqq0ilf0pv"
      },
      "source": [
        "🔄 Оставьте только самую позднюю версию обращений студентов и сохраните изменения"
      ]
    },
    {
      "cell_type": "code",
      "execution_count": 796,
      "metadata": {
        "id": "kIgPHwvOA0tg"
      },
      "outputs": [],
      "source": [
        "# your code here\n",
        "df = df.sort('timestamp').unique(subset='id', keep='last')"
      ]
    },
    {
      "cell_type": "code",
      "execution_count": 797,
      "metadata": {
        "colab": {
          "base_uri": "https://localhost:8080/"
        },
        "id": "PACsMvJAf_9B",
        "outputId": "1e755933-2bc7-43e6-d9f9-c8ba654ff191"
      },
      "outputs": [
        {
          "data": {
            "text/plain": [
              "347"
            ]
          },
          "execution_count": 797,
          "metadata": {},
          "output_type": "execute_result"
        }
      ],
      "source": [
        "lazy_len(df)"
      ]
    },
    {
      "cell_type": "code",
      "execution_count": 798,
      "metadata": {
        "colab": {
          "base_uri": "https://localhost:8080/",
          "height": 402
        },
        "id": "zmNc936i1BGG",
        "outputId": "2a335d6e-7bf2-431c-eabd-b554f72550ab"
      },
      "outputs": [
        {
          "name": "stderr",
          "output_type": "stream",
          "text": [
            "/var/folders/c1/2f76vwg555g_fgmfcx7m_j2w0000gn/T/ipykernel_19467/493617960.py:1: DeprecationWarning: `pl.count()` is deprecated. Please use `pl.len()` instead.\n",
            "  df.group_by(\"18_group\").agg(pl.count().alias(\"count\")).sort(\"count\").collect()\n"
          ]
        },
        {
          "data": {
            "text/html": [
              "<div><style>\n",
              ".dataframe > thead > tr,\n",
              ".dataframe > tbody > tr {\n",
              "  text-align: right;\n",
              "  white-space: pre-wrap;\n",
              "}\n",
              "</style>\n",
              "<small>shape: (9, 2)</small><table border=\"1\" class=\"dataframe\"><thead><tr><th>18_group</th><th>count</th></tr><tr><td>i64</td><td>u32</td></tr></thead><tbody><tr><td>184</td><td>21</td></tr><tr><td>188</td><td>23</td></tr><tr><td>182</td><td>26</td></tr><tr><td>181</td><td>27</td></tr><tr><td>186</td><td>27</td></tr><tr><td>185</td><td>28</td></tr><tr><td>187</td><td>30</td></tr><tr><td>183</td><td>31</td></tr><tr><td>0</td><td>134</td></tr></tbody></table></div>"
            ],
            "text/plain": [
              "shape: (9, 2)\n",
              "┌──────────┬───────┐\n",
              "│ 18_group ┆ count │\n",
              "│ ---      ┆ ---   │\n",
              "│ i64      ┆ u32   │\n",
              "╞══════════╪═══════╡\n",
              "│ 184      ┆ 21    │\n",
              "│ 188      ┆ 23    │\n",
              "│ 182      ┆ 26    │\n",
              "│ 181      ┆ 27    │\n",
              "│ 186      ┆ 27    │\n",
              "│ 185      ┆ 28    │\n",
              "│ 187      ┆ 30    │\n",
              "│ 183      ┆ 31    │\n",
              "│ 0        ┆ 134   │\n",
              "└──────────┴───────┘"
            ]
          },
          "execution_count": 798,
          "metadata": {},
          "output_type": "execute_result"
        }
      ],
      "source": [
        "df.group_by(\"18_group\").agg(pl.count().alias(\"count\")).sort(\"count\").collect()"
      ]
    },
    {
      "cell_type": "markdown",
      "metadata": {
        "id": "EXTt7DAJ3JKn"
      },
      "source": [
        "#### 4. [0.5 балла] Какие  blended-курсы для четверокурсников существуют? На какой blended-курс записалось наибольшее количество студентов? На каком из курсов собрались студенты с самым высоким средним рейтингом?"
      ]
    },
    {
      "cell_type": "code",
      "execution_count": 799,
      "metadata": {
        "colab": {
          "base_uri": "https://localhost:8080/",
          "height": 220
        },
        "id": "chRbLvwnzYkL",
        "outputId": "0890bbfb-fe87-4b53-80d5-9f82aae6ee77"
      },
      "outputs": [
        {
          "name": "stderr",
          "output_type": "stream",
          "text": [
            "/var/folders/c1/2f76vwg555g_fgmfcx7m_j2w0000gn/T/ipykernel_19467/46966078.py:4: DeprecationWarning: `pl.count()` is deprecated. Please use `pl.len()` instead.\n",
            "  .agg(pl.count().alias(\"count\"))\n"
          ]
        },
        {
          "data": {
            "text/html": [
              "<div><style>\n",
              ".dataframe > thead > tr,\n",
              ".dataframe > tbody > tr {\n",
              "  text-align: right;\n",
              "  white-space: pre-wrap;\n",
              "}\n",
              "</style>\n",
              "<small>shape: (3, 2)</small><table border=\"1\" class=\"dataframe\"><thead><tr><th>blended</th><th>count</th></tr><tr><td>str</td><td>u32</td></tr></thead><tbody><tr><td>&quot;DevOps&quot;</td><td>87</td></tr><tr><td>&quot;Соревновательный анализ данных&quot;</td><td>32</td></tr><tr><td>&quot;Введение в дифференциальную ге…</td><td>15</td></tr></tbody></table></div>"
            ],
            "text/plain": [
              "shape: (3, 2)\n",
              "┌─────────────────────────────────┬───────┐\n",
              "│ blended                         ┆ count │\n",
              "│ ---                             ┆ ---   │\n",
              "│ str                             ┆ u32   │\n",
              "╞═════════════════════════════════╪═══════╡\n",
              "│ DevOps                          ┆ 87    │\n",
              "│ Соревновательный анализ данных  ┆ 32    │\n",
              "│ Введение в дифференциальную ге… ┆ 15    │\n",
              "└─────────────────────────────────┴───────┘"
            ]
          },
          "execution_count": 799,
          "metadata": {},
          "output_type": "execute_result"
        }
      ],
      "source": [
        "result = (\n",
        "    df.filter(pl.col(\"blended\") != \"\")\n",
        "    .group_by(\"blended\")\n",
        "    .agg(pl.count().alias(\"count\"))\n",
        "    .sort(\"count\", descending=True)\n",
        "    .collect()\n",
        ")\n",
        "result"
      ]
    },
    {
      "cell_type": "code",
      "execution_count": 800,
      "metadata": {
        "colab": {
          "base_uri": "https://localhost:8080/",
          "height": 187
        },
        "id": "N2-mSDERhb3t",
        "outputId": "5bfca9e3-23ca-4c27-e392-a02d176a1dcb"
      },
      "outputs": [
        {
          "data": {
            "text/html": [
              "<div><style>\n",
              ".dataframe > thead > tr,\n",
              ".dataframe > tbody > tr {\n",
              "  text-align: right;\n",
              "  white-space: pre-wrap;\n",
              "}\n",
              "</style>\n",
              "<small>shape: (3, 2)</small><table border=\"1\" class=\"dataframe\"><thead><tr><th>blended</th><th>mean_rating</th></tr><tr><td>str</td><td>f64</td></tr></thead><tbody><tr><td>&quot;Введение в дифференциальную ге…</td><td>1210.733333</td></tr><tr><td>&quot;DevOps&quot;</td><td>1154.172414</td></tr><tr><td>&quot;Соревновательный анализ данных&quot;</td><td>1144.21875</td></tr></tbody></table></div>"
            ],
            "text/plain": [
              "shape: (3, 2)\n",
              "┌─────────────────────────────────┬─────────────┐\n",
              "│ blended                         ┆ mean_rating │\n",
              "│ ---                             ┆ ---         │\n",
              "│ str                             ┆ f64         │\n",
              "╞═════════════════════════════════╪═════════════╡\n",
              "│ Введение в дифференциальную ге… ┆ 1210.733333 │\n",
              "│ DevOps                          ┆ 1154.172414 │\n",
              "│ Соревновательный анализ данных  ┆ 1144.21875  │\n",
              "└─────────────────────────────────┴─────────────┘"
            ]
          },
          "execution_count": 800,
          "metadata": {},
          "output_type": "execute_result"
        }
      ],
      "source": [
        "df.filter(pl.col(\"blended\") != \"\").group_by(\"blended\").agg(pl.col('rating').mean().alias('mean_rating')).sort(\"mean_rating\", descending=True).collect()"
      ]
    },
    {
      "cell_type": "markdown",
      "metadata": {
        "id": "afbGGxV73JKn"
      },
      "source": [
        "#### 5. [1 балл] Выясните, есть ли студенты с абсолютно одинаковыми предпочтениями по всем курсам.\n",
        "\n",
        "Для этого сформируйте таблицу, где для каждого возможного набора курсов посчитано количество студентов, выбравших такой набор, и оставьте только строки где это количество больше 1.\n",
        "\n",
        "В данном случае набор курсов задается упорядоченным множеством ('fall_1', 'fall_2', 'fall_3', 'spring_1', 'spring_2', 'spring_3', 'blended'). Элемент blended будет нулевым для 3-го курса."
      ]
    },
    {
      "cell_type": "code",
      "execution_count": 801,
      "metadata": {
        "id": "stm_EYkzcS7s"
      },
      "outputs": [
        {
          "data": {
            "text/html": [
              "<div><style>\n",
              ".dataframe > thead > tr,\n",
              ".dataframe > tbody > tr {\n",
              "  text-align: right;\n",
              "  white-space: pre-wrap;\n",
              "}\n",
              "</style>\n",
              "<small>shape: (15, 8)</small><table border=\"1\" class=\"dataframe\"><thead><tr><th>fall_1</th><th>fall_2</th><th>fall_3</th><th>spring_1</th><th>spring_2</th><th>spring_3</th><th>blended</th><th>student_count</th></tr><tr><td>str</td><td>str</td><td>str</td><td>str</td><td>str</td><td>str</td><td>str</td><td>u32</td></tr></thead><tbody><tr><td>&quot;Безопасность компьютерных сист…</td><td>&quot;Теория баз данных&quot;</td><td>&quot;Язык SQL&quot;</td><td>&quot;Машинное обучение 2&quot;</td><td>&quot;Компьютерные сети&quot;</td><td>&quot;Промышленное программирование …</td><td>&quot;&quot;</td><td>2</td></tr><tr><td>&quot;Байесовские методы машинного о…</td><td>&quot;Анализ неструктурированных дан…</td><td>&quot;Сбор и обработка данных с помо…</td><td>&quot;Обучение с подкреплением&quot;</td><td>&quot;Компьютерное зрение&quot;</td><td>&quot;Генеративные модели в машинном…</td><td>&quot;DevOps&quot;</td><td>2</td></tr><tr><td>&quot;Statistical Learning Theory&quot;</td><td>&quot;Анализ неструктурированных дан…</td><td>&quot;Сбор и обработка данных с помо…</td><td>&quot;Обучение с подкреплением&quot;</td><td>&quot;Конфликты и кооперация&quot;</td><td>&quot;Компьютерное зрение&quot;</td><td>&quot;DevOps&quot;</td><td>2</td></tr><tr><td>&quot;Безопасность компьютерных сист…</td><td>&quot;Сбор и обработка данных с помо…</td><td>&quot;Матричные вычисления&quot;</td><td>&quot;Компьютерные сети&quot;</td><td>&quot;Промышленное программирование …</td><td>&quot;Анализ данных в бизнесе&quot;</td><td>&quot;&quot;</td><td>2</td></tr><tr><td>&quot;Байесовские методы машинного о…</td><td>&quot;Анализ неструктурированных дан…</td><td>&quot;Глубинное обучение в обработке…</td><td>&quot;Обучение с подкреплением&quot;</td><td>&quot;Генеративные модели в машинном…</td><td>&quot;Компьютерное зрение&quot;</td><td>&quot;DevOps&quot;</td><td>2</td></tr><tr><td>&hellip;</td><td>&hellip;</td><td>&hellip;</td><td>&hellip;</td><td>&hellip;</td><td>&hellip;</td><td>&hellip;</td><td>&hellip;</td></tr><tr><td>&quot;Безопасность компьютерных сист…</td><td>&quot;Матричные вычисления&quot;</td><td>&quot;Моделирование временных рядов&quot;</td><td>&quot;Промышленное программирование …</td><td>&quot;Компьютерные сети&quot;</td><td>&quot;Дискретная оптимизация&quot;</td><td>&quot;&quot;</td><td>2</td></tr><tr><td>&quot;Высокопроизводительные вычисле…</td><td>&quot;Сбор и обработка данных с помо…</td><td>&quot;Моделирование временных рядов&quot;</td><td>&quot;Проектирование и разработка вы…</td><td>&quot;Методы сжатия и передачи медиа…</td><td>&quot;Методы сжатия и передачи медиа…</td><td>&quot;DevOps&quot;</td><td>2</td></tr><tr><td>&quot;Безопасность компьютерных сист…</td><td>&quot;Высокопроизводительные вычисле…</td><td>&quot;Язык SQL&quot;</td><td>&quot;Компьютерные сети&quot;</td><td>&quot;Промышленное программирование …</td><td>&quot;Дискретная оптимизация&quot;</td><td>&quot;&quot;</td><td>3</td></tr><tr><td>&quot;Безопасность компьютерных сист…</td><td>&quot;Statistical Learning Theory&quot;</td><td>&quot;Матричные вычисления&quot;</td><td>&quot;Дискретная оптимизация&quot;</td><td>&quot;Промышленное программирование …</td><td>&quot;Дополнительные главы прикладно…</td><td>&quot;&quot;</td><td>3</td></tr><tr><td>&quot;Высокопроизводительные вычисле…</td><td>&quot;Безопасность компьютерных сист…</td><td>&quot;Сбор и обработка данных с помо…</td><td>&quot;Проектирование и разработка вы…</td><td>&quot;Методы сжатия и передачи медиа…</td><td>&quot;Компьютерное зрение&quot;</td><td>&quot;DevOps&quot;</td><td>2</td></tr></tbody></table></div>"
            ],
            "text/plain": [
              "shape: (15, 8)\n",
              "┌────────────┬────────────┬────────────┬────────────┬────────────┬───────────┬─────────┬───────────┐\n",
              "│ fall_1     ┆ fall_2     ┆ fall_3     ┆ spring_1   ┆ spring_2   ┆ spring_3  ┆ blended ┆ student_c │\n",
              "│ ---        ┆ ---        ┆ ---        ┆ ---        ┆ ---        ┆ ---       ┆ ---     ┆ ount      │\n",
              "│ str        ┆ str        ┆ str        ┆ str        ┆ str        ┆ str       ┆ str     ┆ ---       │\n",
              "│            ┆            ┆            ┆            ┆            ┆           ┆         ┆ u32       │\n",
              "╞════════════╪════════════╪════════════╪════════════╪════════════╪═══════════╪═════════╪═══════════╡\n",
              "│ Безопаснос ┆ Теория баз ┆ Язык SQL   ┆ Машинное   ┆ Компьютерн ┆ Промышлен ┆         ┆ 2         │\n",
              "│ ть компьют ┆ данных     ┆            ┆ обучение 2 ┆ ые сети    ┆ ное прогр ┆         ┆           │\n",
              "│ ерных      ┆            ┆            ┆            ┆            ┆ аммирован ┆         ┆           │\n",
              "│ сист…      ┆            ┆            ┆            ┆            ┆ ие …      ┆         ┆           │\n",
              "│ Байесовски ┆ Анализ нес ┆ Сбор и     ┆ Обучение с ┆ Компьютерн ┆ Генератив ┆ DevOps  ┆ 2         │\n",
              "│ е методы   ┆ труктуриро ┆ обработка  ┆ подкреплен ┆ ое зрение  ┆ ные       ┆         ┆           │\n",
              "│ машинного  ┆ ванных     ┆ данных с   ┆ ием        ┆            ┆ модели в  ┆         ┆           │\n",
              "│ о…         ┆ дан…       ┆ помо…      ┆            ┆            ┆ машинном… ┆         ┆           │\n",
              "│ Statistica ┆ Анализ нес ┆ Сбор и     ┆ Обучение с ┆ Конфликты  ┆ Компьютер ┆ DevOps  ┆ 2         │\n",
              "│ l Learning ┆ труктуриро ┆ обработка  ┆ подкреплен ┆ и          ┆ ное       ┆         ┆           │\n",
              "│ Theory     ┆ ванных     ┆ данных с   ┆ ием        ┆ кооперация ┆ зрение    ┆         ┆           │\n",
              "│            ┆ дан…       ┆ помо…      ┆            ┆            ┆           ┆         ┆           │\n",
              "│ Безопаснос ┆ Сбор и     ┆ Матричные  ┆ Компьютерн ┆ Промышленн ┆ Анализ    ┆         ┆ 2         │\n",
              "│ ть компьют ┆ обработка  ┆ вычисления ┆ ые сети    ┆ ое програм ┆ данных в  ┆         ┆           │\n",
              "│ ерных      ┆ данных с   ┆            ┆            ┆ мирование  ┆ бизнесе   ┆         ┆           │\n",
              "│ сист…      ┆ помо…      ┆            ┆            ┆ …          ┆           ┆         ┆           │\n",
              "│ Байесовски ┆ Анализ нес ┆ Глубинное  ┆ Обучение с ┆ Генеративн ┆ Компьютер ┆ DevOps  ┆ 2         │\n",
              "│ е методы   ┆ труктуриро ┆ обучение в ┆ подкреплен ┆ ые модели  ┆ ное       ┆         ┆           │\n",
              "│ машинного  ┆ ванных     ┆ обработке… ┆ ием        ┆ в          ┆ зрение    ┆         ┆           │\n",
              "│ о…         ┆ дан…       ┆            ┆            ┆ машинном…  ┆           ┆         ┆           │\n",
              "│ …          ┆ …          ┆ …          ┆ …          ┆ …          ┆ …         ┆ …       ┆ …         │\n",
              "│ Безопаснос ┆ Матричные  ┆ Моделирова ┆ Промышленн ┆ Компьютерн ┆ Дискретна ┆         ┆ 2         │\n",
              "│ ть компьют ┆ вычисления ┆ ние        ┆ ое програм ┆ ые сети    ┆ я оптимиз ┆         ┆           │\n",
              "│ ерных      ┆            ┆ временных  ┆ мирование  ┆            ┆ ация      ┆         ┆           │\n",
              "│ сист…      ┆            ┆ рядов      ┆ …          ┆            ┆           ┆         ┆           │\n",
              "│ Высокопрои ┆ Сбор и     ┆ Моделирова ┆ Проектиров ┆ Методы     ┆ Методы    ┆ DevOps  ┆ 2         │\n",
              "│ зводительн ┆ обработка  ┆ ние        ┆ ание и     ┆ сжатия и   ┆ сжатия и  ┆         ┆           │\n",
              "│ ые         ┆ данных с   ┆ временных  ┆ разработка ┆ передачи   ┆ передачи  ┆         ┆           │\n",
              "│ вычисле…   ┆ помо…      ┆ рядов      ┆ вы…        ┆ медиа…     ┆ медиа…    ┆         ┆           │\n",
              "│ Безопаснос ┆ Высокопрои ┆ Язык SQL   ┆ Компьютерн ┆ Промышленн ┆ Дискретна ┆         ┆ 3         │\n",
              "│ ть компьют ┆ зводительн ┆            ┆ ые сети    ┆ ое програм ┆ я оптимиз ┆         ┆           │\n",
              "│ ерных      ┆ ые         ┆            ┆            ┆ мирование  ┆ ация      ┆         ┆           │\n",
              "│ сист…      ┆ вычисле…   ┆            ┆            ┆ …          ┆           ┆         ┆           │\n",
              "│ Безопаснос ┆ Statistica ┆ Матричные  ┆ Дискретная ┆ Промышленн ┆ Дополните ┆         ┆ 3         │\n",
              "│ ть компьют ┆ l Learning ┆ вычисления ┆ оптимизаци ┆ ое програм ┆ льные     ┆         ┆           │\n",
              "│ ерных      ┆ Theory     ┆            ┆ я          ┆ мирование  ┆ главы при ┆         ┆           │\n",
              "│ сист…      ┆            ┆            ┆            ┆ …          ┆ кладно…   ┆         ┆           │\n",
              "│ Высокопрои ┆ Безопаснос ┆ Сбор и     ┆ Проектиров ┆ Методы     ┆ Компьютер ┆ DevOps  ┆ 2         │\n",
              "│ зводительн ┆ ть компьют ┆ обработка  ┆ ание и     ┆ сжатия и   ┆ ное       ┆         ┆           │\n",
              "│ ые         ┆ ерных      ┆ данных с   ┆ разработка ┆ передачи   ┆ зрение    ┆         ┆           │\n",
              "│ вычисле…   ┆ сист…      ┆ помо…      ┆ вы…        ┆ медиа…     ┆           ┆         ┆           │\n",
              "└────────────┴────────────┴────────────┴────────────┴────────────┴───────────┴─────────┴───────────┘"
            ]
          },
          "execution_count": 801,
          "metadata": {},
          "output_type": "execute_result"
        }
      ],
      "source": [
        "# your code here\n",
        "df.group_by('fall_1', 'fall_2', 'fall_3', 'spring_1', 'spring_2', 'spring_3', 'blended').agg(pl.col(\"id\").count().alias(\"student_count\")).filter(pl.col(\"student_count\") > 1).collect()"
      ]
    },
    {
      "cell_type": "code",
      "execution_count": 802,
      "metadata": {},
      "outputs": [
        {
          "data": {
            "text/html": [
              "<div><style>\n",
              ".dataframe > thead > tr,\n",
              ".dataframe > tbody > tr {\n",
              "  text-align: right;\n",
              "  white-space: pre-wrap;\n",
              "}\n",
              "</style>\n",
              "<small>shape: (8, 1)</small><table border=\"1\" class=\"dataframe\"><thead><tr><th>17_group</th></tr><tr><td>str</td></tr></thead><tbody><tr><td>&quot;172&quot;</td></tr><tr><td>&quot;171&quot;</td></tr><tr><td>&quot;176&quot;</td></tr><tr><td>&quot;177&quot;</td></tr><tr><td>&quot;174&quot;</td></tr><tr><td>&quot;&quot;</td></tr><tr><td>&quot;175&quot;</td></tr><tr><td>&quot;173&quot;</td></tr></tbody></table></div>"
            ],
            "text/plain": [
              "shape: (8, 1)\n",
              "┌──────────┐\n",
              "│ 17_group │\n",
              "│ ---      │\n",
              "│ str      │\n",
              "╞══════════╡\n",
              "│ 172      │\n",
              "│ 171      │\n",
              "│ 176      │\n",
              "│ 177      │\n",
              "│ 174      │\n",
              "│          │\n",
              "│ 175      │\n",
              "│ 173      │\n",
              "└──────────┘"
            ]
          },
          "execution_count": 802,
          "metadata": {},
          "output_type": "execute_result"
        }
      ],
      "source": [
        "df.select(pl.col(\"17_group\")).unique().collect()"
      ]
    },
    {
      "cell_type": "markdown",
      "metadata": {
        "id": "JU0vq96o3JKo"
      },
      "source": [
        "#### 6. [0.5 балла] Найдите курсы по выбору, на которые записывались как студенты 18-го года набора, так и студенты 17-го года."
      ]
    },
    {
      "cell_type": "code",
      "execution_count": 803,
      "metadata": {},
      "outputs": [
        {
          "name": "stderr",
          "output_type": "stream",
          "text": [
            "/var/folders/c1/2f76vwg555g_fgmfcx7m_j2w0000gn/T/ipykernel_19467/195554287.py:10: DeprecationWarning: `LazyFrame.melt` is deprecated. Use `unpivot` instead, with `index` instead of `id_vars` and `on` instead of `value_vars`\n",
            "  ]).melt().select('value').unique().collect()\n",
            "/var/folders/c1/2f76vwg555g_fgmfcx7m_j2w0000gn/T/ipykernel_19467/195554287.py:20: DeprecationWarning: `LazyFrame.melt` is deprecated. Use `unpivot` instead, with `index` instead of `id_vars` and `on` instead of `value_vars`\n",
            "  ]).melt().select('value').unique().collect()\n"
          ]
        }
      ],
      "source": [
        "# your code here\n",
        "courses18 = df.filter(pl.col(\"18_group\") > 0).select([\n",
        "          pl.col(\"fall_1\"),\n",
        "          pl.col(\"fall_2\"),\n",
        "          pl.col(\"fall_3\"),\n",
        "          pl.col(\"spring_1\"),\n",
        "          pl.col(\"spring_2\"),\n",
        "          pl.col(\"spring_3\"),\n",
        "          pl.col(\"blended\")\n",
        "      ]).melt().select('value').unique().collect()\n",
        "\n",
        "courses17 = df.filter(pl.col(\"17_group\") != \"\").select([\n",
        "          pl.col(\"fall_1\"),\n",
        "          pl.col(\"fall_2\"),\n",
        "          pl.col(\"fall_3\"),\n",
        "          pl.col(\"spring_1\"),\n",
        "          pl.col(\"spring_2\"),\n",
        "          pl.col(\"spring_3\"),\n",
        "          pl.col(\"blended\")\n",
        "      ]).melt().select('value').unique().collect()"
      ]
    },
    {
      "cell_type": "code",
      "execution_count": 804,
      "metadata": {},
      "outputs": [
        {
          "data": {
            "text/html": [
              "<div><style>\n",
              ".dataframe > thead > tr,\n",
              ".dataframe > tbody > tr {\n",
              "  text-align: right;\n",
              "  white-space: pre-wrap;\n",
              "}\n",
              "</style>\n",
              "<small>shape: (7, 1)</small><table border=\"1\" class=\"dataframe\"><thead><tr><th>value</th></tr><tr><td>str</td></tr></thead><tbody><tr><td>&quot;Численные методы&quot;</td></tr><tr><td>&quot;Принятие решений в условиях ри…</td></tr><tr><td>&quot;Сбор и обработка данных с помо…</td></tr><tr><td>&quot;Statistical Learning Theory&quot;</td></tr><tr><td>&quot;Безопасность компьютерных сист…</td></tr><tr><td>&quot;Высокопроизводительные вычисле…</td></tr><tr><td>&quot;Моделирование временных рядов&quot;</td></tr></tbody></table></div>"
            ],
            "text/plain": [
              "shape: (7, 1)\n",
              "┌─────────────────────────────────┐\n",
              "│ value                           │\n",
              "│ ---                             │\n",
              "│ str                             │\n",
              "╞═════════════════════════════════╡\n",
              "│ Численные методы                │\n",
              "│ Принятие решений в условиях ри… │\n",
              "│ Сбор и обработка данных с помо… │\n",
              "│ Statistical Learning Theory     │\n",
              "│ Безопасность компьютерных сист… │\n",
              "│ Высокопроизводительные вычисле… │\n",
              "│ Моделирование временных рядов   │\n",
              "└─────────────────────────────────┘"
            ]
          },
          "execution_count": 804,
          "metadata": {},
          "output_type": "execute_result"
        }
      ],
      "source": [
        "courses18.join(courses17, on=\"value\", how=\"inner\")"
      ]
    },
    {
      "cell_type": "markdown",
      "metadata": {
        "id": "NMkajSaI3JKr"
      },
      "source": [
        "Методом исключения найдите курсы, которые предлагались только студентам 18-го года и только студентам 17-го года."
      ]
    },
    {
      "cell_type": "code",
      "execution_count": 805,
      "metadata": {
        "id": "enzNaFLP3JKs"
      },
      "outputs": [
        {
          "data": {
            "text/html": [
              "<div><style>\n",
              ".dataframe > thead > tr,\n",
              ".dataframe > tbody > tr {\n",
              "  text-align: right;\n",
              "  white-space: pre-wrap;\n",
              "}\n",
              "</style>\n",
              "<small>shape: (11, 1)</small><table border=\"1\" class=\"dataframe\"><thead><tr><th>value</th></tr><tr><td>str</td></tr></thead><tbody><tr><td>&quot;Системы баз данных&quot;</td></tr><tr><td>&quot;Компьютерные сети&quot;</td></tr><tr><td>&quot;Промышленное программирование …</td></tr><tr><td>&quot;Машинное обучение 2&quot;</td></tr><tr><td>&quot;Анализ данных в бизнесе&quot;</td></tr><tr><td>&hellip;</td></tr><tr><td>&quot;Язык SQL&quot;</td></tr><tr><td>&quot;&quot;</td></tr><tr><td>&quot;Теория баз данных&quot;</td></tr><tr><td>&quot;Дополнительные главы прикладно…</td></tr><tr><td>&quot;Матричные вычисления&quot;</td></tr></tbody></table></div>"
            ],
            "text/plain": [
              "shape: (11, 1)\n",
              "┌─────────────────────────────────┐\n",
              "│ value                           │\n",
              "│ ---                             │\n",
              "│ str                             │\n",
              "╞═════════════════════════════════╡\n",
              "│ Системы баз данных              │\n",
              "│ Компьютерные сети               │\n",
              "│ Промышленное программирование … │\n",
              "│ Машинное обучение 2             │\n",
              "│ Анализ данных в бизнесе         │\n",
              "│ …                               │\n",
              "│ Язык SQL                        │\n",
              "│                                 │\n",
              "│ Теория баз данных               │\n",
              "│ Дополнительные главы прикладно… │\n",
              "│ Матричные вычисления            │\n",
              "└─────────────────────────────────┘"
            ]
          },
          "execution_count": 805,
          "metadata": {},
          "output_type": "execute_result"
        }
      ],
      "source": [
        "# your code here\n",
        "courses18.join(courses17, on=\"value\", how=\"anti\")"
      ]
    },
    {
      "cell_type": "code",
      "execution_count": 806,
      "metadata": {},
      "outputs": [
        {
          "data": {
            "text/html": [
              "<div><style>\n",
              ".dataframe > thead > tr,\n",
              ".dataframe > tbody > tr {\n",
              "  text-align: right;\n",
              "  white-space: pre-wrap;\n",
              "}\n",
              "</style>\n",
              "<small>shape: (13, 1)</small><table border=\"1\" class=\"dataframe\"><thead><tr><th>value</th></tr><tr><td>str</td></tr></thead><tbody><tr><td>&quot;Анализ неструктурированных дан…</td></tr><tr><td>&quot;Введение в дифференциальную ге…</td></tr><tr><td>&quot;DevOps&quot;</td></tr><tr><td>&quot;Методы сжатия и передачи медиа…</td></tr><tr><td>&quot;Обучение с подкреплением&quot;</td></tr><tr><td>&hellip;</td></tr><tr><td>&quot;Конфликты и кооперация&quot;</td></tr><tr><td>&quot;Генеративные модели в машинном…</td></tr><tr><td>&quot;Проектирование и разработка вы…</td></tr><tr><td>&quot;Глубинное обучение в обработке…</td></tr><tr><td>&quot;Байесовские методы машинного о…</td></tr></tbody></table></div>"
            ],
            "text/plain": [
              "shape: (13, 1)\n",
              "┌─────────────────────────────────┐\n",
              "│ value                           │\n",
              "│ ---                             │\n",
              "│ str                             │\n",
              "╞═════════════════════════════════╡\n",
              "│ Анализ неструктурированных дан… │\n",
              "│ Введение в дифференциальную ге… │\n",
              "│ DevOps                          │\n",
              "│ Методы сжатия и передачи медиа… │\n",
              "│ Обучение с подкреплением        │\n",
              "│ …                               │\n",
              "│ Конфликты и кооперация          │\n",
              "│ Генеративные модели в машинном… │\n",
              "│ Проектирование и разработка вы… │\n",
              "│ Глубинное обучение в обработке… │\n",
              "│ Байесовские методы машинного о… │\n",
              "└─────────────────────────────────┘"
            ]
          },
          "execution_count": 806,
          "metadata": {},
          "output_type": "execute_result"
        }
      ],
      "source": [
        "courses17.join(courses18, on=\"value\", how=\"anti\")"
      ]
    },
    {
      "cell_type": "markdown",
      "metadata": {
        "id": "c5TmcNdI3JKs"
      },
      "source": [
        "### Визуализации"
      ]
    },
    {
      "cell_type": "markdown",
      "metadata": {
        "id": "74juA0bp3JKs"
      },
      "source": [
        "При работе с данными часто неудобно делать какие-то выводы, если смотреть на таблицу и числа в частности, поэтому важно уметь визуализировать данные. Здесь будут описаны ключевые правила оформления графиков для **всех** домашних заданий.\n",
        "\n",
        "У matplotlib, конечно же, есть [документация](https://matplotlib.org/users/index.html) с большим количеством [примеров](https://matplotlib.org/examples/), но для начала достаточно знать про несколько основных типов графиков:\n",
        "- plot — обычный поточечный график, которым можно изображать кривые или отдельные точки;\n",
        "- hist — гистограмма, показывающая распределение некоторой величины;\n",
        "- scatter — график, показывающий взаимосвязь двух величин;\n",
        "- bar — столбцовый график, показывающий взаимосвязь количественной величины от категориальной.\n",
        "\n",
        "В этом задании вы попробуете построить один из них. Не забывайте про базовые принципы построения приличных графиков:\n",
        "- оси должны быть подписаны, причём не слишком мелко;\n",
        "- у графика должно быть название;\n",
        "- если изображено несколько графиков, то необходима поясняющая легенда;\n",
        "- все линии на графиках должны быть чётко видны (нет похожих цветов или цветов, сливающихся с фоном);\n",
        "- если возможно сделать график интерактивным, это обычно того стоит - помогает решить проблемы с читаемостью;\n",
        "- если отображена величина, имеющая очевидный диапазон значений (например, проценты могут быть от 0 до 100), то желательно масштабировать ось на весь диапазон значений (исключением является случай, когда вам необходимо показать малое отличие, которое незаметно в таких масштабах);\n",
        "- сетка на графике помогает оценить значения в точках на глаз, это обычно полезно, поэтому лучше ее отрисовывать;\n",
        "- если распределение на гистограмме имеет тяжёлые хвосты, лучше использовать логарифмическую шкалу.\n",
        "\n",
        "Еще одна билиотека для визуализации: [seaborn](https://jakevdp.github.io/PythonDataScienceHandbook/04.14-visualization-with-seaborn.html). Это настройка над matplotlib, иногда удобнее и красивее делать визуализации через неё.\n",
        "\n",
        "У `polars` уже есть встроенные инструменты для визуализации, в частности интерактивные на базе [hvplot](https://docs.pola.rs/user-guide/misc/visualization/#plotly). Из её преимуществ - хорошая производительность при работе с большими данными, есть поддержка самых популярных видов графиков, но синтаксис не самый удобный"
      ]
    },
    {
      "cell_type": "markdown",
      "metadata": {
        "id": "QkH7afPm3JKs"
      },
      "source": [
        "#### 7. [0.5 балла] Постройте график средних рейтингов по дням получения ответов (bar plot)."
      ]
    },
    {
      "cell_type": "code",
      "execution_count": 807,
      "metadata": {},
      "outputs": [
        {
          "name": "stdout",
          "output_type": "stream",
          "text": [
            "Requirement already satisfied: pyarrow in /Library/Frameworks/Python.framework/Versions/3.12/lib/python3.12/site-packages (17.0.0)\n",
            "Requirement already satisfied: numpy>=1.16.6 in /Library/Frameworks/Python.framework/Versions/3.12/lib/python3.12/site-packages (from pyarrow) (2.1.1)\n"
          ]
        }
      ],
      "source": [
        "!pip3 install pyarrow"
      ]
    },
    {
      "cell_type": "code",
      "execution_count": 808,
      "metadata": {},
      "outputs": [],
      "source": [
        "average_ratings = df.with_columns(\n",
        "    pl.col('timestamp').str.strptime(pl.Date, \"%Y-%m-%d %H:%M:%S\")\n",
        ")\n",
        "\n",
        "average_ratings = (\n",
        "    average_ratings.group_by(\"timestamp\")\n",
        "    .agg(pl.col(\"rating\").mean().alias(\"average_rating\"))\n",
        "    .sort(\"timestamp\")\n",
        ")\n"
      ]
    },
    {
      "cell_type": "code",
      "execution_count": 809,
      "metadata": {},
      "outputs": [
        {
          "data": {
            "text/html": [
              "<i>naive plan: (run <b>LazyFrame.explain(optimized=True)</b> to see the optimized plan)</i>\n",
              "    <p></p>\n",
              "    <div>SORT BY [col(\"timestamp\")]<p></p>  AGGREGATE<p></p>  \t[col(\"rating\").mean().alias(\"average_rating\")] BY [col(\"timestamp\")] FROM<p></p>     WITH_COLUMNS:<p></p>     [col(\"timestamp\").str.strptime([String(raise)])] <p></p>      UNIQUE[maintain_order: false, keep_strategy: Last] BY Some([\"id\"])<p></p>        SORT BY [col(\"timestamp\")]<p></p>           SELECT [col(\"timestamp\").fill_null_with_strategy(), col(\"id\").fill_null_with_strategy(), col(\"rating\").fill_null_with_strategy(), col(\"18_group\").fill_null_with_strategy(), col(\"is_mi\").fill_null_with_strategy(), col(\"fall_1\").fill_null_with_strategy(), col(\"fall_2\").fill_null_with_strategy(), col(\"fall_3\").fill_null_with_strategy(), col(\"spring_1\").fill_null_with_strategy(), col(\"spring_2\").fill_null_with_strategy(), col(\"spring_3\").fill_null_with_strategy(), col(\"is_first_time\").fill_null_with_strategy(), col(\"percentile\").fill_null_with_strategy(), col(\"17_group\").fill_null_with_strategy(), col(\"blended\").fill_null_with_strategy(), col(\"is_ml_student\").fill_null_with_strategy()] FROM<p></p>            LEFT JOIN:<p></p>            LEFT PLAN ON: [col(\"timestamp\")]<p></p>               SELECT [col(\"timestamp\").unique().sort(asc).repeat_by([dyn int: 100000]).explode()] FROM<p></p>                DF [\"timestamp\", \"id\", \"rating\", \"18_group\"]; PROJECT */16 COLUMNS; SELECTION: None<p></p>            RIGHT PLAN ON: [col(\"timestamp\")]<p></p>              DF [\"timestamp\", \"id\", \"rating\", \"18_group\"]; PROJECT */16 COLUMNS; SELECTION: None<p></p>            END LEFT JOIN</div>"
            ],
            "text/plain": [
              "<LazyFrame at 0x32FD2C9E0>"
            ]
          },
          "execution_count": 809,
          "metadata": {},
          "output_type": "execute_result"
        }
      ],
      "source": [
        "average_ratings"
      ]
    },
    {
      "cell_type": "code",
      "execution_count": 810,
      "metadata": {},
      "outputs": [
        {
          "data": {
            "text/html": [
              "<script type=\"esms-options\">{\"shimMode\": true}</script><style>*[data-root-id],\n",
              "*[data-root-id] > * {\n",
              "  box-sizing: border-box;\n",
              "  font-family: var(--jp-ui-font-family);\n",
              "  font-size: var(--jp-ui-font-size1);\n",
              "  color: var(--vscode-editor-foreground, var(--jp-ui-font-color1));\n",
              "}\n",
              "\n",
              "/* Override VSCode background color */\n",
              ".cell-output-ipywidget-background:has(\n",
              "    > .cell-output-ipywidget-background > .lm-Widget > *[data-root-id]\n",
              "  ),\n",
              ".cell-output-ipywidget-background:has(> .lm-Widget > *[data-root-id]) {\n",
              "  background-color: transparent !important;\n",
              "}\n",
              "</style>"
            ]
          },
          "metadata": {},
          "output_type": "display_data"
        },
        {
          "data": {
            "application/javascript": "(function(root) {\n  function now() {\n    return new Date();\n  }\n\n  const force = true;\n  const py_version = '3.6.0'.replace('rc', '-rc.').replace('.dev', '-dev.');\n  const reloading = false;\n  const Bokeh = root.Bokeh;\n\n  // Set a timeout for this load but only if we are not already initializing\n  if (typeof (root._bokeh_timeout) === \"undefined\" || (force || !root._bokeh_is_initializing)) {\n    root._bokeh_timeout = Date.now() + 5000;\n    root._bokeh_failed_load = false;\n  }\n\n  function run_callbacks() {\n    try {\n      root._bokeh_onload_callbacks.forEach(function(callback) {\n        if (callback != null)\n          callback();\n      });\n    } finally {\n      delete root._bokeh_onload_callbacks;\n    }\n    console.debug(\"Bokeh: all callbacks have finished\");\n  }\n\n  function load_libs(css_urls, js_urls, js_modules, js_exports, callback) {\n    if (css_urls == null) css_urls = [];\n    if (js_urls == null) js_urls = [];\n    if (js_modules == null) js_modules = [];\n    if (js_exports == null) js_exports = {};\n\n    root._bokeh_onload_callbacks.push(callback);\n\n    if (root._bokeh_is_loading > 0) {\n      // Don't load bokeh if it is still initializing\n      console.debug(\"Bokeh: BokehJS is being loaded, scheduling callback at\", now());\n      return null;\n    } else if (js_urls.length === 0 && js_modules.length === 0 && Object.keys(js_exports).length === 0) {\n      // There is nothing to load\n      run_callbacks();\n      return null;\n    }\n\n    function on_load() {\n      root._bokeh_is_loading--;\n      if (root._bokeh_is_loading === 0) {\n        console.debug(\"Bokeh: all BokehJS libraries/stylesheets loaded\");\n        run_callbacks()\n      }\n    }\n    window._bokeh_on_load = on_load\n\n    function on_error(e) {\n      const src_el = e.srcElement\n      console.error(\"failed to load \" + (src_el.href || src_el.src));\n    }\n\n    const skip = [];\n    if (window.requirejs) {\n      window.requirejs.config({'packages': {}, 'paths': {}, 'shim': {}});\n      root._bokeh_is_loading = css_urls.length + 0;\n    } else {\n      root._bokeh_is_loading = css_urls.length + js_urls.length + js_modules.length + Object.keys(js_exports).length;\n    }\n\n    const existing_stylesheets = []\n    const links = document.getElementsByTagName('link')\n    for (let i = 0; i < links.length; i++) {\n      const link = links[i]\n      if (link.href != null) {\n        existing_stylesheets.push(link.href)\n      }\n    }\n    for (let i = 0; i < css_urls.length; i++) {\n      const url = css_urls[i];\n      const escaped = encodeURI(url)\n      if (existing_stylesheets.indexOf(escaped) !== -1) {\n        on_load()\n        continue;\n      }\n      const element = document.createElement(\"link\");\n      element.onload = on_load;\n      element.onerror = on_error;\n      element.rel = \"stylesheet\";\n      element.type = \"text/css\";\n      element.href = url;\n      console.debug(\"Bokeh: injecting link tag for BokehJS stylesheet: \", url);\n      document.body.appendChild(element);\n    }    var existing_scripts = []\n    const scripts = document.getElementsByTagName('script')\n    for (let i = 0; i < scripts.length; i++) {\n      var script = scripts[i]\n      if (script.src != null) {\n        existing_scripts.push(script.src)\n      }\n    }\n    for (let i = 0; i < js_urls.length; i++) {\n      const url = js_urls[i];\n      const escaped = encodeURI(url)\n      if (skip.indexOf(escaped) !== -1 || existing_scripts.indexOf(escaped) !== -1) {\n        if (!window.requirejs) {\n          on_load();\n        }\n        continue;\n      }\n      const element = document.createElement('script');\n      element.onload = on_load;\n      element.onerror = on_error;\n      element.async = false;\n      element.src = url;\n      console.debug(\"Bokeh: injecting script tag for BokehJS library: \", url);\n      document.head.appendChild(element);\n    }\n    for (let i = 0; i < js_modules.length; i++) {\n      const url = js_modules[i];\n      const escaped = encodeURI(url)\n      if (skip.indexOf(escaped) !== -1 || existing_scripts.indexOf(escaped) !== -1) {\n        if (!window.requirejs) {\n          on_load();\n        }\n        continue;\n      }\n      var element = document.createElement('script');\n      element.onload = on_load;\n      element.onerror = on_error;\n      element.async = false;\n      element.src = url;\n      element.type = \"module\";\n      console.debug(\"Bokeh: injecting script tag for BokehJS library: \", url);\n      document.head.appendChild(element);\n    }\n    for (const name in js_exports) {\n      const url = js_exports[name];\n      const escaped = encodeURI(url)\n      if (skip.indexOf(escaped) >= 0 || root[name] != null) {\n        if (!window.requirejs) {\n          on_load();\n        }\n        continue;\n      }\n      var element = document.createElement('script');\n      element.onerror = on_error;\n      element.async = false;\n      element.type = \"module\";\n      console.debug(\"Bokeh: injecting script tag for BokehJS library: \", url);\n      element.textContent = `\n      import ${name} from \"${url}\"\n      window.${name} = ${name}\n      window._bokeh_on_load()\n      `\n      document.head.appendChild(element);\n    }\n    if (!js_urls.length && !js_modules.length) {\n      on_load()\n    }\n  };\n\n  function inject_raw_css(css) {\n    const element = document.createElement(\"style\");\n    element.appendChild(document.createTextNode(css));\n    document.body.appendChild(element);\n  }\n\n  const js_urls = [\"https://cdn.holoviz.org/panel/1.5.1/dist/bundled/reactiveesm/es-module-shims@^1.10.0/dist/es-module-shims.min.js\", \"https://cdn.bokeh.org/bokeh/release/bokeh-3.6.0.min.js\", \"https://cdn.bokeh.org/bokeh/release/bokeh-gl-3.6.0.min.js\", \"https://cdn.bokeh.org/bokeh/release/bokeh-widgets-3.6.0.min.js\", \"https://cdn.bokeh.org/bokeh/release/bokeh-tables-3.6.0.min.js\", \"https://cdn.holoviz.org/panel/1.5.1/dist/panel.min.js\"];\n  const js_modules = [];\n  const js_exports = {};\n  const css_urls = [];\n  const inline_js = [    function(Bokeh) {\n      Bokeh.set_log_level(\"info\");\n    },\nfunction(Bokeh) {} // ensure no trailing comma for IE\n  ];\n\n  function run_inline_js() {\n    if ((root.Bokeh !== undefined) || (force === true)) {\n      for (let i = 0; i < inline_js.length; i++) {\n        try {\n          inline_js[i].call(root, root.Bokeh);\n        } catch(e) {\n          if (!reloading) {\n            throw e;\n          }\n        }\n      }\n      // Cache old bokeh versions\n      if (Bokeh != undefined && !reloading) {\n        var NewBokeh = root.Bokeh;\n        if (Bokeh.versions === undefined) {\n          Bokeh.versions = new Map();\n        }\n        if (NewBokeh.version !== Bokeh.version) {\n          Bokeh.versions.set(NewBokeh.version, NewBokeh)\n        }\n        root.Bokeh = Bokeh;\n      }\n    } else if (Date.now() < root._bokeh_timeout) {\n      setTimeout(run_inline_js, 100);\n    } else if (!root._bokeh_failed_load) {\n      console.log(\"Bokeh: BokehJS failed to load within specified timeout.\");\n      root._bokeh_failed_load = true;\n    }\n    root._bokeh_is_initializing = false\n  }\n\n  function load_or_wait() {\n    // Implement a backoff loop that tries to ensure we do not load multiple\n    // versions of Bokeh and its dependencies at the same time.\n    // In recent versions we use the root._bokeh_is_initializing flag\n    // to determine whether there is an ongoing attempt to initialize\n    // bokeh, however for backward compatibility we also try to ensure\n    // that we do not start loading a newer (Panel>=1.0 and Bokeh>3) version\n    // before older versions are fully initialized.\n    if (root._bokeh_is_initializing && Date.now() > root._bokeh_timeout) {\n      // If the timeout and bokeh was not successfully loaded we reset\n      // everything and try loading again\n      root._bokeh_timeout = Date.now() + 5000;\n      root._bokeh_is_initializing = false;\n      root._bokeh_onload_callbacks = undefined;\n      root._bokeh_is_loading = 0\n      console.log(\"Bokeh: BokehJS was loaded multiple times but one version failed to initialize.\");\n      load_or_wait();\n    } else if (root._bokeh_is_initializing || (typeof root._bokeh_is_initializing === \"undefined\" && root._bokeh_onload_callbacks !== undefined)) {\n      setTimeout(load_or_wait, 100);\n    } else {\n      root._bokeh_is_initializing = true\n      root._bokeh_onload_callbacks = []\n      const bokeh_loaded = root.Bokeh != null && (root.Bokeh.version === py_version || (root.Bokeh.versions !== undefined && root.Bokeh.versions.has(py_version)));\n      if (!reloading && !bokeh_loaded) {\n        if (root.Bokeh) {\n          root.Bokeh = undefined;\n        }\n        console.debug(\"Bokeh: BokehJS not loaded, scheduling load and callback at\", now());\n      }\n      load_libs(css_urls, js_urls, js_modules, js_exports, function() {\n        console.debug(\"Bokeh: BokehJS plotting callback run at\", now());\n        run_inline_js();\n      });\n    }\n  }\n  // Give older versions of the autoload script a head-start to ensure\n  // they initialize before we start loading newer version.\n  setTimeout(load_or_wait, 100)\n}(window));",
            "application/vnd.holoviews_load.v0+json": ""
          },
          "metadata": {},
          "output_type": "display_data"
        },
        {
          "data": {
            "application/javascript": "\nif ((window.PyViz === undefined) || (window.PyViz instanceof HTMLElement)) {\n  window.PyViz = {comms: {}, comm_status:{}, kernels:{}, receivers: {}, plot_index: []}\n}\n\n\n    function JupyterCommManager() {\n    }\n\n    JupyterCommManager.prototype.register_target = function(plot_id, comm_id, msg_handler) {\n      if (window.comm_manager || ((window.Jupyter !== undefined) && (Jupyter.notebook.kernel != null))) {\n        var comm_manager = window.comm_manager || Jupyter.notebook.kernel.comm_manager;\n        comm_manager.register_target(comm_id, function(comm) {\n          comm.on_msg(msg_handler);\n        });\n      } else if ((plot_id in window.PyViz.kernels) && (window.PyViz.kernels[plot_id])) {\n        window.PyViz.kernels[plot_id].registerCommTarget(comm_id, function(comm) {\n          comm.onMsg = msg_handler;\n        });\n      } else if (typeof google != 'undefined' && google.colab.kernel != null) {\n        google.colab.kernel.comms.registerTarget(comm_id, (comm) => {\n          var messages = comm.messages[Symbol.asyncIterator]();\n          function processIteratorResult(result) {\n            var message = result.value;\n            console.log(message)\n            var content = {data: message.data, comm_id};\n            var buffers = []\n            for (var buffer of message.buffers || []) {\n              buffers.push(new DataView(buffer))\n            }\n            var metadata = message.metadata || {};\n            var msg = {content, buffers, metadata}\n            msg_handler(msg);\n            return messages.next().then(processIteratorResult);\n          }\n          return messages.next().then(processIteratorResult);\n        })\n      }\n    }\n\n    JupyterCommManager.prototype.get_client_comm = function(plot_id, comm_id, msg_handler) {\n      if (comm_id in window.PyViz.comms) {\n        return window.PyViz.comms[comm_id];\n      } else if (window.comm_manager || ((window.Jupyter !== undefined) && (Jupyter.notebook.kernel != null))) {\n        var comm_manager = window.comm_manager || Jupyter.notebook.kernel.comm_manager;\n        var comm = comm_manager.new_comm(comm_id, {}, {}, {}, comm_id);\n        if (msg_handler) {\n          comm.on_msg(msg_handler);\n        }\n      } else if ((plot_id in window.PyViz.kernels) && (window.PyViz.kernels[plot_id])) {\n        var comm = window.PyViz.kernels[plot_id].connectToComm(comm_id);\n        comm.open();\n        if (msg_handler) {\n          comm.onMsg = msg_handler;\n        }\n      } else if (typeof google != 'undefined' && google.colab.kernel != null) {\n        var comm_promise = google.colab.kernel.comms.open(comm_id)\n        comm_promise.then((comm) => {\n          window.PyViz.comms[comm_id] = comm;\n          if (msg_handler) {\n            var messages = comm.messages[Symbol.asyncIterator]();\n            function processIteratorResult(result) {\n              var message = result.value;\n              var content = {data: message.data};\n              var metadata = message.metadata || {comm_id};\n              var msg = {content, metadata}\n              msg_handler(msg);\n              return messages.next().then(processIteratorResult);\n            }\n            return messages.next().then(processIteratorResult);\n          }\n        }) \n        var sendClosure = (data, metadata, buffers, disposeOnDone) => {\n          return comm_promise.then((comm) => {\n            comm.send(data, metadata, buffers, disposeOnDone);\n          });\n        };\n        var comm = {\n          send: sendClosure\n        };\n      }\n      window.PyViz.comms[comm_id] = comm;\n      return comm;\n    }\n    window.PyViz.comm_manager = new JupyterCommManager();\n    \n\n\nvar JS_MIME_TYPE = 'application/javascript';\nvar HTML_MIME_TYPE = 'text/html';\nvar EXEC_MIME_TYPE = 'application/vnd.holoviews_exec.v0+json';\nvar CLASS_NAME = 'output';\n\n/**\n * Render data to the DOM node\n */\nfunction render(props, node) {\n  var div = document.createElement(\"div\");\n  var script = document.createElement(\"script\");\n  node.appendChild(div);\n  node.appendChild(script);\n}\n\n/**\n * Handle when a new output is added\n */\nfunction handle_add_output(event, handle) {\n  var output_area = handle.output_area;\n  var output = handle.output;\n  if ((output.data == undefined) || (!output.data.hasOwnProperty(EXEC_MIME_TYPE))) {\n    return\n  }\n  var id = output.metadata[EXEC_MIME_TYPE][\"id\"];\n  var toinsert = output_area.element.find(\".\" + CLASS_NAME.split(' ')[0]);\n  if (id !== undefined) {\n    var nchildren = toinsert.length;\n    var html_node = toinsert[nchildren-1].children[0];\n    html_node.innerHTML = output.data[HTML_MIME_TYPE];\n    var scripts = [];\n    var nodelist = html_node.querySelectorAll(\"script\");\n    for (var i in nodelist) {\n      if (nodelist.hasOwnProperty(i)) {\n        scripts.push(nodelist[i])\n      }\n    }\n\n    scripts.forEach( function (oldScript) {\n      var newScript = document.createElement(\"script\");\n      var attrs = [];\n      var nodemap = oldScript.attributes;\n      for (var j in nodemap) {\n        if (nodemap.hasOwnProperty(j)) {\n          attrs.push(nodemap[j])\n        }\n      }\n      attrs.forEach(function(attr) { newScript.setAttribute(attr.name, attr.value) });\n      newScript.appendChild(document.createTextNode(oldScript.innerHTML));\n      oldScript.parentNode.replaceChild(newScript, oldScript);\n    });\n    if (JS_MIME_TYPE in output.data) {\n      toinsert[nchildren-1].children[1].textContent = output.data[JS_MIME_TYPE];\n    }\n    output_area._hv_plot_id = id;\n    if ((window.Bokeh !== undefined) && (id in Bokeh.index)) {\n      window.PyViz.plot_index[id] = Bokeh.index[id];\n    } else {\n      window.PyViz.plot_index[id] = null;\n    }\n  } else if (output.metadata[EXEC_MIME_TYPE][\"server_id\"] !== undefined) {\n    var bk_div = document.createElement(\"div\");\n    bk_div.innerHTML = output.data[HTML_MIME_TYPE];\n    var script_attrs = bk_div.children[0].attributes;\n    for (var i = 0; i < script_attrs.length; i++) {\n      toinsert[toinsert.length - 1].childNodes[1].setAttribute(script_attrs[i].name, script_attrs[i].value);\n    }\n    // store reference to server id on output_area\n    output_area._bokeh_server_id = output.metadata[EXEC_MIME_TYPE][\"server_id\"];\n  }\n}\n\n/**\n * Handle when an output is cleared or removed\n */\nfunction handle_clear_output(event, handle) {\n  var id = handle.cell.output_area._hv_plot_id;\n  var server_id = handle.cell.output_area._bokeh_server_id;\n  if (((id === undefined) || !(id in PyViz.plot_index)) && (server_id !== undefined)) { return; }\n  var comm = window.PyViz.comm_manager.get_client_comm(\"hv-extension-comm\", \"hv-extension-comm\", function () {});\n  if (server_id !== null) {\n    comm.send({event_type: 'server_delete', 'id': server_id});\n    return;\n  } else if (comm !== null) {\n    comm.send({event_type: 'delete', 'id': id});\n  }\n  delete PyViz.plot_index[id];\n  if ((window.Bokeh !== undefined) & (id in window.Bokeh.index)) {\n    var doc = window.Bokeh.index[id].model.document\n    doc.clear();\n    const i = window.Bokeh.documents.indexOf(doc);\n    if (i > -1) {\n      window.Bokeh.documents.splice(i, 1);\n    }\n  }\n}\n\n/**\n * Handle kernel restart event\n */\nfunction handle_kernel_cleanup(event, handle) {\n  delete PyViz.comms[\"hv-extension-comm\"];\n  window.PyViz.plot_index = {}\n}\n\n/**\n * Handle update_display_data messages\n */\nfunction handle_update_output(event, handle) {\n  handle_clear_output(event, {cell: {output_area: handle.output_area}})\n  handle_add_output(event, handle)\n}\n\nfunction register_renderer(events, OutputArea) {\n  function append_mime(data, metadata, element) {\n    // create a DOM node to render to\n    var toinsert = this.create_output_subarea(\n    metadata,\n    CLASS_NAME,\n    EXEC_MIME_TYPE\n    );\n    this.keyboard_manager.register_events(toinsert);\n    // Render to node\n    var props = {data: data, metadata: metadata[EXEC_MIME_TYPE]};\n    render(props, toinsert[0]);\n    element.append(toinsert);\n    return toinsert\n  }\n\n  events.on('output_added.OutputArea', handle_add_output);\n  events.on('output_updated.OutputArea', handle_update_output);\n  events.on('clear_output.CodeCell', handle_clear_output);\n  events.on('delete.Cell', handle_clear_output);\n  events.on('kernel_ready.Kernel', handle_kernel_cleanup);\n\n  OutputArea.prototype.register_mime_type(EXEC_MIME_TYPE, append_mime, {\n    safe: true,\n    index: 0\n  });\n}\n\nif (window.Jupyter !== undefined) {\n  try {\n    var events = require('base/js/events');\n    var OutputArea = require('notebook/js/outputarea').OutputArea;\n    if (OutputArea.prototype.mime_types().indexOf(EXEC_MIME_TYPE) == -1) {\n      register_renderer(events, OutputArea);\n    }\n  } catch(err) {\n  }\n}\n",
            "application/vnd.holoviews_load.v0+json": ""
          },
          "metadata": {},
          "output_type": "display_data"
        },
        {
          "data": {
            "application/vnd.holoviews_exec.v0+json": "",
            "text/html": [
              "<div id='p1701'>\n",
              "  <div id=\"de512d7c-f0e1-4460-a7ac-e9d471e5e86c\" data-root-id=\"p1701\" style=\"display: contents;\"></div>\n",
              "</div>\n",
              "<script type=\"application/javascript\">(function(root) {\n",
              "  var docs_json = {\"7263b937-7705-4e37-b5ca-32d99e289f49\":{\"version\":\"3.6.0\",\"title\":\"Bokeh Application\",\"roots\":[{\"type\":\"object\",\"name\":\"panel.models.browser.BrowserInfo\",\"id\":\"p1701\"},{\"type\":\"object\",\"name\":\"panel.models.comm_manager.CommManager\",\"id\":\"p1702\",\"attributes\":{\"plot_id\":\"p1701\",\"comm_id\":\"8519047295c440f09de1e31d0433f847\",\"client_comm_id\":\"3828038661ba4b39ba74dfaf387f881b\"}}],\"defs\":[{\"type\":\"model\",\"name\":\"ReactiveHTML1\"},{\"type\":\"model\",\"name\":\"FlexBox1\",\"properties\":[{\"name\":\"align_content\",\"kind\":\"Any\",\"default\":\"flex-start\"},{\"name\":\"align_items\",\"kind\":\"Any\",\"default\":\"flex-start\"},{\"name\":\"flex_direction\",\"kind\":\"Any\",\"default\":\"row\"},{\"name\":\"flex_wrap\",\"kind\":\"Any\",\"default\":\"wrap\"},{\"name\":\"gap\",\"kind\":\"Any\",\"default\":\"\"},{\"name\":\"justify_content\",\"kind\":\"Any\",\"default\":\"flex-start\"}]},{\"type\":\"model\",\"name\":\"FloatPanel1\",\"properties\":[{\"name\":\"config\",\"kind\":\"Any\",\"default\":{\"type\":\"map\"}},{\"name\":\"contained\",\"kind\":\"Any\",\"default\":true},{\"name\":\"position\",\"kind\":\"Any\",\"default\":\"right-top\"},{\"name\":\"offsetx\",\"kind\":\"Any\",\"default\":null},{\"name\":\"offsety\",\"kind\":\"Any\",\"default\":null},{\"name\":\"theme\",\"kind\":\"Any\",\"default\":\"primary\"},{\"name\":\"status\",\"kind\":\"Any\",\"default\":\"normalized\"}]},{\"type\":\"model\",\"name\":\"GridStack1\",\"properties\":[{\"name\":\"mode\",\"kind\":\"Any\",\"default\":\"warn\"},{\"name\":\"ncols\",\"kind\":\"Any\",\"default\":null},{\"name\":\"nrows\",\"kind\":\"Any\",\"default\":null},{\"name\":\"allow_resize\",\"kind\":\"Any\",\"default\":true},{\"name\":\"allow_drag\",\"kind\":\"Any\",\"default\":true},{\"name\":\"state\",\"kind\":\"Any\",\"default\":[]}]},{\"type\":\"model\",\"name\":\"drag1\",\"properties\":[{\"name\":\"slider_width\",\"kind\":\"Any\",\"default\":5},{\"name\":\"slider_color\",\"kind\":\"Any\",\"default\":\"black\"},{\"name\":\"value\",\"kind\":\"Any\",\"default\":50}]},{\"type\":\"model\",\"name\":\"click1\",\"properties\":[{\"name\":\"terminal_output\",\"kind\":\"Any\",\"default\":\"\"},{\"name\":\"debug_name\",\"kind\":\"Any\",\"default\":\"\"},{\"name\":\"clears\",\"kind\":\"Any\",\"default\":0}]},{\"type\":\"model\",\"name\":\"FastWrapper1\",\"properties\":[{\"name\":\"object\",\"kind\":\"Any\",\"default\":null},{\"name\":\"style\",\"kind\":\"Any\",\"default\":null}]},{\"type\":\"model\",\"name\":\"NotificationAreaBase1\",\"properties\":[{\"name\":\"js_events\",\"kind\":\"Any\",\"default\":{\"type\":\"map\"}},{\"name\":\"position\",\"kind\":\"Any\",\"default\":\"bottom-right\"},{\"name\":\"_clear\",\"kind\":\"Any\",\"default\":0}]},{\"type\":\"model\",\"name\":\"NotificationArea1\",\"properties\":[{\"name\":\"js_events\",\"kind\":\"Any\",\"default\":{\"type\":\"map\"}},{\"name\":\"notifications\",\"kind\":\"Any\",\"default\":[]},{\"name\":\"position\",\"kind\":\"Any\",\"default\":\"bottom-right\"},{\"name\":\"_clear\",\"kind\":\"Any\",\"default\":0},{\"name\":\"types\",\"kind\":\"Any\",\"default\":[{\"type\":\"map\",\"entries\":[[\"type\",\"warning\"],[\"background\",\"#ffc107\"],[\"icon\",{\"type\":\"map\",\"entries\":[[\"className\",\"fas fa-exclamation-triangle\"],[\"tagName\",\"i\"],[\"color\",\"white\"]]}]]},{\"type\":\"map\",\"entries\":[[\"type\",\"info\"],[\"background\",\"#007bff\"],[\"icon\",{\"type\":\"map\",\"entries\":[[\"className\",\"fas fa-info-circle\"],[\"tagName\",\"i\"],[\"color\",\"white\"]]}]]}]}]},{\"type\":\"model\",\"name\":\"Notification\",\"properties\":[{\"name\":\"background\",\"kind\":\"Any\",\"default\":null},{\"name\":\"duration\",\"kind\":\"Any\",\"default\":3000},{\"name\":\"icon\",\"kind\":\"Any\",\"default\":null},{\"name\":\"message\",\"kind\":\"Any\",\"default\":\"\"},{\"name\":\"notification_type\",\"kind\":\"Any\",\"default\":null},{\"name\":\"_destroyed\",\"kind\":\"Any\",\"default\":false}]},{\"type\":\"model\",\"name\":\"TemplateActions1\",\"properties\":[{\"name\":\"open_modal\",\"kind\":\"Any\",\"default\":0},{\"name\":\"close_modal\",\"kind\":\"Any\",\"default\":0}]},{\"type\":\"model\",\"name\":\"BootstrapTemplateActions1\",\"properties\":[{\"name\":\"open_modal\",\"kind\":\"Any\",\"default\":0},{\"name\":\"close_modal\",\"kind\":\"Any\",\"default\":0}]},{\"type\":\"model\",\"name\":\"TemplateEditor1\",\"properties\":[{\"name\":\"layout\",\"kind\":\"Any\",\"default\":[]}]},{\"type\":\"model\",\"name\":\"MaterialTemplateActions1\",\"properties\":[{\"name\":\"open_modal\",\"kind\":\"Any\",\"default\":0},{\"name\":\"close_modal\",\"kind\":\"Any\",\"default\":0}]},{\"type\":\"model\",\"name\":\"ReactiveESM1\"},{\"type\":\"model\",\"name\":\"JSComponent1\"},{\"type\":\"model\",\"name\":\"ReactComponent1\"},{\"type\":\"model\",\"name\":\"AnyWidgetComponent1\"},{\"type\":\"model\",\"name\":\"request_value1\",\"properties\":[{\"name\":\"fill\",\"kind\":\"Any\",\"default\":\"none\"},{\"name\":\"_synced\",\"kind\":\"Any\",\"default\":null},{\"name\":\"_request_sync\",\"kind\":\"Any\",\"default\":0}]}]}};\n",
              "  var render_items = [{\"docid\":\"7263b937-7705-4e37-b5ca-32d99e289f49\",\"roots\":{\"p1701\":\"de512d7c-f0e1-4460-a7ac-e9d471e5e86c\"},\"root_ids\":[\"p1701\"]}];\n",
              "  var docs = Object.values(docs_json)\n",
              "  if (!docs) {\n",
              "    return\n",
              "  }\n",
              "  const py_version = docs[0].version.replace('rc', '-rc.').replace('.dev', '-dev.')\n",
              "  async function embed_document(root) {\n",
              "    var Bokeh = get_bokeh(root)\n",
              "    await Bokeh.embed.embed_items_notebook(docs_json, render_items);\n",
              "    for (const render_item of render_items) {\n",
              "      for (const root_id of render_item.root_ids) {\n",
              "\tconst id_el = document.getElementById(root_id)\n",
              "\tif (id_el.children.length && id_el.children[0].hasAttribute('data-root-id')) {\n",
              "\t  const root_el = id_el.children[0]\n",
              "\t  root_el.id = root_el.id + '-rendered'\n",
              "\t  for (const child of root_el.children) {\n",
              "            // Ensure JupyterLab does not capture keyboard shortcuts\n",
              "            // see: https://jupyterlab.readthedocs.io/en/4.1.x/extension/notebook.html#keyboard-interaction-model\n",
              "\t    child.setAttribute('data-lm-suppress-shortcuts', 'true')\n",
              "\t  }\n",
              "\t}\n",
              "      }\n",
              "    }\n",
              "  }\n",
              "  function get_bokeh(root) {\n",
              "    if (root.Bokeh === undefined) {\n",
              "      return null\n",
              "    } else if (root.Bokeh.version !== py_version) {\n",
              "      if (root.Bokeh.versions === undefined || !root.Bokeh.versions.has(py_version)) {\n",
              "\treturn null\n",
              "      }\n",
              "      return root.Bokeh.versions.get(py_version);\n",
              "    } else if (root.Bokeh.version === py_version) {\n",
              "      return root.Bokeh\n",
              "    }\n",
              "    return null\n",
              "  }\n",
              "  function is_loaded(root) {\n",
              "    var Bokeh = get_bokeh(root)\n",
              "    return (Bokeh != null && Bokeh.Panel !== undefined)\n",
              "  }\n",
              "  if (is_loaded(root)) {\n",
              "    embed_document(root);\n",
              "  } else {\n",
              "    var attempts = 0;\n",
              "    var timer = setInterval(function(root) {\n",
              "      if (is_loaded(root)) {\n",
              "        clearInterval(timer);\n",
              "        embed_document(root);\n",
              "      } else if (document.readyState == \"complete\") {\n",
              "        attempts++;\n",
              "        if (attempts > 200) {\n",
              "          clearInterval(timer);\n",
              "\t  var Bokeh = get_bokeh(root)\n",
              "\t  if (Bokeh == null || Bokeh.Panel == null) {\n",
              "            console.warn(\"Panel: ERROR: Unable to run Panel code because Bokeh or Panel library is missing\");\n",
              "\t  } else {\n",
              "\t    console.warn(\"Panel: WARNING: Attempting to render but not all required libraries could be resolved.\")\n",
              "\t    embed_document(root)\n",
              "\t  }\n",
              "        }\n",
              "      }\n",
              "    }, 25, root)\n",
              "  }\n",
              "})(window);</script>"
            ]
          },
          "metadata": {
            "application/vnd.holoviews_exec.v0+json": {
              "id": "p1701"
            }
          },
          "output_type": "display_data"
        }
      ],
      "source": [
        "import hvplot.polars"
      ]
    },
    {
      "cell_type": "code",
      "execution_count": 811,
      "metadata": {
        "id": "bQ3_dsZP3JKs"
      },
      "outputs": [
        {
          "data": {},
          "metadata": {},
          "output_type": "display_data"
        },
        {
          "data": {
            "application/vnd.holoviews_exec.v0+json": "",
            "text/html": [
              "<div id='p1703'>\n",
              "  <div id=\"ffd725a3-fbe5-4831-8598-c6073ec5fe4f\" data-root-id=\"p1703\" style=\"display: contents;\"></div>\n",
              "</div>\n",
              "<script type=\"application/javascript\">(function(root) {\n",
              "  var docs_json = {\"176c2344-e52b-409a-a2fc-960ff9d2f662\":{\"version\":\"3.6.0\",\"title\":\"Bokeh Application\",\"roots\":[{\"type\":\"object\",\"name\":\"Row\",\"id\":\"p1703\",\"attributes\":{\"name\":\"Row01575\",\"tags\":[\"embedded\"],\"stylesheets\":[\"\\n:host(.pn-loading):before, .pn-loading:before {\\n  background-color: #c3c3c3;\\n  mask-size: auto calc(min(50%, 400px));\\n  -webkit-mask-size: auto calc(min(50%, 400px));\\n}\",{\"type\":\"object\",\"name\":\"ImportedStyleSheet\",\"id\":\"p1706\",\"attributes\":{\"url\":\"https://cdn.holoviz.org/panel/1.5.1/dist/css/loading.css\"}},{\"type\":\"object\",\"name\":\"ImportedStyleSheet\",\"id\":\"p1776\",\"attributes\":{\"url\":\"https://cdn.holoviz.org/panel/1.5.1/dist/css/listpanel.css\"}},{\"type\":\"object\",\"name\":\"ImportedStyleSheet\",\"id\":\"p1704\",\"attributes\":{\"url\":\"https://cdn.holoviz.org/panel/1.5.1/dist/bundled/theme/default.css\"}},{\"type\":\"object\",\"name\":\"ImportedStyleSheet\",\"id\":\"p1705\",\"attributes\":{\"url\":\"https://cdn.holoviz.org/panel/1.5.1/dist/bundled/theme/native.css\"}}],\"min_width\":650,\"margin\":0,\"sizing_mode\":\"stretch_width\",\"align\":\"start\",\"children\":[{\"type\":\"object\",\"name\":\"Spacer\",\"id\":\"p1707\",\"attributes\":{\"name\":\"HSpacer01582\",\"stylesheets\":[\"\\n:host(.pn-loading):before, .pn-loading:before {\\n  background-color: #c3c3c3;\\n  mask-size: auto calc(min(50%, 400px));\\n  -webkit-mask-size: auto calc(min(50%, 400px));\\n}\",{\"id\":\"p1706\"},{\"id\":\"p1704\"},{\"id\":\"p1705\"}],\"margin\":0,\"sizing_mode\":\"stretch_width\",\"align\":\"start\"}},{\"type\":\"object\",\"name\":\"Figure\",\"id\":\"p1715\",\"attributes\":{\"width\":650,\"height\":400,\"margin\":[5,10],\"sizing_mode\":\"fixed\",\"align\":\"start\",\"x_range\":{\"type\":\"object\",\"name\":\"Range1d\",\"id\":\"p1708\",\"attributes\":{\"tags\":[[[\"timestamp\",null]],[]],\"start\":1589361230769.231,\"end\":1590331569230.769,\"reset_start\":1589361230769.231,\"reset_end\":1590331569230.769}},\"y_range\":{\"type\":\"object\",\"name\":\"Range1d\",\"id\":\"p1709\",\"attributes\":{\"tags\":[[[\"average_rating\",null]],{\"type\":\"map\",\"entries\":[[\"invert_yaxis\",false],[\"autorange\",false]]}],\"end\":1217.9055555555556,\"reset_start\":0.0,\"reset_end\":1217.9055555555556}},\"x_scale\":{\"type\":\"object\",\"name\":\"LinearScale\",\"id\":\"p1725\"},\"y_scale\":{\"type\":\"object\",\"name\":\"LinearScale\",\"id\":\"p1726\"},\"title\":{\"type\":\"object\",\"name\":\"Title\",\"id\":\"p1718\",\"attributes\":{\"text\":\"\\u0421\\u0440\\u0435\\u0434\\u043d\\u0438\\u0435 \\u0440\\u0435\\u0439\\u0442\\u0438\\u043d\\u0433\\u0438 \\u043f\\u043e \\u0434\\u043d\\u044f\\u043c\",\"text_color\":\"black\",\"text_font_size\":\"12pt\"}},\"renderers\":[{\"type\":\"object\",\"name\":\"GlyphRenderer\",\"id\":\"p1769\",\"attributes\":{\"data_source\":{\"type\":\"object\",\"name\":\"ColumnDataSource\",\"id\":\"p1760\",\"attributes\":{\"selected\":{\"type\":\"object\",\"name\":\"Selection\",\"id\":\"p1761\",\"attributes\":{\"indices\":[],\"line_indices\":[]}},\"selection_policy\":{\"type\":\"object\",\"name\":\"UnionRenderers\",\"id\":\"p1762\"},\"data\":{\"type\":\"map\",\"entries\":[[\"timestamp\",{\"type\":\"ndarray\",\"array\":{\"type\":\"bytes\",\"data\":\"AAAAsQchd0IAAMAWWiF3QgAAgHysIXdCAABA4v4hd0IAAABIUSJ3QgAAwK2jIndCAACAE/Yid0IAAEB5SCN3QgAAwETtI3dCAACAqj8kd0I=\"},\"shape\":[10],\"dtype\":\"float64\",\"order\":\"little\"}],[\"average_rating\",{\"type\":\"ndarray\",\"array\":{\"type\":\"bytes\",\"data\":\"chzHcRwhkkDv7u7u7n6GQDMzMzMzA4dAgynyWTeYjEBJkiRJ0tqJQJIkSZIkyYdAAAAAAACMhUAAAAAAAECCQAAAAAAA4pBAAAAAAAD0hEA=\"},\"shape\":[10],\"dtype\":\"float64\",\"order\":\"little\"}]]}}},\"view\":{\"type\":\"object\",\"name\":\"CDSView\",\"id\":\"p1770\",\"attributes\":{\"filter\":{\"type\":\"object\",\"name\":\"AllIndices\",\"id\":\"p1771\"}}},\"glyph\":{\"type\":\"object\",\"name\":\"VBar\",\"id\":\"p1766\",\"attributes\":{\"tags\":[\"apply_ranges\"],\"x\":{\"type\":\"field\",\"field\":\"timestamp\"},\"width\":{\"type\":\"value\",\"value\":69120000.0},\"top\":{\"type\":\"field\",\"field\":\"average_rating\"},\"line_alpha\":{\"type\":\"value\",\"value\":0.7},\"fill_color\":{\"type\":\"value\",\"value\":\"orange\"},\"fill_alpha\":{\"type\":\"value\",\"value\":0.7},\"hatch_color\":{\"type\":\"value\",\"value\":\"orange\"},\"hatch_alpha\":{\"type\":\"value\",\"value\":0.7}}},\"selection_glyph\":{\"type\":\"object\",\"name\":\"VBar\",\"id\":\"p1772\",\"attributes\":{\"tags\":[\"apply_ranges\"],\"x\":{\"type\":\"field\",\"field\":\"timestamp\"},\"width\":{\"type\":\"value\",\"value\":69120000.0},\"bottom\":{\"type\":\"value\",\"value\":0},\"top\":{\"type\":\"field\",\"field\":\"average_rating\"},\"line_color\":{\"type\":\"value\",\"value\":\"black\"},\"line_alpha\":{\"type\":\"value\",\"value\":0.7},\"line_width\":{\"type\":\"value\",\"value\":1},\"line_join\":{\"type\":\"value\",\"value\":\"bevel\"},\"line_cap\":{\"type\":\"value\",\"value\":\"butt\"},\"line_dash\":{\"type\":\"value\",\"value\":[]},\"line_dash_offset\":{\"type\":\"value\",\"value\":0},\"fill_color\":{\"type\":\"value\",\"value\":\"orange\"},\"fill_alpha\":{\"type\":\"value\",\"value\":0.7},\"hatch_color\":{\"type\":\"value\",\"value\":\"orange\"},\"hatch_alpha\":{\"type\":\"value\",\"value\":0.7},\"hatch_scale\":{\"type\":\"value\",\"value\":12.0},\"hatch_pattern\":{\"type\":\"value\",\"value\":null},\"hatch_weight\":{\"type\":\"value\",\"value\":1.0}}},\"nonselection_glyph\":{\"type\":\"object\",\"name\":\"VBar\",\"id\":\"p1767\",\"attributes\":{\"tags\":[\"apply_ranges\"],\"x\":{\"type\":\"field\",\"field\":\"timestamp\"},\"width\":{\"type\":\"value\",\"value\":69120000.0},\"top\":{\"type\":\"field\",\"field\":\"average_rating\"},\"line_alpha\":{\"type\":\"value\",\"value\":0.7},\"fill_color\":{\"type\":\"value\",\"value\":\"orange\"},\"fill_alpha\":{\"type\":\"value\",\"value\":0.7},\"hatch_color\":{\"type\":\"value\",\"value\":\"orange\"},\"hatch_alpha\":{\"type\":\"value\",\"value\":0.1}}},\"muted_glyph\":{\"type\":\"object\",\"name\":\"VBar\",\"id\":\"p1768\",\"attributes\":{\"tags\":[\"apply_ranges\"],\"x\":{\"type\":\"field\",\"field\":\"timestamp\"},\"width\":{\"type\":\"value\",\"value\":69120000.0},\"top\":{\"type\":\"field\",\"field\":\"average_rating\"},\"line_alpha\":{\"type\":\"value\",\"value\":0.2},\"fill_color\":{\"type\":\"value\",\"value\":\"orange\"},\"fill_alpha\":{\"type\":\"value\",\"value\":0.2},\"hatch_color\":{\"type\":\"value\",\"value\":\"orange\"},\"hatch_alpha\":{\"type\":\"value\",\"value\":0.2}}}}}],\"toolbar\":{\"type\":\"object\",\"name\":\"Toolbar\",\"id\":\"p1724\",\"attributes\":{\"tools\":[{\"type\":\"object\",\"name\":\"WheelZoomTool\",\"id\":\"p1713\",\"attributes\":{\"tags\":[\"hv_created\"],\"renderers\":\"auto\",\"zoom_together\":\"none\"}},{\"type\":\"object\",\"name\":\"HoverTool\",\"id\":\"p1714\",\"attributes\":{\"tags\":[\"hv_created\"],\"renderers\":[{\"id\":\"p1769\"}],\"tooltips\":[[\"timestamp\",\"@{timestamp}{%F %T}\"],[\"average_rating\",\"@{average_rating}\"]],\"formatters\":{\"type\":\"map\",\"entries\":[[\"@{timestamp}\",\"datetime\"]]}}},{\"type\":\"object\",\"name\":\"SaveTool\",\"id\":\"p1749\"},{\"type\":\"object\",\"name\":\"PanTool\",\"id\":\"p1750\"},{\"type\":\"object\",\"name\":\"BoxZoomTool\",\"id\":\"p1751\",\"attributes\":{\"overlay\":{\"type\":\"object\",\"name\":\"BoxAnnotation\",\"id\":\"p1752\",\"attributes\":{\"syncable\":false,\"line_color\":\"black\",\"line_alpha\":1.0,\"line_width\":2,\"line_dash\":[4,4],\"fill_color\":\"lightgrey\",\"fill_alpha\":0.5,\"level\":\"overlay\",\"visible\":false,\"left\":{\"type\":\"number\",\"value\":\"nan\"},\"right\":{\"type\":\"number\",\"value\":\"nan\"},\"top\":{\"type\":\"number\",\"value\":\"nan\"},\"bottom\":{\"type\":\"number\",\"value\":\"nan\"},\"left_units\":\"canvas\",\"right_units\":\"canvas\",\"top_units\":\"canvas\",\"bottom_units\":\"canvas\",\"handles\":{\"type\":\"object\",\"name\":\"BoxInteractionHandles\",\"id\":\"p1758\",\"attributes\":{\"all\":{\"type\":\"object\",\"name\":\"AreaVisuals\",\"id\":\"p1757\",\"attributes\":{\"fill_color\":\"white\",\"hover_fill_color\":\"lightgray\"}}}}}}}},{\"type\":\"object\",\"name\":\"ResetTool\",\"id\":\"p1759\"}],\"active_drag\":{\"id\":\"p1750\"},\"active_scroll\":{\"id\":\"p1713\"}}},\"left\":[{\"type\":\"object\",\"name\":\"LinearAxis\",\"id\":\"p1744\",\"attributes\":{\"ticker\":{\"type\":\"object\",\"name\":\"BasicTicker\",\"id\":\"p1745\",\"attributes\":{\"mantissas\":[1,2,5]}},\"formatter\":{\"type\":\"object\",\"name\":\"BasicTickFormatter\",\"id\":\"p1746\"},\"axis_label\":\"\\u0421\\u0440\\u0435\\u0434\\u043d\\u0438\\u0439 \\u0440\\u0435\\u0439\\u0442\\u0438\\u043d\\u0433\",\"major_label_policy\":{\"type\":\"object\",\"name\":\"AllLabels\",\"id\":\"p1747\"}}}],\"below\":[{\"type\":\"object\",\"name\":\"DatetimeAxis\",\"id\":\"p1727\",\"attributes\":{\"ticker\":{\"type\":\"object\",\"name\":\"DatetimeTicker\",\"id\":\"p1728\",\"attributes\":{\"num_minor_ticks\":5,\"tickers\":[{\"type\":\"object\",\"name\":\"AdaptiveTicker\",\"id\":\"p1729\",\"attributes\":{\"num_minor_ticks\":0,\"mantissas\":[1,2,5],\"max_interval\":500.0}},{\"type\":\"object\",\"name\":\"AdaptiveTicker\",\"id\":\"p1730\",\"attributes\":{\"num_minor_ticks\":0,\"base\":60,\"mantissas\":[1,2,5,10,15,20,30],\"min_interval\":1000.0,\"max_interval\":1800000.0}},{\"type\":\"object\",\"name\":\"AdaptiveTicker\",\"id\":\"p1731\",\"attributes\":{\"num_minor_ticks\":0,\"base\":24,\"mantissas\":[1,2,4,6,8,12],\"min_interval\":3600000.0,\"max_interval\":43200000.0}},{\"type\":\"object\",\"name\":\"DaysTicker\",\"id\":\"p1732\",\"attributes\":{\"days\":[1,2,3,4,5,6,7,8,9,10,11,12,13,14,15,16,17,18,19,20,21,22,23,24,25,26,27,28,29,30,31]}},{\"type\":\"object\",\"name\":\"DaysTicker\",\"id\":\"p1733\",\"attributes\":{\"days\":[1,4,7,10,13,16,19,22,25,28]}},{\"type\":\"object\",\"name\":\"DaysTicker\",\"id\":\"p1734\",\"attributes\":{\"days\":[1,8,15,22]}},{\"type\":\"object\",\"name\":\"DaysTicker\",\"id\":\"p1735\",\"attributes\":{\"days\":[1,15]}},{\"type\":\"object\",\"name\":\"MonthsTicker\",\"id\":\"p1736\",\"attributes\":{\"months\":[0,1,2,3,4,5,6,7,8,9,10,11]}},{\"type\":\"object\",\"name\":\"MonthsTicker\",\"id\":\"p1737\",\"attributes\":{\"months\":[0,2,4,6,8,10]}},{\"type\":\"object\",\"name\":\"MonthsTicker\",\"id\":\"p1738\",\"attributes\":{\"months\":[0,4,8]}},{\"type\":\"object\",\"name\":\"MonthsTicker\",\"id\":\"p1739\",\"attributes\":{\"months\":[0,6]}},{\"type\":\"object\",\"name\":\"YearsTicker\",\"id\":\"p1740\"}]}},\"formatter\":{\"type\":\"object\",\"name\":\"DatetimeTickFormatter\",\"id\":\"p1741\"},\"axis_label\":\"\\u0414\\u0430\\u0442\\u0430\",\"major_label_policy\":{\"type\":\"object\",\"name\":\"AllLabels\",\"id\":\"p1742\"}}}],\"center\":[{\"type\":\"object\",\"name\":\"Grid\",\"id\":\"p1743\",\"attributes\":{\"axis\":{\"id\":\"p1727\"},\"ticker\":{\"id\":\"p1728\"}}},{\"type\":\"object\",\"name\":\"Grid\",\"id\":\"p1748\",\"attributes\":{\"dimension\":1,\"axis\":{\"id\":\"p1744\"},\"ticker\":{\"id\":\"p1745\"}}}],\"min_border_top\":10,\"min_border_bottom\":10,\"min_border_left\":10,\"min_border_right\":10,\"output_backend\":\"webgl\"}},{\"type\":\"object\",\"name\":\"Spacer\",\"id\":\"p1774\",\"attributes\":{\"name\":\"HSpacer01583\",\"stylesheets\":[\"\\n:host(.pn-loading):before, .pn-loading:before {\\n  background-color: #c3c3c3;\\n  mask-size: auto calc(min(50%, 400px));\\n  -webkit-mask-size: auto calc(min(50%, 400px));\\n}\",{\"id\":\"p1706\"},{\"id\":\"p1704\"},{\"id\":\"p1705\"}],\"margin\":0,\"sizing_mode\":\"stretch_width\",\"align\":\"start\"}}]}}],\"defs\":[{\"type\":\"model\",\"name\":\"ReactiveHTML1\"},{\"type\":\"model\",\"name\":\"FlexBox1\",\"properties\":[{\"name\":\"align_content\",\"kind\":\"Any\",\"default\":\"flex-start\"},{\"name\":\"align_items\",\"kind\":\"Any\",\"default\":\"flex-start\"},{\"name\":\"flex_direction\",\"kind\":\"Any\",\"default\":\"row\"},{\"name\":\"flex_wrap\",\"kind\":\"Any\",\"default\":\"wrap\"},{\"name\":\"gap\",\"kind\":\"Any\",\"default\":\"\"},{\"name\":\"justify_content\",\"kind\":\"Any\",\"default\":\"flex-start\"}]},{\"type\":\"model\",\"name\":\"FloatPanel1\",\"properties\":[{\"name\":\"config\",\"kind\":\"Any\",\"default\":{\"type\":\"map\"}},{\"name\":\"contained\",\"kind\":\"Any\",\"default\":true},{\"name\":\"position\",\"kind\":\"Any\",\"default\":\"right-top\"},{\"name\":\"offsetx\",\"kind\":\"Any\",\"default\":null},{\"name\":\"offsety\",\"kind\":\"Any\",\"default\":null},{\"name\":\"theme\",\"kind\":\"Any\",\"default\":\"primary\"},{\"name\":\"status\",\"kind\":\"Any\",\"default\":\"normalized\"}]},{\"type\":\"model\",\"name\":\"GridStack1\",\"properties\":[{\"name\":\"mode\",\"kind\":\"Any\",\"default\":\"warn\"},{\"name\":\"ncols\",\"kind\":\"Any\",\"default\":null},{\"name\":\"nrows\",\"kind\":\"Any\",\"default\":null},{\"name\":\"allow_resize\",\"kind\":\"Any\",\"default\":true},{\"name\":\"allow_drag\",\"kind\":\"Any\",\"default\":true},{\"name\":\"state\",\"kind\":\"Any\",\"default\":[]}]},{\"type\":\"model\",\"name\":\"drag1\",\"properties\":[{\"name\":\"slider_width\",\"kind\":\"Any\",\"default\":5},{\"name\":\"slider_color\",\"kind\":\"Any\",\"default\":\"black\"},{\"name\":\"value\",\"kind\":\"Any\",\"default\":50}]},{\"type\":\"model\",\"name\":\"click1\",\"properties\":[{\"name\":\"terminal_output\",\"kind\":\"Any\",\"default\":\"\"},{\"name\":\"debug_name\",\"kind\":\"Any\",\"default\":\"\"},{\"name\":\"clears\",\"kind\":\"Any\",\"default\":0}]},{\"type\":\"model\",\"name\":\"FastWrapper1\",\"properties\":[{\"name\":\"object\",\"kind\":\"Any\",\"default\":null},{\"name\":\"style\",\"kind\":\"Any\",\"default\":null}]},{\"type\":\"model\",\"name\":\"NotificationAreaBase1\",\"properties\":[{\"name\":\"js_events\",\"kind\":\"Any\",\"default\":{\"type\":\"map\"}},{\"name\":\"position\",\"kind\":\"Any\",\"default\":\"bottom-right\"},{\"name\":\"_clear\",\"kind\":\"Any\",\"default\":0}]},{\"type\":\"model\",\"name\":\"NotificationArea1\",\"properties\":[{\"name\":\"js_events\",\"kind\":\"Any\",\"default\":{\"type\":\"map\"}},{\"name\":\"notifications\",\"kind\":\"Any\",\"default\":[]},{\"name\":\"position\",\"kind\":\"Any\",\"default\":\"bottom-right\"},{\"name\":\"_clear\",\"kind\":\"Any\",\"default\":0},{\"name\":\"types\",\"kind\":\"Any\",\"default\":[{\"type\":\"map\",\"entries\":[[\"type\",\"warning\"],[\"background\",\"#ffc107\"],[\"icon\",{\"type\":\"map\",\"entries\":[[\"className\",\"fas fa-exclamation-triangle\"],[\"tagName\",\"i\"],[\"color\",\"white\"]]}]]},{\"type\":\"map\",\"entries\":[[\"type\",\"info\"],[\"background\",\"#007bff\"],[\"icon\",{\"type\":\"map\",\"entries\":[[\"className\",\"fas fa-info-circle\"],[\"tagName\",\"i\"],[\"color\",\"white\"]]}]]}]}]},{\"type\":\"model\",\"name\":\"Notification\",\"properties\":[{\"name\":\"background\",\"kind\":\"Any\",\"default\":null},{\"name\":\"duration\",\"kind\":\"Any\",\"default\":3000},{\"name\":\"icon\",\"kind\":\"Any\",\"default\":null},{\"name\":\"message\",\"kind\":\"Any\",\"default\":\"\"},{\"name\":\"notification_type\",\"kind\":\"Any\",\"default\":null},{\"name\":\"_destroyed\",\"kind\":\"Any\",\"default\":false}]},{\"type\":\"model\",\"name\":\"TemplateActions1\",\"properties\":[{\"name\":\"open_modal\",\"kind\":\"Any\",\"default\":0},{\"name\":\"close_modal\",\"kind\":\"Any\",\"default\":0}]},{\"type\":\"model\",\"name\":\"BootstrapTemplateActions1\",\"properties\":[{\"name\":\"open_modal\",\"kind\":\"Any\",\"default\":0},{\"name\":\"close_modal\",\"kind\":\"Any\",\"default\":0}]},{\"type\":\"model\",\"name\":\"TemplateEditor1\",\"properties\":[{\"name\":\"layout\",\"kind\":\"Any\",\"default\":[]}]},{\"type\":\"model\",\"name\":\"MaterialTemplateActions1\",\"properties\":[{\"name\":\"open_modal\",\"kind\":\"Any\",\"default\":0},{\"name\":\"close_modal\",\"kind\":\"Any\",\"default\":0}]},{\"type\":\"model\",\"name\":\"ReactiveESM1\"},{\"type\":\"model\",\"name\":\"JSComponent1\"},{\"type\":\"model\",\"name\":\"ReactComponent1\"},{\"type\":\"model\",\"name\":\"AnyWidgetComponent1\"},{\"type\":\"model\",\"name\":\"request_value1\",\"properties\":[{\"name\":\"fill\",\"kind\":\"Any\",\"default\":\"none\"},{\"name\":\"_synced\",\"kind\":\"Any\",\"default\":null},{\"name\":\"_request_sync\",\"kind\":\"Any\",\"default\":0}]}]}};\n",
              "  var render_items = [{\"docid\":\"176c2344-e52b-409a-a2fc-960ff9d2f662\",\"roots\":{\"p1703\":\"ffd725a3-fbe5-4831-8598-c6073ec5fe4f\"},\"root_ids\":[\"p1703\"]}];\n",
              "  var docs = Object.values(docs_json)\n",
              "  if (!docs) {\n",
              "    return\n",
              "  }\n",
              "  const py_version = docs[0].version.replace('rc', '-rc.').replace('.dev', '-dev.')\n",
              "  async function embed_document(root) {\n",
              "    var Bokeh = get_bokeh(root)\n",
              "    await Bokeh.embed.embed_items_notebook(docs_json, render_items);\n",
              "    for (const render_item of render_items) {\n",
              "      for (const root_id of render_item.root_ids) {\n",
              "\tconst id_el = document.getElementById(root_id)\n",
              "\tif (id_el.children.length && id_el.children[0].hasAttribute('data-root-id')) {\n",
              "\t  const root_el = id_el.children[0]\n",
              "\t  root_el.id = root_el.id + '-rendered'\n",
              "\t  for (const child of root_el.children) {\n",
              "            // Ensure JupyterLab does not capture keyboard shortcuts\n",
              "            // see: https://jupyterlab.readthedocs.io/en/4.1.x/extension/notebook.html#keyboard-interaction-model\n",
              "\t    child.setAttribute('data-lm-suppress-shortcuts', 'true')\n",
              "\t  }\n",
              "\t}\n",
              "      }\n",
              "    }\n",
              "  }\n",
              "  function get_bokeh(root) {\n",
              "    if (root.Bokeh === undefined) {\n",
              "      return null\n",
              "    } else if (root.Bokeh.version !== py_version) {\n",
              "      if (root.Bokeh.versions === undefined || !root.Bokeh.versions.has(py_version)) {\n",
              "\treturn null\n",
              "      }\n",
              "      return root.Bokeh.versions.get(py_version);\n",
              "    } else if (root.Bokeh.version === py_version) {\n",
              "      return root.Bokeh\n",
              "    }\n",
              "    return null\n",
              "  }\n",
              "  function is_loaded(root) {\n",
              "    var Bokeh = get_bokeh(root)\n",
              "    return (Bokeh != null && Bokeh.Panel !== undefined)\n",
              "  }\n",
              "  if (is_loaded(root)) {\n",
              "    embed_document(root);\n",
              "  } else {\n",
              "    var attempts = 0;\n",
              "    var timer = setInterval(function(root) {\n",
              "      if (is_loaded(root)) {\n",
              "        clearInterval(timer);\n",
              "        embed_document(root);\n",
              "      } else if (document.readyState == \"complete\") {\n",
              "        attempts++;\n",
              "        if (attempts > 200) {\n",
              "          clearInterval(timer);\n",
              "\t  var Bokeh = get_bokeh(root)\n",
              "\t  if (Bokeh == null || Bokeh.Panel == null) {\n",
              "            console.warn(\"Panel: ERROR: Unable to run Panel code because Bokeh or Panel library is missing\");\n",
              "\t  } else {\n",
              "\t    console.warn(\"Panel: WARNING: Attempting to render but not all required libraries could be resolved.\")\n",
              "\t    embed_document(root)\n",
              "\t  }\n",
              "        }\n",
              "      }\n",
              "    }, 25, root)\n",
              "  }\n",
              "})(window);</script>"
            ],
            "text/plain": [
              ":Bars   [timestamp]   (average_rating)"
            ]
          },
          "execution_count": 811,
          "metadata": {
            "application/vnd.holoviews_exec.v0+json": {
              "id": "p1703"
            }
          },
          "output_type": "execute_result"
        }
      ],
      "source": [
        "plot = average_ratings.hvplot.bar(\n",
        "    x='timestamp',\n",
        "    y='average_rating',\n",
        "    width=650,\n",
        "    height=400,\n",
        "    title='Средние рейтинги по дням',\n",
        "    xlabel='Дата',\n",
        "    ylabel='Средний рейтинг',\n",
        "    color='orange', \n",
        "    alpha=0.7,     \n",
        "    legend='top_right', \n",
        "    grid=True,   \n",
        "    tools=['hover']\n",
        ")\n",
        "plot"
      ]
    },
    {
      "cell_type": "markdown",
      "metadata": {
        "id": "bZB_kTE63JKs"
      },
      "source": [
        "Сохраните график в формате pdf (так он останется векторизованным) или html (тогда останется интерактивным)"
      ]
    },
    {
      "cell_type": "code",
      "execution_count": 812,
      "metadata": {
        "id": "35bHvSsV3JKt"
      },
      "outputs": [],
      "source": [
        "# your code here\n",
        "hvplot.save(plot, 'average_ratings_plot.html')"
      ]
    },
    {
      "cell_type": "markdown",
      "metadata": {
        "id": "EvWtDBRp3JKt"
      },
      "source": [
        "### 2. Распределение студентов по курсам."
      ]
    },
    {
      "cell_type": "markdown",
      "metadata": {
        "id": "zTPksBGL3JKt"
      },
      "source": [
        "<span style=\"color:red\">!!!ВНИМАТЕЛЬНО ИЗУЧИТЕ ТЕКСТ НИЖЕ!!!</span>.\n",
        "\n",
        "<span style=\"color:orange\">Если во время выполнения заданий у вас вознинут вопросы -- еще раз перечитайте текст целиком, скорее всего ответы уже содержатся в нем.</span>\n",
        "\n",
        "Теперь вам нужно распределить студентов по осенним курсам по выбору, учитывая их предпочтения."
      ]
    },
    {
      "cell_type": "markdown",
      "metadata": {
        "id": "S5lk67UA3JKt"
      },
      "source": [
        "## 📌 **Алгоритм распределения студентов по курсам**:\n",
        "1. По умолчанию на каждой дисциплине по выбору у 3 и 4 курсов может учиться 1 группа (до 30 студентов). Исключения описаны ниже. На blended-дисциплинах для четверокурсников количество мест не ограничено.\n",
        "2. Проводится первая волна отбора. Для каждой дисциплины формируется список тех, кто указал её первым приоритетом (если студент должен выбрать два курса по выбору, то для него дисциплины, которые он указал первым и вторым приоритетом, рассматриваются как дисциплины первого приоритета). Если желающих больше, чем мест, то выбирается топ по перцентилю рейтинга.\n",
        "3. На дисциплинах, где остались места после первой волны, формируются списки тех, кто выбрал их вторым приоритетом, и места заполняются лучшими по перцентили рейтинга студентами. После этого проводится такая же процедура для дисциплин третьего приоритета.\n",
        "4. Если студент не попал на необходимое количество курсов по итогам трёх волн, с ним связывается учебный офис и решает вопрос в индивидуальном порядке."
      ]
    },
    {
      "cell_type": "markdown",
      "metadata": {
        "id": "Ux4yMPan3JKu"
      },
      "source": [
        "## ☝️ **Обращаем ваше внимание на следующие детали:**\n",
        "\n",
        "- Конкурс на каждый курс общий для 3-го и 4-го курса\n",
        "\n",
        "- По умолчанию студент выбирает один осенний и один весенний курс по выбору, а также четверокурсники выбирают один blended-курс. Студенты групп 17-го года специализаций МОП и ТИ выбирают по 2 осенних и 2 весенних курса по выбору, также студенты групп 18' специализации МИ выбирают 2 осенних курса. <i>Для студентов, которые выбирают 2 курса (например, осенних) первый приоритет — <code>fall_1</code> и <code>fall_2</code>, второй приоритет — <code>fall_3</code>. Такие студенты участвуют только в двух волнах отбора</i>.\n",
        "\n",
        "- Студенты специализации МОП не могут выбрать весенним курсом по выбору Машинное обучение 2. **Если студент специализации МОП выбрал Машинное обучение 2, то его приоритеты сдвигаются.** Из-за совпадений первого и второго курса по выбору двигать приоритеты не надо.\n",
        "\n",
        "- Blended-курсы не трогайте, по ним не надо распределять, на другие курсы они никак не влияют.\n",
        "\n",
        "- Заведомо известно, что в процессе распределения не возникнет ситуации, когда на одно место претендуют студенты с одинаковым перцентилем.\n",
        "\n",
        "- Постарайтесь воздержаться от использования циклов там, где это возможно. <i>Допустимо итерироваться по <b>курсам</b>, на которые проводится отбор, и по <b>волнам</b> отбора. Если вы придумаете, как обойтись и без этих циклов, то на усмотрение проверяющего могут быть добавлены бонусные баллы. <b>Дублирование кода не признается успешным избавлением от циклов</b></i>\n",
        "\n",
        "- На выходе ожидается файл res_fall.csv с результатами распределения на осенние курсы по выбору. Файл должен быть следующего формата:\n",
        "\n",
        "    * три столбца: ID, course1, course2\n",
        "    \n",
        "    * Если студент не попал на курс, но должен был, то вместо названия курса в ячейке должна быть строка \"???\"\n",
        "    \n",
        "    * Если студент должен выбрать только один курс, то в колонке course2 для него должна стоять строка \"-\"\n",
        "\n",
        "    * Если студент должен выбрать два курса по выбору, то порядок в колонках course1 и course2 не важен.\n",
        "    \n",
        "    * Формат csv: для сохранения воспользуйтесь `df.write_csv('solution.csv')`"
      ]
    },
    {
      "cell_type": "markdown",
      "metadata": {
        "id": "q4b6w14cS_rW"
      },
      "source": [
        "Для работы вам могут понадобиться следующие данные:\n",
        "\n",
        "- Результаты опроса (вы уже использовали этот файл в первой части задания, но на всякий случай ссылка: https://www.dropbox.com/s/f4rm8sjc3v99p0m/_end_seminar.xlsx?dl=0)\n",
        "\n",
        "- Соответствие номеров групп специализациям:\n",
        "\n",
        "    * 171, 172 - МОП; 173 - ТИ; 174 — АДИС; 175, 176 — РС; 177 — АПР\n",
        "    \n",
        "    * У студентов 18-го года номера групп соответствуют номерам до распределения по специализациям. Это означает, что по номеру группы 18* нельзя однозначно определить специализацию студента. При этом в рамках распределения важно знать информацию только о двух из них: МОП и МИ. Эти знание можно получить из колонок 'is_ml_student ' и 'is_mi' соответственно.\n",
        "\n",
        "- Ограничения по количеству мест на курсах по выбору:\n",
        "\n",
        "    * Осенние: везде 30 мест, кроме Statistical Learning Theory (60 мест), Высокопроизводительных вычислений (60 мест), Анализа неструктурированных данных ($\\infty$ мест)\n",
        "\n",
        "    * Весенние: везде 30 мест, кроме Обучения с подкреплением (60 мест), Анализа данных в бизнесе (60 мест).\n",
        "\n",
        "\n",
        "Кстати, убедитесь, что в данных больше нет пропусков и повторных записей и сериализуйте датафрейм"
      ]
    },
    {
      "cell_type": "markdown",
      "metadata": {
        "id": "vOVE6Do13JKu"
      },
      "source": [
        "#### 0. Проверка\n",
        "\n",
        "Для начала давайте убедимся, что вы успешно выполнили задания первой части и проверим ваши данные на наличие пропусков и повторов:"
      ]
    },
    {
      "cell_type": "code",
      "execution_count": 814,
      "metadata": {
        "id": "tNeCa71zHEe8"
      },
      "outputs": [],
      "source": [
        "df = df.collect(streaming=True)\n",
        "\n",
        "assert df.shape[0] == 347, \"В таблице остались повторы или потеряны данные\"\n",
        "assert df.null_count().sum_horizontal().item() == 0, \"В таблице остались пропуски\""
      ]
    },
    {
      "cell_type": "markdown",
      "metadata": {
        "id": "H7qZDN0y3JKu"
      },
      "source": [
        "Если вы не получили AssertionError, то можете продолжать."
      ]
    },
    {
      "cell_type": "markdown",
      "metadata": {
        "id": "y81hqcoZ3JKu"
      },
      "source": [
        "#### 1. [1 балл] Создайте новый признак, обозначающий, сколько осенних курсов должен выбрать студент\n",
        "\n",
        "В этом вам может помочь информация о специализации и группе студента."
      ]
    },
    {
      "cell_type": "code",
      "execution_count": 815,
      "metadata": {
        "id": "ThOnhPTs3JKv"
      },
      "outputs": [],
      "source": [
        "# (￣^￣)ゞ\n",
        "df = df.with_columns(\n",
        "    (pl.when(pl.col(\"17_group\") != \"\")\n",
        "        .then(\n",
        "            pl.when(pl.col(\"17_group\").is_in([\"171\", \"172\"]))\n",
        "            .then(2)\n",
        "            .when(pl.col(\"17_group\") == \"173\")\n",
        "            .then(2)\n",
        "            .otherwise(1)\n",
        "        )\n",
        "        .otherwise(0) +\n",
        "     pl.when(pl.col(\"18_group\") != 0)\n",
        "        .then(\n",
        "            pl.when(pl.col(\"is_mi\") == 1)\n",
        "            .then(2)\n",
        "            .otherwise(1)\n",
        "        )\n",
        "        .otherwise(0))\n",
        "    .alias(\"fall_courses_required\") \n",
        ")"
      ]
    },
    {
      "cell_type": "markdown",
      "metadata": {
        "id": "hapnRDPU3JKv"
      },
      "source": [
        "Проверка:"
      ]
    },
    {
      "cell_type": "code",
      "execution_count": 816,
      "metadata": {
        "id": "3qK9-jmP3JKv"
      },
      "outputs": [],
      "source": [
        "col_name = \"fall_courses_required\"\n",
        "\n",
        "ids = [\n",
        "    \"2662600c2c37e11e62f6ee0b88452f22\",\n",
        "    \"d555d2805e1d93d4f023e57dc4c8f403\",\n",
        "    \"8fe79f84f36e3a5d2d6745621321302c\",\n",
        "    \"e4caca755ee0bdd711e18fb8084958b5\",\n",
        "]\n",
        "assert (\n",
        "    df.filter(pl.col(\"id\").is_in(ids)).sort(\"id\")[col_name] == [2, 1, 2, 1]\n",
        ").all()"
      ]
    },
    {
      "cell_type": "markdown",
      "metadata": {
        "id": "kty-lzOJ3JKv"
      },
      "source": [
        "#### 2. [2 балла] Распределите студентов в соответствии с первым приоритетом"
      ]
    },
    {
      "cell_type": "code",
      "execution_count": 890,
      "metadata": {},
      "outputs": [
        {
          "data": {
            "text/plain": [
              "{'Statistical Learning Theory': 60,\n",
              " 'Высокопроизводительные вычисления': 60,\n",
              " 'Анализ неструктурированных данных': 100000000.0,\n",
              " 'Теория баз данных': 30,\n",
              " 'Сбор и обработка данных с помощью краудсорсинга': 30,\n",
              " 'Матричные вычисления': 30,\n",
              " 'Принятие решений в условиях риска и неопределённости': 30,\n",
              " 'Безопасность компьютерных систем': 30,\n",
              " 'Язык SQL': 30,\n",
              " 'Моделирование временных рядов': 30,\n",
              " 'Глубинное обучение в обработке звука': 30,\n",
              " 'Байесовские методы машинного обучения': 30}"
            ]
          },
          "execution_count": 890,
          "metadata": {},
          "output_type": "execute_result"
        }
      ],
      "source": [
        "def update_course_capacity(df, semester, course_capacity):\n",
        "    unique_courses = (\n",
        "        df.select(pl.col(f\"{semester}_1\").alias(\"course\"))\n",
        "        .vstack(df.select(pl.col(f\"{semester}_2\").alias(\"course\")))\n",
        "        .vstack(df.select(pl.col(f\"{semester}_3\").alias(\"course\")))\n",
        "        .unique()\n",
        "    )\n",
        "    for course in unique_courses[\"course\"]:\n",
        "        if course not in course_capacity:\n",
        "            course_capacity[course] = 30\n",
        "            \n",
        "    return course_capacity\n",
        "\n",
        "course_capacity_fall = {\n",
        "    \"Statistical Learning Theory\": 60,\n",
        "    \"Высокопроизводительные вычисления\": 60,\n",
        "    'Анализ неструктурированных данных': 1e8\n",
        "}\n",
        "\n",
        "course_capacity_fall = update_course_capacity(df, \"fall\", course_capacity_fall)\n",
        "course_capacity_fall"
      ]
    },
    {
      "cell_type": "code",
      "execution_count": 891,
      "metadata": {},
      "outputs": [],
      "source": [
        "def mark_students(df: pl.DataFrame, course_capacity: dict) -> pl.DataFrame:\n",
        "    result = {}\n",
        "\n",
        "    for course in course_capacity.keys():\n",
        "        df_1 = df.filter(((pl.col('fall_1') == course) | (pl.col('fall_2') == course)) & (pl.col('fall_courses_required') == 2))\n",
        "        df_2 = df.filter((pl.col('fall_1') == course) & (pl.col('fall_courses_required') == 1))\n",
        "        final_df = pl.concat([df_1, df_2])\n",
        "        final_df = final_df.sort('percentile', descending=False)\n",
        "        selected_students = final_df.head(min(course_capacity[course], len(final_df)))\n",
        "        max_rating = selected_students['percentile'].min()\n",
        "        min_rating = selected_students['percentile'].max()\n",
        "\n",
        "        for student_id in selected_students['id']:\n",
        "            student_rating = selected_students.filter(pl.col('id') == student_id)['percentile'].to_numpy()[0]\n",
        "            is_first_place = True if student_rating == max_rating else None\n",
        "            is_last_place = True if student_rating == min_rating else None\n",
        "            \n",
        "            if student_id not in result:\n",
        "                result[student_id] = [is_first_place, is_last_place]\n",
        "            else:\n",
        "                result[student_id][0] = is_first_place if is_first_place is not None else result[student_id][0]\n",
        "                result[student_id][1] = is_last_place if is_last_place is not None else result[student_id][1]\n",
        "\n",
        "\n",
        "    df_not = df.filter(~(pl.col('id').is_in(result.keys())))\n",
        "    for student_id in df_not['id']:\n",
        "        result[student_id] = [None, None]\n",
        "\n",
        "    results_df = pl.DataFrame({\n",
        "        'id': list(result.keys()),\n",
        "        'is_first_place': [value[0] for value in result.values()],\n",
        "        'is_last_place': [value[1] for value in result.values()]\n",
        "    })\n",
        "\n",
        "    return results_df\n",
        "\n",
        "df_wave_1 = mark_students(df, course_capacity_fall)"
      ]
    },
    {
      "cell_type": "markdown",
      "metadata": {
        "id": "YtFzmI0q3JKv"
      },
      "source": [
        "Здесь для проверки приведена таблица, в которой есть 2 дополнительные колонки:\n",
        "    \n",
        "    1) is_first_place - является ли студент лучшим по перцентили хотя бы на одном из курсов, куда он был зачислен\n",
        "    (True / NaN)\n",
        "    \n",
        "    2) is_last_place  - является ли студент худшим по перцентили хотя бы на одном из курсов, куда он был зачислен (True / NaN)"
      ]
    },
    {
      "cell_type": "code",
      "execution_count": 819,
      "metadata": {
        "id": "Fdmh053Y3JKw"
      },
      "outputs": [],
      "source": [
        "!wget  -O '2_task_check.csv' -q 'https://www.dropbox.com/s/v8o2zzq3iz5gc9w/_2_task_check.csv?dl=0'\n",
        "check_df = pl.read_csv('2_task_check.csv')"
      ]
    },
    {
      "cell_type": "markdown",
      "metadata": {
        "id": "eA-fUDln3JKw"
      },
      "source": [
        "После распределения студентов в соответствии с первым приоритетом добавьте в свой датафрейм аналогичные признаки и запустите проверку:"
      ]
    },
    {
      "cell_type": "code",
      "execution_count": 892,
      "metadata": {
        "id": "ueNXylC23JKw"
      },
      "outputs": [],
      "source": [
        "fir_col_name =  \"is_first_place\"\n",
        "last_col_name =  \"is_last_place\"\n",
        "\n",
        "assert (\n",
        "    check_df.sort(\"id\").select(\"is_first_place\", \"is_last_place\")\n",
        "    == df_wave_1.sort(\"id\").select(fir_col_name, last_col_name)\n",
        ").sum().rows() == [(10, 12)]"
      ]
    },
    {
      "cell_type": "markdown",
      "metadata": {
        "id": "qrPM6dpZ3JKw"
      },
      "source": [
        "#### 3. [2 балла] Проведите все три волны отбора студентов на курсы по выбору"
      ]
    },
    {
      "cell_type": "markdown",
      "metadata": {},
      "source": [
        "Мне очень жалко удалять неоптимизированные версии, поэтому я ее тоже оставлю, чтобы были видны страдания.\n",
        "\n",
        "Сделала общую функцию для распределения студентов select_students, остальные можно не смотреть (а не оптимальные и не оценивать пж)"
      ]
    },
    {
      "cell_type": "code",
      "execution_count": 1002,
      "metadata": {},
      "outputs": [],
      "source": [
        "def select_students(df: pl.DataFrame, course_capacity: dict, time: str) -> pl.DataFrame:\n",
        "\n",
        "    result_1 = pl.DataFrame(schema = {\n",
        "    \"id\": str,\n",
        "    \"course\": str}) \n",
        "\n",
        "    result_2 = pl.DataFrame(schema = {\n",
        "    \"id\": str,\n",
        "    \"course\": str}) \n",
        "    \n",
        "    for course in course_capacity.keys():\n",
        "        df_1 = df.filter(((pl.col(f'{time}_1') == course) | (pl.col(f'{time}_2') == course)) & (pl.col(f'{time}_courses_required') == 2))\n",
        "        df_2 = df.filter((pl.col(f'{time}_1') == course) & (pl.col(f'{time}_courses_required') == 1))\n",
        "        final_df = pl.concat([df_1, df_2]).sort('percentile', descending=False)\n",
        "\n",
        "        selected_students = final_df.head(min(course_capacity[course], len(final_df)))\n",
        "        course_capacity[course] -= len(selected_students)\n",
        "        result_2 = pl.concat([result_2, selected_students.filter(pl.col(f'{time}_courses_required') == 2).select(['id', pl.lit(course).alias('course')])])\n",
        "        result_1 = pl.concat([result_1, selected_students.filter(pl.col(f'{time}_courses_required') == 1).select(['id', pl.lit(course).alias('course')])])\n",
        "\n",
        "\n",
        "    r_2 = result_2.group_by('id').agg(pl.count('course').alias('course_count')).filter(pl.col('course_count') < 2)['id'] #выделили челов с 2 курсами, которые недобрали курсы в первую волну\n",
        "    unique_ids = result_1['id'].unique().to_list() + result_2['id'].unique().to_list() # это челы, которык набрали норм курсов себе\n",
        "\n",
        "    df_not = pl.concat([df.filter(~pl.col('id').is_in(unique_ids)),\n",
        "        df.filter(pl.col('id').is_in(r_2))]) # берем всех, не попавших никуда в первую волну и недобравших один курс\n",
        "\n",
        "\n",
        "    for course in course_capacity.keys():\n",
        "        if course_capacity[course] > 0:\n",
        "            df_1 = df_not.filter((pl.col(f'{time}_3') == course) & (pl.col(f'{time}_courses_required') == 2))\n",
        "            df_2 = df_not.filter((pl.col(f'{time}_2') == course) & (pl.col(f'{time}_courses_required') == 1))\n",
        "            df_1 = df_1.filter(~(pl.col(f'{time}_1') == course))\n",
        "            final_df = pl.concat([df_1, df_2]).sort('percentile', descending=False)\n",
        "\n",
        "            selected_students = final_df.head(min(len(final_df), course_capacity[course]))\n",
        "            course_capacity[course] -= len(selected_students)\n",
        "\n",
        "            result_2 = pl.concat([result_2, selected_students.filter(pl.col(f'{time}_courses_required') == 2).select(['id', pl.lit(course).alias('course')])])\n",
        "            result_1 = pl.concat([result_1, selected_students.filter(pl.col(f'{time}_courses_required') == 1).select(['id', pl.lit(course).alias('course')])])\n",
        "\n",
        "    df_not_2 = df.filter(~pl.col('id').is_in(result_1['id'].unique().to_list() + r_2.to_list()))\n",
        "\n",
        "    for course in course_capacity.keys():\n",
        "        if course_capacity[course] > 0:\n",
        "            df_2 = df_not_2.filter((pl.col(f'{time}_3') == course) & (pl.col(f'{time}_courses_required') == 1))\n",
        "            final_df = df_2.sort('percentile', descending=False)\n",
        "\n",
        "            selected_students = final_df.head(min(course_capacity[course], len(final_df)))\n",
        "            course_capacity[course] -= len(selected_students)\n",
        "\n",
        "            result_1 = pl.concat([result_1, selected_students.select(['id', pl.lit(course).alias('course')])])\n",
        "\n",
        "    \n",
        "\n",
        "    all_ids = pl.DataFrame(df.select('id'))\n",
        "    \n",
        "    result_2_list = result_2.group_by('id').agg(\n",
        "    pl.col(\"course\").unique().alias(\"course\"))\n",
        "    \n",
        "    bad_1_course = df.filter((~(pl.col('id').is_in(result_1.select('id'))) & pl.col(f'{time}_courses_required') == 1)).select('id')\n",
        "\n",
        "    res2 = result_2_list.select(\n",
        "    pl.col('id'),\n",
        "    pl.col('course').list.first().alias('course1'),\n",
        "    pl.when(pl.col('course').list.len() == 2)\n",
        "      .then(pl.col('course').list.last())\n",
        "      .otherwise(pl.lit(\"???\"))\n",
        "      .alias('course2'))\n",
        "\n",
        "    final_result = all_ids.join(\n",
        "        result_1.with_columns(pl.lit('-').alias('course2')).rename({'course': 'course1'}),\n",
        "        on='id',\n",
        "        how='left'\n",
        "    )\n",
        "    final_result = final_result.join(res2, on='id', how = 'left')\n",
        "\n",
        "    final_result = final_result.with_columns(\n",
        "    pl.when(pl.col('course1_right').is_not_null()).then(pl.col('course1_right')).otherwise(pl.col('course1')).alias('course1'),\n",
        "    pl.when(pl.col('course2_right').is_not_null()).then(pl.col('course2_right')).otherwise(pl.col('course2')).alias('course2'))\n",
        "\n",
        "    final_result = final_result.drop(['course1_right', 'course2_right'])\n",
        "\n",
        "    \n",
        "    final_result = final_result.with_columns([\n",
        "    pl.col('course1').fill_null('???'),\n",
        "    pl.col('course2').fill_null('???')])\n",
        "\n",
        "    final_result = final_result.with_columns(\n",
        "        pl.when(pl.col('id').is_in(bad_1_course.select('id').unique()))\n",
        "        .then(pl.lit('-'))\n",
        "        .otherwise(pl.col('course2'))\n",
        "        .alias('course2'))\n",
        "    \n",
        "    final_result = final_result.rename({\"id\": \"ID\"})\n",
        "    return final_result"
      ]
    },
    {
      "cell_type": "code",
      "execution_count": 1012,
      "metadata": {},
      "outputs": [],
      "source": [
        "def select_students_fall_not_optimal(df: pl.DataFrame, course_capacity: dict) -> pl.DataFrame:\n",
        "    result_1 = {} # здесь челы с одним курсом по выбору\n",
        "    result_2 = {} # здесь челы с двумя курсами по выбору\n",
        "\n",
        "    # первая волна\n",
        "    for course in course_capacity.keys():\n",
        "        df_1 = df.filter(((pl.col('fall_1') == course) | (pl.col('fall_2') == course)) & (pl.col('fall_courses_required') == 2))\n",
        "        df_2 = df.filter((pl.col('fall_1') == course) & (pl.col('fall_courses_required') == 1))\n",
        "        final_df = pl.concat([df_1, df_2])\n",
        "        final_df = final_df.sort('percentile', descending=False)\n",
        "        selected_students = final_df.head(min(course_capacity[course], len(final_df)))\n",
        "        course_capacity[course] -= len(selected_students)\n",
        "\n",
        "        for student_id in selected_students['id']:\n",
        "            required_courses = df.filter(pl.col('id') == student_id).select('fall_courses_required').to_numpy()[0]\n",
        "            if required_courses == 2:\n",
        "                if student_id not in result_2.keys():\n",
        "                    result_2[student_id] = [course]\n",
        "                else:\n",
        "                    result_2[student_id].append(course)\n",
        "            else:\n",
        "                result_1[student_id] = [course]\n",
        "            \n",
        "\n",
        "    r_2 = []\n",
        "    for i in result_2.keys():\n",
        "        if len(set(result_2[i])) <2:\n",
        "            r_2.append(i)\n",
        "    \n",
        "\n",
        "    # вторая волна\n",
        "    df_not = pl.concat([df.filter(~pl.col('id').is_in(set(result_1.keys()).union(set(result_2.keys())))), df.filter(pl.col('id').is_in(set(r_2)))])\n",
        "    \n",
        "    for course in course_capacity.keys():\n",
        "        if course_capacity[course] > 0:\n",
        "            df_1 = df_not.filter(((pl.col('fall_3') == course)) & (pl.col('fall_courses_required') == 2))\n",
        "            df_2 = df_not.filter((pl.col('fall_2') == course) & (pl.col('fall_courses_required') == 1))\n",
        "            df_1 = df_1.filter(~(pl.col('fall_1') == course))\n",
        "            final_df = pl.concat([df_1, df_2])\n",
        "            final_df = final_df.sort('percentile', descending=False)\n",
        "            selected_students = final_df.head(min(len(final_df), course_capacity[course]))\n",
        "            course_capacity[course] -= len(selected_students)\n",
        "\n",
        "            for student_id in selected_students['id']:\n",
        "                required_courses = df.filter(pl.col('id') == student_id).select('fall_courses_required').to_numpy()[0]\n",
        "                if required_courses == 2:\n",
        "                    if student_id not in result_2.keys():\n",
        "                        result_2[student_id] = [course]\n",
        "                    else:\n",
        "                        result_2[student_id].append(course)\n",
        "                else:\n",
        "                    result_1[student_id] = [course]\n",
        "\n",
        "    # третья волна только для челиков, выбирающих 1 курс\n",
        "    df_not_2 = df.filter(~pl.col('id').is_in(set(result_1.keys()).union(set(r_2))))\n",
        "    for course in course_capacity.keys():\n",
        "        if course_capacity[course] > 0:\n",
        "            df_2 = df_not_2.filter((pl.col('fall_3') == course) & (pl.col('fall_courses_required') == 1))\n",
        "            final_df = df_2.sort('percentile', descending=False)\n",
        "            selected_students = final_df.head(min(course_capacity[course], len(final_df)))\n",
        "            course_capacity[course] -= len(selected_students)\n",
        "\n",
        "            for student_id in selected_students['id']:\n",
        "                result_1[student_id] = [course]\n",
        "\n",
        "    output_data = []\n",
        "    all_results = {**result_1, **result_2}\n",
        "    for student_id, courses in all_results.items():=\n",
        "        required_courses = df.filter(pl.col('id') == student_id).select('fall_courses_required').to_numpy()[0]\n",
        "        if len(set(courses)) == 0:\n",
        "            if required_courses == 2:\n",
        "                output_data.append((student_id, '???', '???'))\n",
        "            elif required_courses == 1:\n",
        "                output_data.append((student_id, '???', '-'))\n",
        "        elif len(set(courses)) == 1:\n",
        "            if required_courses == 2:\n",
        "                output_data.append((student_id, courses[0], '???'))\n",
        "            elif required_courses == 1:\n",
        "                output_data.append((student_id, courses[0], '-'))\n",
        "        else:\n",
        "            output_data.append((student_id, courses[0], courses[1]))\n",
        "\n",
        "    to_contact = df.filter(~pl.col('id').is_in(set(result_1.keys()).union(set(result_2.keys()))))\n",
        "    for student_id in to_contact['id'].to_numpy():\n",
        "        required_courses = df.filter(pl.col('id') == student_id).select('fall_courses_required').to_numpy()[0][0]\n",
        "        \n",
        "        if required_courses == 2:\n",
        "            output_data.append((student_id, '???', '???'))\n",
        "        elif required_courses == 1:\n",
        "            output_data.append((student_id, '???', '-'))\n",
        "\n",
        "    result_df = pl.DataFrame(output_data, schema=[\"ID\", \"course1\", \"course2\"])\n",
        "\n",
        "    return result_df\n"
      ]
    },
    {
      "cell_type": "code",
      "execution_count": 1004,
      "metadata": {},
      "outputs": [],
      "source": [
        "def select_students_fall(df: pl.DataFrame, course_capacity: dict) -> pl.DataFrame:\n",
        "\n",
        "    result_1 = pl.DataFrame(schema = {\n",
        "    \"id\": str,\n",
        "    \"course\": str}) \n",
        "\n",
        "    result_2 = pl.DataFrame(schema = {\n",
        "    \"id\": str,\n",
        "    \"course\": str}) \n",
        "    \n",
        "    for course in course_capacity.keys():\n",
        "        df_1 = df.filter(((pl.col('fall_1') == course) | (pl.col('fall_2') == course)) & (pl.col('fall_courses_required') == 2))\n",
        "        df_2 = df.filter((pl.col('fall_1') == course) & (pl.col('fall_courses_required') == 1))\n",
        "        final_df = pl.concat([df_1, df_2]).sort('percentile', descending=False)\n",
        "\n",
        "        selected_students = final_df.head(min(course_capacity[course], len(final_df)))\n",
        "        course_capacity[course] -= len(selected_students)\n",
        "        result_2 = pl.concat([result_2, selected_students.filter(pl.col('fall_courses_required') == 2).select(['id', pl.lit(course).alias('course')])])\n",
        "        result_1 = pl.concat([result_1, selected_students.filter(pl.col('fall_courses_required') == 1).select(['id', pl.lit(course).alias('course')])])\n",
        "\n",
        "\n",
        "    r_2 = result_2.group_by('id').agg(pl.count('course').alias('course_count')).filter(pl.col('course_count') < 2)['id'] #выделили челов с 2 курсами, которые недобрали курсы в первую волну\n",
        "    unique_ids = result_1['id'].unique().to_list() + result_2['id'].unique().to_list() # это челы, которык набрали норм курсов себе\n",
        "\n",
        "    df_not = pl.concat([df.filter(~pl.col('id').is_in(unique_ids)),\n",
        "        df.filter(pl.col('id').is_in(r_2))]) # берем всех, не попавших никуда в первую волну и недобравших один курс\n",
        "\n",
        "\n",
        "    for course in course_capacity.keys():\n",
        "        if course_capacity[course] > 0:\n",
        "            df_1 = df_not.filter((pl.col('fall_3') == course) & (pl.col('fall_courses_required') == 2))\n",
        "            df_2 = df_not.filter((pl.col('fall_2') == course) & (pl.col('fall_courses_required') == 1))\n",
        "            df_1 = df_1.filter(~(pl.col('fall_1') == course))\n",
        "            final_df = pl.concat([df_1, df_2]).sort('percentile', descending=False)\n",
        "\n",
        "            selected_students = final_df.head(min(len(final_df), course_capacity[course]))\n",
        "            course_capacity[course] -= len(selected_students)\n",
        "\n",
        "            result_2 = pl.concat([result_2, selected_students.filter(pl.col('fall_courses_required') == 2).select(['id', pl.lit(course).alias('course')])])\n",
        "            result_1 = pl.concat([result_1, selected_students.filter(pl.col('fall_courses_required') == 1).select(['id', pl.lit(course).alias('course')])])\n",
        "\n",
        "    df_not_2 = df.filter(~pl.col('id').is_in(result_1['id'].unique().to_list() + r_2.to_list()))\n",
        "\n",
        "    for course in course_capacity.keys():\n",
        "        if course_capacity[course] > 0:\n",
        "            df_2 = df_not_2.filter((pl.col('fall_3') == course) & (pl.col('fall_courses_required') == 1))\n",
        "            final_df = df_2.sort('percentile', descending=False)\n",
        "\n",
        "            selected_students = final_df.head(min(course_capacity[course], len(final_df)))\n",
        "            course_capacity[course] -= len(selected_students)\n",
        "\n",
        "            result_1 = pl.concat([result_1, selected_students.select(['id', pl.lit(course).alias('course')])])\n",
        "\n",
        "    \n",
        "\n",
        "    all_ids = pl.DataFrame(df.select('id'))\n",
        "    \n",
        "    result_2_list = result_2.group_by('id').agg(\n",
        "    pl.col(\"course\").unique().alias(\"course\"))\n",
        "    \n",
        "    bad_1_course = df.filter((~(pl.col('id').is_in(result_1.select('id'))) & pl.col('fall_courses_required') == 1)).select('id')\n",
        "\n",
        "    res2 = result_2_list.select(\n",
        "    pl.col('id'),\n",
        "    pl.col('course').list.first().alias('course1'),\n",
        "    pl.when(pl.col('course').list.len() == 2)\n",
        "      .then(pl.col('course').list.last())\n",
        "      .otherwise(pl.lit(\"???\"))\n",
        "      .alias('course2'))\n",
        "\n",
        "    final_result = all_ids.join(\n",
        "        result_1.with_columns(pl.lit('-').alias('course2')).rename({'course': 'course1'}),\n",
        "        on='id',\n",
        "        how='left'\n",
        "    )\n",
        "    final_result = final_result.join(res2, on='id', how = 'left')\n",
        "\n",
        "    final_result = final_result.with_columns(\n",
        "    pl.when(pl.col('course1_right').is_not_null()).then(pl.col('course1_right')).otherwise(pl.col('course1')).alias('course1'),\n",
        "    pl.when(pl.col('course2_right').is_not_null()).then(pl.col('course2_right')).otherwise(pl.col('course2')).alias('course2'))\n",
        "\n",
        "    final_result = final_result.drop(['course1_right', 'course2_right'])\n",
        "\n",
        "    \n",
        "    final_result = final_result.with_columns([\n",
        "    pl.col('course1').fill_null('???'),\n",
        "    pl.col('course2').fill_null('???')])\n",
        "\n",
        "    final_result = final_result.with_columns(\n",
        "        pl.when(pl.col('id').is_in(bad_1_course.select('id').unique()))\n",
        "        .then(pl.lit('-'))\n",
        "        .otherwise(pl.col('course2'))\n",
        "        .alias('course2'))\n",
        "    \n",
        "    final_result = final_result.rename({\"id\": \"ID\"})\n",
        "    return final_result"
      ]
    },
    {
      "cell_type": "code",
      "execution_count": 1005,
      "metadata": {},
      "outputs": [
        {
          "data": {
            "text/html": [
              "<div><style>\n",
              ".dataframe > thead > tr,\n",
              ".dataframe > tbody > tr {\n",
              "  text-align: right;\n",
              "  white-space: pre-wrap;\n",
              "}\n",
              "</style>\n",
              "<small>shape: (347, 3)</small><table border=\"1\" class=\"dataframe\"><thead><tr><th>ID</th><th>course1</th><th>course2</th></tr><tr><td>str</td><td>str</td><td>str</td></tr></thead><tbody><tr><td>&quot;bba51e2f648cb3323b96858a404dac…</td><td>&quot;Моделирование временных рядов&quot;</td><td>&quot;Анализ неструктурированных дан…</td></tr><tr><td>&quot;bfe75c08c6b7e31d4e7d48c9c5fed6…</td><td>&quot;Безопасность компьютерных сист…</td><td>&quot;-&quot;</td></tr><tr><td>&quot;cabc5ea85cac3029dc2aecc4955f9c…</td><td>&quot;???&quot;</td><td>&quot;-&quot;</td></tr><tr><td>&quot;9808df02cd92ed45df39e6bc748f31…</td><td>&quot;Statistical Learning Theory&quot;</td><td>&quot;-&quot;</td></tr><tr><td>&quot;32fea7beb180e7de64ad408013cc01…</td><td>&quot;???&quot;</td><td>&quot;-&quot;</td></tr><tr><td>&hellip;</td><td>&hellip;</td><td>&hellip;</td></tr><tr><td>&quot;5daee1bd98559bb2c52373e4169422…</td><td>&quot;Statistical Learning Theory&quot;</td><td>&quot;-&quot;</td></tr><tr><td>&quot;f0f6f3881894172a0f04e79b554b49…</td><td>&quot;Принятие решений в условиях ри…</td><td>&quot;-&quot;</td></tr><tr><td>&quot;abceddfa2fc4eae8cff4a4e712abb3…</td><td>&quot;Моделирование временных рядов&quot;</td><td>&quot;-&quot;</td></tr><tr><td>&quot;fc2c60b8004aa91bc272df84628621…</td><td>&quot;Язык SQL&quot;</td><td>&quot;-&quot;</td></tr><tr><td>&quot;6ed89e424179b0510e3f7c0cb7369a…</td><td>&quot;Моделирование временных рядов&quot;</td><td>&quot;-&quot;</td></tr></tbody></table></div>"
            ],
            "text/plain": [
              "shape: (347, 3)\n",
              "┌──────────────────────────────────┬──────────────────────────────────┬────────────────────────────┐\n",
              "│ ID                               ┆ course1                          ┆ course2                    │\n",
              "│ ---                              ┆ ---                              ┆ ---                        │\n",
              "│ str                              ┆ str                              ┆ str                        │\n",
              "╞══════════════════════════════════╪══════════════════════════════════╪════════════════════════════╡\n",
              "│ bba51e2f648cb3323b96858a404dac…  ┆ Моделирование временных рядов    ┆ Анализ неструктурированных │\n",
              "│                                  ┆                                  ┆ дан…                       │\n",
              "│ bfe75c08c6b7e31d4e7d48c9c5fed6…  ┆ Безопасность компьютерных сист…  ┆ -                          │\n",
              "│ cabc5ea85cac3029dc2aecc4955f9c…  ┆ ???                              ┆ -                          │\n",
              "│ 9808df02cd92ed45df39e6bc748f31…  ┆ Statistical Learning Theory      ┆ -                          │\n",
              "│ 32fea7beb180e7de64ad408013cc01…  ┆ ???                              ┆ -                          │\n",
              "│ …                                ┆ …                                ┆ …                          │\n",
              "│ 5daee1bd98559bb2c52373e4169422…  ┆ Statistical Learning Theory      ┆ -                          │\n",
              "│ f0f6f3881894172a0f04e79b554b49…  ┆ Принятие решений в условиях ри…  ┆ -                          │\n",
              "│ abceddfa2fc4eae8cff4a4e712abb3…  ┆ Моделирование временных рядов    ┆ -                          │\n",
              "│ fc2c60b8004aa91bc272df84628621…  ┆ Язык SQL                         ┆ -                          │\n",
              "│ 6ed89e424179b0510e3f7c0cb7369a…  ┆ Моделирование временных рядов    ┆ -                          │\n",
              "└──────────────────────────────────┴──────────────────────────────────┴────────────────────────────┘"
            ]
          },
          "execution_count": 1005,
          "metadata": {},
          "output_type": "execute_result"
        }
      ],
      "source": [
        "def update_course_capacity(df, semester, course_capacity):\n",
        "    unique_courses = (\n",
        "        df.select(pl.col(f\"{semester}_1\").alias(\"course\"))\n",
        "        .vstack(df.select(pl.col(f\"{semester}_2\").alias(\"course\")))\n",
        "        .vstack(df.select(pl.col(f\"{semester}_3\").alias(\"course\")))\n",
        "        .unique()\n",
        "    )\n",
        "    for course in unique_courses[\"course\"]:\n",
        "        if course not in course_capacity:\n",
        "            course_capacity[course] = 30\n",
        "            \n",
        "    return course_capacity\n",
        "\n",
        "course_capacity_fall = {\n",
        "    \"Statistical Learning Theory\": 60,\n",
        "    \"Высокопроизводительные вычисления\": 60,\n",
        "    'Анализ неструктурированных данных': 1e8\n",
        "}\n",
        "\n",
        "course_capacity_fall = update_course_capacity(df, \"fall\", course_capacity_fall)\n",
        "res = select_students(df, course_capacity_fall, 'fall')\n",
        "res"
      ]
    },
    {
      "cell_type": "markdown",
      "metadata": {
        "id": "JgiMyLJz3JKw"
      },
      "source": [
        "**Отправьте свой файл res_fall.csv в контест (будет в ближайшее время, следите за новостями) и прикрепите/укажите ниже ваш никнейм и ссылку на успешную посылку.**"
      ]
    },
    {
      "cell_type": "markdown",
      "metadata": {
        "id": "3za2-Axk3JKw"
      },
      "source": [
        "*Дисклеймер:*\n",
        "\n",
        "Контест выдаётся для самопроверки. Если ваша посылка получила ОК, то код, скорее всего, правильный. Но при этом оценка всё равно может быть снижена в случае обнаружения неэффективностей или ошибок в коде. Если вы сдадите в AnyTask очевидно неработающий код или ноутбук без кода, но при этом в контест будет сдан корректный файл, то это будет расцениваться как плагиат."
      ]
    },
    {
      "cell_type": "markdown",
      "metadata": {
        "id": "jzciJOzo3JKw"
      },
      "source": [
        "На всякий случай просим вас сдать вместе с ноутбуком файл res_fall.csv в anytask"
      ]
    },
    {
      "cell_type": "code",
      "execution_count": 1006,
      "metadata": {},
      "outputs": [],
      "source": [
        "res.write_csv(\"res_fall.csv\")"
      ]
    },
    {
      "cell_type": "markdown",
      "metadata": {
        "id": "XRHWCteT3JKx"
      },
      "source": [
        "### 4. [1 балл] Распределите таким же образом студентов еще и на весенние курсы по выбору.\n",
        "\n",
        "Если ваш код был хорошо структурирован, то это не составит проблем.\n",
        "\n",
        "Если вы выполнили это задание, сдайте среди прочего файл res_spring.csv в таком же формате, как и res_fall.csv."
      ]
    },
    {
      "cell_type": "markdown",
      "metadata": {},
      "source": [
        "Перед тем, как засунуть в ту же функцию код, сдвинем предпочтения для моп-ошибулек."
      ]
    },
    {
      "cell_type": "code",
      "execution_count": 893,
      "metadata": {},
      "outputs": [
        {
          "data": {
            "text/html": [
              "<div><style>\n",
              ".dataframe > thead > tr,\n",
              ".dataframe > tbody > tr {\n",
              "  text-align: right;\n",
              "  white-space: pre-wrap;\n",
              "}\n",
              "</style>\n",
              "<small>shape: (347, 18)</small><table border=\"1\" class=\"dataframe\"><thead><tr><th>timestamp</th><th>id</th><th>rating</th><th>18_group</th><th>is_mi</th><th>fall_1</th><th>fall_2</th><th>fall_3</th><th>spring_1</th><th>spring_2</th><th>spring_3</th><th>is_first_time</th><th>percentile</th><th>17_group</th><th>blended</th><th>is_ml_student</th><th>fall_courses_required</th><th>spring_courses_required</th></tr><tr><td>str</td><td>str</td><td>i64</td><td>i64</td><td>i64</td><td>str</td><td>str</td><td>str</td><td>str</td><td>str</td><td>str</td><td>str</td><td>f64</td><td>str</td><td>str</td><td>bool</td><td>i32</td><td>i32</td></tr></thead><tbody><tr><td>&quot;2020-05-17 18:29:44&quot;</td><td>&quot;bba51e2f648cb3323b96858a404dac…</td><td>1052</td><td>0</td><td>0</td><td>&quot;Сбор и обработка данных с помо…</td><td>&quot;Моделирование временных рядов&quot;</td><td>&quot;Анализ неструктурированных дан…</td><td>&quot;Методы сжатия и передачи медиа…</td><td>&quot;Обучение с подкреплением&quot;</td><td>&quot;Численные методы&quot;</td><td>&quot;Да&quot;</td><td>0.862319</td><td>&quot;172&quot;</td><td>&quot;Соревновательный анализ данных&quot;</td><td>false</td><td>2</td><td>2</td></tr><tr><td>&quot;2020-05-18 17:22:56&quot;</td><td>&quot;bfe75c08c6b7e31d4e7d48c9c5fed6…</td><td>758</td><td>182</td><td>0</td><td>&quot;Безопасность компьютерных сист…</td><td>&quot;Statistical Learning Theory&quot;</td><td>&quot;Матричные вычисления&quot;</td><td>&quot;Дискретная оптимизация&quot;</td><td>&quot;Промышленное программирование …</td><td>&quot;Дополнительные главы прикладно…</td><td>&quot;Да&quot;</td><td>0.022422</td><td>&quot;&quot;</td><td>&quot;&quot;</td><td>true</td><td>1</td><td>1</td></tr><tr><td>&quot;2020-05-18 21:53:48&quot;</td><td>&quot;cabc5ea85cac3029dc2aecc4955f9c…</td><td>686</td><td>182</td><td>0</td><td>&quot;Безопасность компьютерных сист…</td><td>&quot;Сбор и обработка данных с помо…</td><td>&quot;Язык SQL&quot;</td><td>&quot;Дискретная оптимизация&quot;</td><td>&quot;Промышленное программирование …</td><td>&quot;Компьютерные сети&quot;</td><td>&quot;Да&quot;</td><td>0.242152</td><td>&quot;&quot;</td><td>&quot;&quot;</td><td>true</td><td>1</td><td>1</td></tr><tr><td>&quot;2020-05-17 10:27:38&quot;</td><td>&quot;9808df02cd92ed45df39e6bc748f31…</td><td>645</td><td>187</td><td>0</td><td>&quot;Statistical Learning Theory&quot;</td><td>&quot;Моделирование временных рядов&quot;</td><td>&quot;Высокопроизводительные вычисле…</td><td>&quot;Машинное обучение 2&quot;</td><td>&quot;Системы баз данных&quot;</td><td>&quot;Компьютерные сети&quot;</td><td>&quot;Да&quot;</td><td>0.434978</td><td>&quot;&quot;</td><td>&quot;&quot;</td><td>false</td><td>1</td><td>1</td></tr><tr><td>&quot;2020-05-18 18:55:40&quot;</td><td>&quot;32fea7beb180e7de64ad408013cc01…</td><td>539</td><td>185</td><td>0</td><td>&quot;Безопасность компьютерных сист…</td><td>&quot;Язык SQL&quot;</td><td>&quot;Матричные вычисления&quot;</td><td>&quot;Компьютерные сети&quot;</td><td>&quot;Промышленное программирование …</td><td>&quot;Системы баз данных&quot;</td><td>&quot;Да&quot;</td><td>0.910314</td><td>&quot;&quot;</td><td>&quot;&quot;</td><td>true</td><td>1</td><td>1</td></tr><tr><td>&hellip;</td><td>&hellip;</td><td>&hellip;</td><td>&hellip;</td><td>&hellip;</td><td>&hellip;</td><td>&hellip;</td><td>&hellip;</td><td>&hellip;</td><td>&hellip;</td><td>&hellip;</td><td>&hellip;</td><td>&hellip;</td><td>&hellip;</td><td>&hellip;</td><td>&hellip;</td><td>&hellip;</td><td>&hellip;</td></tr><tr><td>&quot;2020-05-16 13:02:24&quot;</td><td>&quot;5daee1bd98559bb2c52373e4169422…</td><td>593</td><td>182</td><td>0</td><td>&quot;Сбор и обработка данных с помо…</td><td>&quot;Statistical Learning Theory&quot;</td><td>&quot;Моделирование временных рядов&quot;</td><td>&quot;Промышленное программирование …</td><td>&quot;Анализ данных в бизнесе&quot;</td><td>&quot;???&quot;</td><td>&quot;Нет&quot;</td><td>0.681614</td><td>&quot;&quot;</td><td>&quot;&quot;</td><td>true</td><td>1</td><td>1</td></tr><tr><td>&quot;2020-05-15 21:55:16&quot;</td><td>&quot;f0f6f3881894172a0f04e79b554b49…</td><td>673</td><td>181</td><td>0</td><td>&quot;Безопасность компьютерных сист…</td><td>&quot;Сбор и обработка данных с помо…</td><td>&quot;Принятие решений в условиях ри…</td><td>&quot;Численные методы&quot;</td><td>&quot;Дополнительные главы прикладно…</td><td>&quot;???&quot;</td><td>&quot;Да&quot;</td><td>0.300448</td><td>&quot;&quot;</td><td>&quot;&quot;</td><td>true</td><td>1</td><td>1</td></tr><tr><td>&quot;2020-05-18 23:01:03&quot;</td><td>&quot;abceddfa2fc4eae8cff4a4e712abb3…</td><td>664</td><td>183</td><td>0</td><td>&quot;Моделирование временных рядов&quot;</td><td>&quot;Принятие решений в условиях ри…</td><td>&quot;Statistical Learning Theory&quot;</td><td>&quot;Промышленное программирование …</td><td>&quot;Дополнительные главы прикладно…</td><td>&quot;???&quot;</td><td>&quot;Да&quot;</td><td>0.345291</td><td>&quot;&quot;</td><td>&quot;&quot;</td><td>true</td><td>1</td><td>1</td></tr><tr><td>&quot;2020-05-18 20:34:07&quot;</td><td>&quot;fc2c60b8004aa91bc272df84628621…</td><td>639</td><td>183</td><td>0</td><td>&quot;Язык SQL&quot;</td><td>&quot;Сбор и обработка данных с помо…</td><td>&quot;Statistical Learning Theory&quot;</td><td>&quot;Системы баз данных&quot;</td><td>&quot;Анализ данных в бизнесе&quot;</td><td>&quot;???&quot;</td><td>&quot;Нет&quot;</td><td>0.461883</td><td>&quot;&quot;</td><td>&quot;&quot;</td><td>true</td><td>1</td><td>1</td></tr><tr><td>&quot;2020-05-18 21:24:23&quot;</td><td>&quot;6ed89e424179b0510e3f7c0cb7369a…</td><td>558</td><td>187</td><td>0</td><td>&quot;Моделирование временных рядов&quot;</td><td>&quot;Матричные вычисления&quot;</td><td>&quot;Язык SQL&quot;</td><td>&quot;Анализ данных в бизнесе&quot;</td><td>&quot;Промышленное программирование …</td><td>&quot;???&quot;</td><td>&quot;Да&quot;</td><td>0.838565</td><td>&quot;&quot;</td><td>&quot;&quot;</td><td>true</td><td>1</td><td>1</td></tr></tbody></table></div>"
            ],
            "text/plain": [
              "shape: (347, 18)\n",
              "┌────────────┬────────────┬────────┬──────────┬───┬────────────┬───────────┬───────────┬───────────┐\n",
              "│ timestamp  ┆ id         ┆ rating ┆ 18_group ┆ … ┆ blended    ┆ is_ml_stu ┆ fall_cour ┆ spring_co │\n",
              "│ ---        ┆ ---        ┆ ---    ┆ ---      ┆   ┆ ---        ┆ dent      ┆ ses_requi ┆ urses_req │\n",
              "│ str        ┆ str        ┆ i64    ┆ i64      ┆   ┆ str        ┆ ---       ┆ red       ┆ uired     │\n",
              "│            ┆            ┆        ┆          ┆   ┆            ┆ bool      ┆ ---       ┆ ---       │\n",
              "│            ┆            ┆        ┆          ┆   ┆            ┆           ┆ i32       ┆ i32       │\n",
              "╞════════════╪════════════╪════════╪══════════╪═══╪════════════╪═══════════╪═══════════╪═══════════╡\n",
              "│ 2020-05-17 ┆ bba51e2f64 ┆ 1052   ┆ 0        ┆ … ┆ Соревноват ┆ false     ┆ 2         ┆ 2         │\n",
              "│ 18:29:44   ┆ 8cb3323b96 ┆        ┆          ┆   ┆ ельный     ┆           ┆           ┆           │\n",
              "│            ┆ 858a404dac ┆        ┆          ┆   ┆ анализ     ┆           ┆           ┆           │\n",
              "│            ┆ …          ┆        ┆          ┆   ┆ данных     ┆           ┆           ┆           │\n",
              "│ 2020-05-18 ┆ bfe75c08c6 ┆ 758    ┆ 182      ┆ … ┆            ┆ true      ┆ 1         ┆ 1         │\n",
              "│ 17:22:56   ┆ b7e31d4e7d ┆        ┆          ┆   ┆            ┆           ┆           ┆           │\n",
              "│            ┆ 48c9c5fed6 ┆        ┆          ┆   ┆            ┆           ┆           ┆           │\n",
              "│            ┆ …          ┆        ┆          ┆   ┆            ┆           ┆           ┆           │\n",
              "│ 2020-05-18 ┆ cabc5ea85c ┆ 686    ┆ 182      ┆ … ┆            ┆ true      ┆ 1         ┆ 1         │\n",
              "│ 21:53:48   ┆ ac3029dc2a ┆        ┆          ┆   ┆            ┆           ┆           ┆           │\n",
              "│            ┆ ecc4955f9c ┆        ┆          ┆   ┆            ┆           ┆           ┆           │\n",
              "│            ┆ …          ┆        ┆          ┆   ┆            ┆           ┆           ┆           │\n",
              "│ 2020-05-17 ┆ 9808df02cd ┆ 645    ┆ 187      ┆ … ┆            ┆ false     ┆ 1         ┆ 1         │\n",
              "│ 10:27:38   ┆ 92ed45df39 ┆        ┆          ┆   ┆            ┆           ┆           ┆           │\n",
              "│            ┆ e6bc748f31 ┆        ┆          ┆   ┆            ┆           ┆           ┆           │\n",
              "│            ┆ …          ┆        ┆          ┆   ┆            ┆           ┆           ┆           │\n",
              "│ 2020-05-18 ┆ 32fea7beb1 ┆ 539    ┆ 185      ┆ … ┆            ┆ true      ┆ 1         ┆ 1         │\n",
              "│ 18:55:40   ┆ 80e7de64ad ┆        ┆          ┆   ┆            ┆           ┆           ┆           │\n",
              "│            ┆ 408013cc01 ┆        ┆          ┆   ┆            ┆           ┆           ┆           │\n",
              "│            ┆ …          ┆        ┆          ┆   ┆            ┆           ┆           ┆           │\n",
              "│ …          ┆ …          ┆ …      ┆ …        ┆ … ┆ …          ┆ …         ┆ …         ┆ …         │\n",
              "│ 2020-05-16 ┆ 5daee1bd98 ┆ 593    ┆ 182      ┆ … ┆            ┆ true      ┆ 1         ┆ 1         │\n",
              "│ 13:02:24   ┆ 559bb2c523 ┆        ┆          ┆   ┆            ┆           ┆           ┆           │\n",
              "│            ┆ 73e4169422 ┆        ┆          ┆   ┆            ┆           ┆           ┆           │\n",
              "│            ┆ …          ┆        ┆          ┆   ┆            ┆           ┆           ┆           │\n",
              "│ 2020-05-15 ┆ f0f6f38818 ┆ 673    ┆ 181      ┆ … ┆            ┆ true      ┆ 1         ┆ 1         │\n",
              "│ 21:55:16   ┆ 94172a0f04 ┆        ┆          ┆   ┆            ┆           ┆           ┆           │\n",
              "│            ┆ e79b554b49 ┆        ┆          ┆   ┆            ┆           ┆           ┆           │\n",
              "│            ┆ …          ┆        ┆          ┆   ┆            ┆           ┆           ┆           │\n",
              "│ 2020-05-18 ┆ abceddfa2f ┆ 664    ┆ 183      ┆ … ┆            ┆ true      ┆ 1         ┆ 1         │\n",
              "│ 23:01:03   ┆ c4eae8cff4 ┆        ┆          ┆   ┆            ┆           ┆           ┆           │\n",
              "│            ┆ a4e712abb3 ┆        ┆          ┆   ┆            ┆           ┆           ┆           │\n",
              "│            ┆ …          ┆        ┆          ┆   ┆            ┆           ┆           ┆           │\n",
              "│ 2020-05-18 ┆ fc2c60b800 ┆ 639    ┆ 183      ┆ … ┆            ┆ true      ┆ 1         ┆ 1         │\n",
              "│ 20:34:07   ┆ 4aa91bc272 ┆        ┆          ┆   ┆            ┆           ┆           ┆           │\n",
              "│            ┆ df84628621 ┆        ┆          ┆   ┆            ┆           ┆           ┆           │\n",
              "│            ┆ …          ┆        ┆          ┆   ┆            ┆           ┆           ┆           │\n",
              "│ 2020-05-18 ┆ 6ed89e4241 ┆ 558    ┆ 187      ┆ … ┆            ┆ true      ┆ 1         ┆ 1         │\n",
              "│ 21:24:23   ┆ 79b0510e3f ┆        ┆          ┆   ┆            ┆           ┆           ┆           │\n",
              "│            ┆ 7c0cb7369a ┆        ┆          ┆   ┆            ┆           ┆           ┆           │\n",
              "│            ┆ …          ┆        ┆          ┆   ┆            ┆           ┆           ┆           │\n",
              "└────────────┴────────────┴────────┴──────────┴───┴────────────┴───────────┴───────────┴───────────┘"
            ]
          },
          "execution_count": 893,
          "metadata": {},
          "output_type": "execute_result"
        }
      ],
      "source": [
        "strange = df.filter(pl.col('is_ml_student') & ((pl.col('spring_1') == \"Машинное обучение 2\") | (pl.col('spring_2') == \"Машинное обучение 2\") | (pl.col('spring_3') == \"Машинное обучение 2\") ))\n",
        "df = df.filter(~pl.col('id').is_in(strange.select('id')))\n",
        "strange_1 = strange.filter(pl.col('spring_1') == \"Машинное обучение 2\")\n",
        "strange_1 = strange_1.with_columns([\n",
        "    pl.when(pl.col('spring_1') == \"Машинное обучение 2\").then(pl.col('spring_2')).otherwise(pl.col('spring_1')).alias('spring_1'),\n",
        "    pl.when(pl.col('spring_2').is_not_null()).then(pl.col('spring_3')).otherwise(pl.col('spring_2')).alias('spring_2'),\n",
        "    pl.lit(\"???\").alias('spring_3')\n",
        "])\n",
        "\n",
        "strange_2 = strange.filter(pl.col('spring_2') == \"Машинное обучение 2\")\n",
        "strange_2 = strange_2.with_columns([\n",
        "    pl.when(pl.col('spring_2') == \"Машинное обучение 2\").then(pl.col('spring_3')).otherwise(pl.col('spring_2')).alias('spring_2'),\n",
        "    pl.lit(\"???\").alias('spring_3')\n",
        "])\n",
        "\n",
        "strange_3 = strange.filter(pl.col('spring_3') == \"Машинное обучение 2\")\n",
        "strange_3 = strange_3.with_columns([\n",
        "    pl.lit(\"???\").alias('spring_3')\n",
        "])\n",
        "\n",
        "strange = pl.concat([strange_1, strange_2, strange_3])\n",
        "df = pl.concat([df, strange])\n",
        "df"
      ]
    },
    {
      "cell_type": "code",
      "execution_count": 1013,
      "metadata": {},
      "outputs": [],
      "source": [
        "def select_students_spring_not_optimal(df: pl.DataFrame, course_capacity: dict) -> pl.DataFrame:\n",
        "    result_1 = {} # здесь челы с одним курсом по выбору\n",
        "    result_2 = {} # здесь челы с двумя курсами по выбору\n",
        "\n",
        "    # первая волна\n",
        "    for course in course_capacity.keys():\n",
        "        df_1 = df.filter(((pl.col('spring_1') == course) | (pl.col('spring_2') == course)) & (pl.col('spring_courses_required') == 2))\n",
        "        df_2 = df.filter((pl.col('spring_1') == course) & (pl.col('spring_courses_required') == 1))\n",
        "        final_df = pl.concat([df_1, df_2])\n",
        "        final_df = final_df.sort('percentile', descending=False)\n",
        "        selected_students = final_df.head(min(course_capacity[course], len(final_df)))\n",
        "        course_capacity[course] -= len(selected_students)\n",
        "\n",
        "        for student_id in selected_students['id']:\n",
        "            required_courses = df.filter(pl.col('id') == student_id).select('spring_courses_required').to_numpy()[0]\n",
        "            if required_courses == 2:\n",
        "                if student_id not in result_2.keys():\n",
        "                    result_2[student_id] = [course]\n",
        "                else:\n",
        "                    result_2[student_id].append(course)\n",
        "            else:\n",
        "                result_1[student_id] = [course]\n",
        "            \n",
        "\n",
        "    r_2 = []\n",
        "    for i in result_2.keys():\n",
        "        if len(set(result_2[i])) <2:\n",
        "            r_2.append(i)\n",
        "    \n",
        "\n",
        "    # вторая волна\n",
        "    df_not = pl.concat([df.filter(~pl.col('id').is_in(set(result_1.keys()).union(set(result_2.keys())))), df.filter(pl.col('id').is_in(set(r_2)))])\n",
        "    \n",
        "    for course in course_capacity.keys():\n",
        "        if course_capacity[course] > 0:\n",
        "            df_1 = df_not.filter(((pl.col('spring_3') == course)) & (pl.col('spring_courses_required') == 2))\n",
        "            df_2 = df_not.filter((pl.col('spring_2') == course) & (pl.col('spring_courses_required') == 1))\n",
        "            df_1 = df_1.filter(~(pl.col('spring_1') == course))\n",
        "            final_df = pl.concat([df_1, df_2])\n",
        "            final_df = final_df.sort('percentile', descending=False)\n",
        "            selected_students = final_df.head(min(len(final_df), course_capacity[course]))\n",
        "            course_capacity[course] -= len(selected_students)\n",
        "\n",
        "            for student_id in selected_students['id']:\n",
        "                required_courses = df.filter(pl.col('id') == student_id).select('spring_courses_required').to_numpy()[0]\n",
        "                if required_courses == 2:\n",
        "                    if student_id not in result_2.keys():\n",
        "                        result_2[student_id] = [course]\n",
        "                    else:\n",
        "                        result_2[student_id].append(course)\n",
        "                else:\n",
        "                    result_1[student_id] = [course]\n",
        "\n",
        "    # третья волна только для челиков, выбирающих 1 курс\n",
        "    df_not_2 = df.filter(~pl.col('id').is_in(set(result_1.keys()).union(set(r_2))))\n",
        "    for course in course_capacity.keys():\n",
        "        if course_capacity[course] > 0:\n",
        "            df_2 = df_not_2.filter((pl.col('spring_3') == course) & (pl.col('spring_courses_required') == 1))\n",
        "            final_df = df_2.sort('percentile', descending=False)\n",
        "            selected_students = final_df.head(min(course_capacity[course], len(final_df)))\n",
        "            course_capacity[course] -= len(selected_students)\n",
        "\n",
        "            for student_id in selected_students['id']:\n",
        "                result_1[student_id] = [course]\n",
        "\n",
        "    output_data = []\n",
        "    all_results = {**result_1, **result_2}\n",
        "    for student_id, courses in all_results.items():\n",
        "        required_courses = df.filter(pl.col('id') == student_id).select('spring_courses_required').to_numpy()[0]\n",
        "        if len(set(courses)) == 0:\n",
        "            if required_courses == 2:\n",
        "                output_data.append((student_id, '???', '???'))\n",
        "            elif required_courses == 1:\n",
        "                output_data.append((student_id, '???', '-'))\n",
        "        elif len(set(courses)) == 1:\n",
        "            if required_courses == 2:\n",
        "                output_data.append((student_id, courses[0], '???'))\n",
        "            elif required_courses == 1:\n",
        "                output_data.append((student_id, courses[0], '-'))\n",
        "        else:\n",
        "            output_data.append((student_id, courses[0], courses[1]))\n",
        "\n",
        "    to_contact = df.filter(~pl.col('id').is_in(set(result_1.keys()).union(set(result_2.keys()))))\n",
        "    for student_id in to_contact['id'].to_numpy():\n",
        "        required_courses = df.filter(pl.col('id') == student_id).select('spring_courses_required').to_numpy()[0][0]\n",
        "        \n",
        "        if required_courses == 2:\n",
        "            output_data.append((student_id, '???', '???'))\n",
        "        elif required_courses == 1:\n",
        "            output_data.append((student_id, '???', '-'))\n",
        "\n",
        "    result_df = pl.DataFrame(output_data, schema=[\"ID\", \"course1\", \"course2\"])\n",
        "\n",
        "    return result_df"
      ]
    },
    {
      "cell_type": "code",
      "execution_count": 1011,
      "metadata": {},
      "outputs": [],
      "source": [
        "def select_students_spring(df: pl.DataFrame, course_capacity: dict) -> pl.DataFrame:\n",
        "\n",
        "    result_1 = pl.DataFrame(schema = {\n",
        "    \"id\": str,\n",
        "    \"course\": str}) \n",
        "\n",
        "    result_2 = pl.DataFrame(schema = {\n",
        "    \"id\": str,\n",
        "    \"course\": str}) \n",
        "    \n",
        "    for course in course_capacity.keys():\n",
        "        df_1 = df.filter(((pl.col('spring_1') == course) | (pl.col('spring_2') == course)) & (pl.col('spring_courses_required') == 2))\n",
        "        df_2 = df.filter((pl.col('spring_1') == course) & (pl.col('spring_courses_required') == 1))\n",
        "        final_df = pl.concat([df_1, df_2]).sort('percentile', descending=False)\n",
        "\n",
        "        selected_students = final_df.head(min(course_capacity[course], len(final_df)))\n",
        "        course_capacity[course] -= len(selected_students)\n",
        "        result_2 = pl.concat([result_2, selected_students.filter(pl.col('spring_courses_required') == 2).select(['id', pl.lit(course).alias('course')])])\n",
        "        result_1 = pl.concat([result_1, selected_students.filter(pl.col('spring_courses_required') == 1).select(['id', pl.lit(course).alias('course')])])\n",
        "\n",
        "\n",
        "    r_2 = result_2.group_by('id').agg(pl.count('course').alias('course_count')).filter(pl.col('course_count') < 2)['id'] #выделили челов с 2 курсами, которые недобрали курсы в первую волну\n",
        "    unique_ids = result_1['id'].unique().to_list() + result_2['id'].unique().to_list() # это челы, которык набрали норм курсов себе\n",
        "\n",
        "    df_not = pl.concat([df.filter(~pl.col('id').is_in(unique_ids)),\n",
        "        df.filter(pl.col('id').is_in(r_2))]) # берем всех, не попавших никуда в первую волну и недобравших один курс\n",
        "\n",
        "\n",
        "    for course in course_capacity.keys():\n",
        "        if course_capacity[course] > 0:\n",
        "            df_1 = df_not.filter((pl.col('spring_3') == course) & (pl.col('spring_courses_required') == 2))\n",
        "            df_2 = df_not.filter((pl.col('spring_2') == course) & (pl.col('spring_courses_required') == 1))\n",
        "            df_1 = df_1.filter(~(pl.col('spring_1') == course))\n",
        "            final_df = pl.concat([df_1, df_2]).sort('percentile', descending=False)\n",
        "\n",
        "            selected_students = final_df.head(min(len(final_df), course_capacity[course]))\n",
        "            course_capacity[course] -= len(selected_students)\n",
        "\n",
        "            result_2 = pl.concat([result_2, selected_students.filter(pl.col('spring_courses_required') == 2).select(['id', pl.lit(course).alias('course')])])\n",
        "            result_1 = pl.concat([result_1, selected_students.filter(pl.col('spring_courses_required') == 1).select(['id', pl.lit(course).alias('course')])])\n",
        "\n",
        "    df_not_2 = df.filter(~pl.col('id').is_in(result_1['id'].unique().to_list() + r_2.to_list()))\n",
        "\n",
        "    for course in course_capacity.keys():\n",
        "        if course_capacity[course] > 0:\n",
        "            df_2 = df_not_2.filter((pl.col('spring_3') == course) & (pl.col('spring_courses_required') == 1))\n",
        "            final_df = df_2.sort('percentile', descending=False)\n",
        "\n",
        "            selected_students = final_df.head(min(course_capacity[course], len(final_df)))\n",
        "            course_capacity[course] -= len(selected_students)\n",
        "\n",
        "            result_1 = pl.concat([result_1, selected_students.select(['id', pl.lit(course).alias('course')])])\n",
        "\n",
        "    \n",
        "\n",
        "    all_ids = pl.DataFrame(df.select('id'))\n",
        "    \n",
        "    result_2_list = result_2.group_by('id').agg(\n",
        "    pl.col(\"course\").unique().alias(\"course\"))\n",
        "    \n",
        "    bad_1_course = df.filter((~(pl.col('id').is_in(result_1.select('id'))) & pl.col('spring_courses_required') == 1)).select('id')\n",
        "\n",
        "    res2 = result_2_list.select(\n",
        "    pl.col('id'),\n",
        "    pl.col('course').list.first().alias('course1'),\n",
        "    pl.when(pl.col('course').list.len() == 2)\n",
        "      .then(pl.col('course').list.last())\n",
        "      .otherwise(pl.lit(\"???\"))\n",
        "      .alias('course2'))\n",
        "\n",
        "    final_result = all_ids.join(\n",
        "        result_1.with_columns(pl.lit('-').alias('course2')).rename({'course': 'course1'}),\n",
        "        on='id',\n",
        "        how='left'\n",
        "    )\n",
        "    final_result = final_result.join(res2, on='id', how = 'left')\n",
        "\n",
        "    final_result = final_result.with_columns(\n",
        "    pl.when(pl.col('course1_right').is_not_null()).then(pl.col('course1_right')).otherwise(pl.col('course1')).alias('course1'),\n",
        "    pl.when(pl.col('course2_right').is_not_null()).then(pl.col('course2_right')).otherwise(pl.col('course2')).alias('course2'))\n",
        "\n",
        "    final_result = final_result.drop(['course1_right', 'course2_right'])\n",
        "\n",
        "    \n",
        "    final_result = final_result.with_columns([\n",
        "    pl.col('course1').fill_null('???'),\n",
        "    pl.col('course2').fill_null('???')])\n",
        "\n",
        "    final_result = final_result.with_columns(\n",
        "        pl.when(pl.col('id').is_in(bad_1_course.select('id').unique()))\n",
        "        .then(pl.lit('-'))\n",
        "        .otherwise(pl.col('course2'))\n",
        "        .alias('course2'))\n",
        "    \n",
        "    final_result = final_result.rename({\"id\": \"ID\"})\n",
        "    return final_result"
      ]
    },
    {
      "cell_type": "code",
      "execution_count": 1007,
      "metadata": {},
      "outputs": [
        {
          "data": {
            "text/html": [
              "<div><style>\n",
              ".dataframe > thead > tr,\n",
              ".dataframe > tbody > tr {\n",
              "  text-align: right;\n",
              "  white-space: pre-wrap;\n",
              "}\n",
              "</style>\n",
              "<small>shape: (347, 3)</small><table border=\"1\" class=\"dataframe\"><thead><tr><th>ID</th><th>course1</th><th>course2</th></tr><tr><td>str</td><td>str</td><td>str</td></tr></thead><tbody><tr><td>&quot;bba51e2f648cb3323b96858a404dac…</td><td>&quot;Обучение с подкреплением&quot;</td><td>&quot;Методы сжатия и передачи медиа…</td></tr><tr><td>&quot;bfe75c08c6b7e31d4e7d48c9c5fed6…</td><td>&quot;Дискретная оптимизация&quot;</td><td>&quot;-&quot;</td></tr><tr><td>&quot;cabc5ea85cac3029dc2aecc4955f9c…</td><td>&quot;Дискретная оптимизация&quot;</td><td>&quot;-&quot;</td></tr><tr><td>&quot;9808df02cd92ed45df39e6bc748f31…</td><td>&quot;Машинное обучение 2&quot;</td><td>&quot;-&quot;</td></tr><tr><td>&quot;32fea7beb180e7de64ad408013cc01…</td><td>&quot;Системы баз данных&quot;</td><td>&quot;-&quot;</td></tr><tr><td>&hellip;</td><td>&hellip;</td><td>&hellip;</td></tr><tr><td>&quot;5daee1bd98559bb2c52373e4169422…</td><td>&quot;Анализ данных в бизнесе&quot;</td><td>&quot;-&quot;</td></tr><tr><td>&quot;f0f6f3881894172a0f04e79b554b49…</td><td>&quot;Численные методы&quot;</td><td>&quot;-&quot;</td></tr><tr><td>&quot;abceddfa2fc4eae8cff4a4e712abb3…</td><td>&quot;Промышленное программирование …</td><td>&quot;-&quot;</td></tr><tr><td>&quot;fc2c60b8004aa91bc272df84628621…</td><td>&quot;Системы баз данных&quot;</td><td>&quot;-&quot;</td></tr><tr><td>&quot;6ed89e424179b0510e3f7c0cb7369a…</td><td>&quot;Анализ данных в бизнесе&quot;</td><td>&quot;-&quot;</td></tr></tbody></table></div>"
            ],
            "text/plain": [
              "shape: (347, 3)\n",
              "┌───────────────────────────────────┬───────────────────────────────────┬──────────────────────────┐\n",
              "│ ID                                ┆ course1                           ┆ course2                  │\n",
              "│ ---                               ┆ ---                               ┆ ---                      │\n",
              "│ str                               ┆ str                               ┆ str                      │\n",
              "╞═══════════════════════════════════╪═══════════════════════════════════╪══════════════════════════╡\n",
              "│ bba51e2f648cb3323b96858a404dac…   ┆ Обучение с подкреплением          ┆ Методы сжатия и передачи │\n",
              "│                                   ┆                                   ┆ медиа…                   │\n",
              "│ bfe75c08c6b7e31d4e7d48c9c5fed6…   ┆ Дискретная оптимизация            ┆ -                        │\n",
              "│ cabc5ea85cac3029dc2aecc4955f9c…   ┆ Дискретная оптимизация            ┆ -                        │\n",
              "│ 9808df02cd92ed45df39e6bc748f31…   ┆ Машинное обучение 2               ┆ -                        │\n",
              "│ 32fea7beb180e7de64ad408013cc01…   ┆ Системы баз данных                ┆ -                        │\n",
              "│ …                                 ┆ …                                 ┆ …                        │\n",
              "│ 5daee1bd98559bb2c52373e4169422…   ┆ Анализ данных в бизнесе           ┆ -                        │\n",
              "│ f0f6f3881894172a0f04e79b554b49…   ┆ Численные методы                  ┆ -                        │\n",
              "│ abceddfa2fc4eae8cff4a4e712abb3…   ┆ Промышленное программирование …   ┆ -                        │\n",
              "│ fc2c60b8004aa91bc272df84628621…   ┆ Системы баз данных                ┆ -                        │\n",
              "│ 6ed89e424179b0510e3f7c0cb7369a…   ┆ Анализ данных в бизнесе           ┆ -                        │\n",
              "└───────────────────────────────────┴───────────────────────────────────┴──────────────────────────┘"
            ]
          },
          "execution_count": 1007,
          "metadata": {},
          "output_type": "execute_result"
        }
      ],
      "source": [
        "df = df.with_columns(\n",
        "    (pl.when(pl.col(\"17_group\") != \"\")\n",
        "        .then(\n",
        "            pl.when(pl.col(\"17_group\").is_in([\"171\", \"172\", \"173\"]))\n",
        "            .then(2)\n",
        "            .otherwise(1) \n",
        "        )\n",
        "        .otherwise(0) +\n",
        "     pl.when(pl.col(\"18_group\") != 0)\n",
        "        .then(1)\n",
        "        .otherwise(0)\n",
        "    )\n",
        "    .alias(\"spring_courses_required\")\n",
        ")\n",
        "\n",
        "course_capacity_spring = {\n",
        "    \"Обучение с подкреплением\": 60, \n",
        "    \"Анализ данных в бизнесе\" : 60\n",
        "}\n",
        "\n",
        "course_capacity_spring = update_course_capacity(df, \"spring\", course_capacity_spring)\n",
        "res = select_students(df, course_capacity_spring, 'spring')\n",
        "res"
      ]
    },
    {
      "cell_type": "code",
      "execution_count": 1008,
      "metadata": {},
      "outputs": [
        {
          "data": {
            "text/plain": [
              "{'Обучение с подкреплением': 0,\n",
              " 'Анализ данных в бизнесе': 28,\n",
              " 'Символьные вычисления': 20,\n",
              " 'Конфликты и кооперация': 10,\n",
              " 'Компьютерное зрение': 0,\n",
              " 'Методы сжатия и передачи медиаданных': 2,\n",
              " 'Дополнительные главы прикладной статистики': 15,\n",
              " 'Генеративные модели в машинном обучении': 12,\n",
              " 'Компьютерные сети': 0,\n",
              " 'Системы баз данных': 13,\n",
              " '???': 30,\n",
              " 'Машинное обучение 2': 0,\n",
              " 'Промышленное программирование на языке Java': 0,\n",
              " 'Численные методы': 14,\n",
              " 'Проектирование и разработка высоконагруженных сервисов': 0,\n",
              " 'Дискретная оптимизация': 0}"
            ]
          },
          "execution_count": 1008,
          "metadata": {},
          "output_type": "execute_result"
        }
      ],
      "source": [
        "course_capacity_spring"
      ]
    },
    {
      "cell_type": "code",
      "execution_count": 1009,
      "metadata": {},
      "outputs": [],
      "source": [
        "res.write_csv(\"res_spring.csv\")"
      ]
    },
    {
      "cell_type": "markdown",
      "metadata": {
        "id": "xw9tt9dH3JKx"
      },
      "source": [
        "**Отправьте свой файл res_spring.csv в контест (будет в ближайшее время, следите за новостями) и прикрепите/укажите ниже ваш никнейм и ссылку на успешную посылку.**"
      ]
    },
    {
      "cell_type": "markdown",
      "metadata": {
        "id": "7aB4Q1fs3JKx"
      },
      "source": [
        "На всякий случай просим вас сдать вместе с ноутбуком файл res_spring.csv в anytask"
      ]
    },
    {
      "cell_type": "markdown",
      "metadata": {
        "id": "M1LivaOx3JKx"
      },
      "source": [
        "Вставьте картинку, описывающую ваш опыт выполнения этого задания:"
      ]
    },
    {
      "cell_type": "code",
      "execution_count": 1016,
      "metadata": {
        "id": "QQ7X5fJW3JKx"
      },
      "outputs": [
        {
          "ename": "SyntaxError",
          "evalue": "invalid syntax (3114456059.py, line 1)",
          "output_type": "error",
          "traceback": [
            "\u001b[0;36m  Cell \u001b[0;32mIn[1016], line 1\u001b[0;36m\u001b[0m\n\u001b[0;31m    <a href=\"https://ibb.co/xmwxHsS\"><img src=\"https://i.ibb.co/z8CqJ5h/photo-2024-10-06-15-55-44.jpg\" alt=\"photo-2024-10-06-15-55-44\" border=\"0\" /></a>\u001b[0m\n\u001b[0m    ^\u001b[0m\n\u001b[0;31mSyntaxError\u001b[0m\u001b[0;31m:\u001b[0m invalid syntax\n"
          ]
        }
      ],
      "source": [
        "<a href=\"https://ibb.co/xmwxHsS\"><img src=\"https://i.ibb.co/z8CqJ5h/photo-2024-10-06-15-55-44.jpg\" alt=\"photo-2024-10-06-15-55-44\" border=\"0\" /></a>"
      ]
    },
    {
      "cell_type": "code",
      "execution_count": 1017,
      "metadata": {},
      "outputs": [
        {
          "ename": "SyntaxError",
          "evalue": "invalid syntax (2038395264.py, line 1)",
          "output_type": "error",
          "traceback": [
            "\u001b[0;36m  Cell \u001b[0;32mIn[1017], line 1\u001b[0;36m\u001b[0m\n\u001b[0;31m    <a href=\"https://ibb.co/8rLWXGV\"><img src=\"https://i.ibb.co/X7rhV6T/photo-2024-10-06-15-55-47.jpg\" alt=\"photo-2024-10-06-15-55-47\" border=\"0\" /></a>\u001b[0m\n\u001b[0m    ^\u001b[0m\n\u001b[0;31mSyntaxError\u001b[0m\u001b[0;31m:\u001b[0m invalid syntax\n"
          ]
        }
      ],
      "source": [
        "<a href=\"https://ibb.co/8rLWXGV\"><img src=\"https://i.ibb.co/X7rhV6T/photo-2024-10-06-15-55-47.jpg\" alt=\"photo-2024-10-06-15-55-47\" border=\"0\" /></a>"
      ]
    }
  ],
  "metadata": {
    "colab": {
      "provenance": []
    },
    "kernelspec": {
      "display_name": "Python 3.12 (myenv)",
      "language": "python",
      "name": "myenv"
    },
    "language_info": {
      "codemirror_mode": {
        "name": "ipython",
        "version": 3
      },
      "file_extension": ".py",
      "mimetype": "text/x-python",
      "name": "python",
      "nbconvert_exporter": "python",
      "pygments_lexer": "ipython3",
      "version": "3.12.7"
    }
  },
  "nbformat": 4,
  "nbformat_minor": 0
}
